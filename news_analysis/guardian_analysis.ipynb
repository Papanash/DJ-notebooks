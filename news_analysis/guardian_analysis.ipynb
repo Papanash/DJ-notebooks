{
 "cells": [
  {
   "cell_type": "markdown",
   "metadata": {},
   "source": [
    "# notes \n"
   ]
  },
  {
   "cell_type": "markdown",
   "metadata": {},
   "source": [
    "## TODO\n",
    "- chart on mobile screen?\n",
    " \n",
    "## scope\n",
    "Online news with api\n",
    "\n",
    "## Insights and facts\n",
    "- Total articles : 2M\n",
    "- env section: 50k\n",
    "- tone - in 2021, explainers 548, analysis 939\n",
    "- contributors https://www.theguardian.com/index/contributors\n",
    "\n",
    "  \n",
    "## content type: \n",
    "- keyword -- \n",
    "- series -- \n",
    "- contributor -- \n",
    "- tone -- analysis, news, comment, features, explainers, others(blog, search: guardian news content tones) \n",
    "- type -- article, liveblog, interative\n",
    "- blog -- \n",
    "\n",
    "## Method\n",
    "- source: https://open-platform.theguardian.com/\n",
    "\n",
    "## ideas\n"
   ]
  },
  {
   "cell_type": "markdown",
   "metadata": {},
   "source": [
    "# init"
   ]
  },
  {
   "cell_type": "code",
   "execution_count": 34,
   "metadata": {},
   "outputs": [],
   "source": [
    "# init\n",
    "\n",
    "import requests as r\n",
    "import pandas as pd\n",
    "import plotly.express as px\n",
    "import plotly.graph_objects as go\n",
    "import plotly.io as pio\n",
    "import sys\n",
    "\n",
    "sys.path.insert(1, '/Users/papanash/workspace/dash/buffaloes/lib')\n",
    "import html_helper as h \n",
    "\n",
    "\n",
    "pio.templates.default = \"plotly_white\"\n",
    "\n",
    "key_param = '&api-key=8e63e9af-bf98-4ed9-ba82-0c5db1884969'\n",
    "years_param = '&from-date=1999-01-01&to-date=2021-10-31'\n",
    "\n",
    "content_api = 'https://content.guardianapis.com/search?' + key_param\n",
    "sections_api = 'https://content.guardianapis.com/sections?' + key_param\n",
    "tags_api = 'https://content.guardianapis.com/tags?section=world&' + key_param\n",
    "\n",
    "country_api = 'https://content.guardianapis.com/search?' + key_param + years_param + '&tag=world/'\n",
    "\n",
    "def get_search_total(s_list):\n",
    "    totals_all = {}\n",
    "    for i in s_list:\n",
    "        result = r.get(content_api + '&q='+ i).json().get('response')\n",
    "        total = result.get('total')\n",
    "        totals_all[i] = total\n",
    "        return totals_all\n",
    "\n",
    "def get_year_total(section = '', tag=''):\n",
    "    totals_all = {}\n",
    "    param = ''\n",
    "    if section:\n",
    "        param = '&section=' + section\n",
    "    elif tag:\n",
    "        param = '&tag=' + tag\n",
    "    \n",
    "    for year in list(range(1999, 2022)):\n",
    "        year_param = '&from-date=' + str(year) + '-01-01' '&to-date=' + str(year) + '-12-31'\n",
    "\n",
    "        result = r.get(content_api + param + year_param).json()\n",
    "\n",
    "        total = result.get('response').get('total')\n",
    "        totals_all[year] = total\n",
    "\n",
    "    return totals_all\n",
    "\n",
    "def get_section_total(tag):\n",
    "\n",
    "    api = 'https://content.guardianapis.com/search?tag=' + tag + key_param\n",
    "\n",
    "    sections = {}\n",
    "\n",
    "    total = r.get(api).json().get('response').get('total')\n",
    "    print('total: ', total)\n",
    "    for i in range(1, round((total / 200)) + 1):\n",
    "        results = r.get(api + f'&page-size=200&page={i}').json().get('response').get('results')\n",
    "\n",
    "        for j in results:\n",
    "            sid = j.get('sectionId')\n",
    "\n",
    "            if sid in sections.keys():\n",
    "                sections[sid] = sections[sid] + 1\n",
    "            else: \n",
    "                sections[sid] = 1\n",
    "\n",
    "    return sections\n",
    "\n",
    "def get_totals_by_section(sections):\n",
    "    totals_all = {}\n",
    "    for section in sections:\n",
    "        section_param = '&section=' + section\n",
    "        result = r.get(content_api + section_param).json()\n",
    "        total = result.get('response').get('total')\n",
    "        totals_all[section] = total\n",
    "\n",
    "    return totals_all\n",
    "\n",
    "def get_totals_by_country(g_countries):\n",
    "    res = {}\n",
    "    for i in g_countries:\n",
    "        total = r.get(country_api + i).json().get('response').get('total')\n",
    "        res[i] = total\n",
    "    return res\n",
    "\n",
    "def get_all_sections():\n",
    "    sections_all = []\n",
    "\n",
    "    result = r.get(sections_api).json()\n",
    "    result = result.get('response').get('results')\n",
    "\n",
    "    for i in result: \n",
    "        sections_all.append(i['id'])\n",
    "\n",
    "    return sections_all\n",
    "\n",
    "def get_all_tags():\n",
    "   res = []\n",
    " \n",
    "   for i in range(1, 8):\n",
    "       response = r.get(tags_api + f'&page-size=200&page={i}').json().get('response').get('results')\n",
    " \n",
    "       for i in response:\n",
    "           res.append(i['id'])\n",
    "  \n",
    "   return res\n",
    "\n",
    "# totals_20y = totals_all.copy()        \n",
    "# for i in [1999, 2000, 2021]:\n",
    "    #     totals_20y.pop(i, None) \n"
   ]
  },
  {
   "cell_type": "code",
   "execution_count": 2,
   "metadata": {},
   "outputs": [],
   "source": [
    "# read\n",
    "df = pd.read_csv('total_articles__year.csv', index_col=0)\n",
    "df_sections = pd.read_csv('guardian_sections.csv', index_col=0)"
   ]
  },
  {
   "cell_type": "code",
   "execution_count": 125,
   "metadata": {},
   "outputs": [],
   "source": [
    "# run\n",
    "\n",
    "# articles in sections and tags by year\n",
    "\n",
    "sections = ['music', 'politics', 'sport', 'football', 'science', 'environment', 'business']\n",
    "\n",
    "env_all = get_totals('environment')\n",
    "\n",
    "df = pd.DataFrame(columns=['year', 'environment'], data={'year': env_all.keys(), 'environment':env_all.values()})\n",
    "df.set_index('year', inplace=True)\n",
    "\n",
    "\n",
    "for s in sections:\n",
    "    totals_all = get_totals_by_year(s)\n",
    "    df[s]  = totals_all.values()\n",
    "\n",
    "for tone in ['features', 'news', 'analysis', 'explainers']:\n",
    "    totals= get_totals_by_year(tag='tone/'+tone)\n",
    "    df['tone_' + tone] = list(totals.values())\n",
    "\n",
    "totals_all = get_totals_by_year()\n",
    "df['all'] = totals_all.values()\n",
    "\n",
    "# all sections\n",
    "all_sections = get_totals(get_all_sections())\n",
    "df1 = pd.DataFrame(columns=['section', 'total'], data={'section': all_sections.keys(), 'total':all_sections.values()})\n",
    "df_sections = df1[df1.total > 6000].sort_values(by='total', ascending=False).reset_index(drop=True)\n"
   ]
  },
  {
   "cell_type": "markdown",
   "metadata": {},
   "source": [
    "# data"
   ]
  },
  {
   "cell_type": "code",
   "execution_count": 23,
   "metadata": {},
   "outputs": [],
   "source": [
    "df.to_csv('total_articles__year.csv')"
   ]
  },
  {
   "cell_type": "code",
   "execution_count": 24,
   "metadata": {},
   "outputs": [
    {
     "data": {
      "text/html": [
       "<div>\n",
       "<style scoped>\n",
       "    .dataframe tbody tr th:only-of-type {\n",
       "        vertical-align: middle;\n",
       "    }\n",
       "\n",
       "    .dataframe tbody tr th {\n",
       "        vertical-align: top;\n",
       "    }\n",
       "\n",
       "    .dataframe thead th {\n",
       "        text-align: right;\n",
       "    }\n",
       "</style>\n",
       "<table border=\"1\" class=\"dataframe\">\n",
       "  <thead>\n",
       "    <tr style=\"text-align: right;\">\n",
       "      <th></th>\n",
       "      <th>environment</th>\n",
       "      <th>music</th>\n",
       "      <th>politics</th>\n",
       "      <th>sport</th>\n",
       "      <th>football</th>\n",
       "      <th>science</th>\n",
       "      <th>tone/features</th>\n",
       "      <th>tone/news</th>\n",
       "      <th>tone/analysis</th>\n",
       "      <th>tone/explainers</th>\n",
       "      <th>all</th>\n",
       "      <th>tone/letters</th>\n",
       "      <th>tone/obituaries</th>\n",
       "      <th>technology/elon-musk</th>\n",
       "      <th>us-news/kamala-harris</th>\n",
       "    </tr>\n",
       "    <tr>\n",
       "      <th>year</th>\n",
       "      <th></th>\n",
       "      <th></th>\n",
       "      <th></th>\n",
       "      <th></th>\n",
       "      <th></th>\n",
       "      <th></th>\n",
       "      <th></th>\n",
       "      <th></th>\n",
       "      <th></th>\n",
       "      <th></th>\n",
       "      <th></th>\n",
       "      <th></th>\n",
       "      <th></th>\n",
       "      <th></th>\n",
       "      <th></th>\n",
       "    </tr>\n",
       "  </thead>\n",
       "  <tbody>\n",
       "    <tr>\n",
       "      <th>1999</th>\n",
       "      <td>247</td>\n",
       "      <td>147</td>\n",
       "      <td>3069</td>\n",
       "      <td>2449</td>\n",
       "      <td>4818</td>\n",
       "      <td>391</td>\n",
       "      <td>1453</td>\n",
       "      <td>3642</td>\n",
       "      <td>61</td>\n",
       "      <td>0</td>\n",
       "      <td>52011</td>\n",
       "      <td>1692</td>\n",
       "      <td>997</td>\n",
       "      <td>0</td>\n",
       "      <td>0</td>\n",
       "    </tr>\n",
       "    <tr>\n",
       "      <th>2000</th>\n",
       "      <td>494</td>\n",
       "      <td>185</td>\n",
       "      <td>3552</td>\n",
       "      <td>2181</td>\n",
       "      <td>5537</td>\n",
       "      <td>569</td>\n",
       "      <td>1455</td>\n",
       "      <td>5283</td>\n",
       "      <td>197</td>\n",
       "      <td>0</td>\n",
       "      <td>67430</td>\n",
       "      <td>2332</td>\n",
       "      <td>1039</td>\n",
       "      <td>0</td>\n",
       "      <td>0</td>\n",
       "    </tr>\n",
       "    <tr>\n",
       "      <th>2001</th>\n",
       "      <td>345</td>\n",
       "      <td>373</td>\n",
       "      <td>5866</td>\n",
       "      <td>4538</td>\n",
       "      <td>5761</td>\n",
       "      <td>343</td>\n",
       "      <td>1461</td>\n",
       "      <td>6306</td>\n",
       "      <td>250</td>\n",
       "      <td>0</td>\n",
       "      <td>84445</td>\n",
       "      <td>2108</td>\n",
       "      <td>1010</td>\n",
       "      <td>0</td>\n",
       "      <td>0</td>\n",
       "    </tr>\n",
       "    <tr>\n",
       "      <th>2002</th>\n",
       "      <td>624</td>\n",
       "      <td>1567</td>\n",
       "      <td>5790</td>\n",
       "      <td>7085</td>\n",
       "      <td>7579</td>\n",
       "      <td>332</td>\n",
       "      <td>1689</td>\n",
       "      <td>5404</td>\n",
       "      <td>171</td>\n",
       "      <td>0</td>\n",
       "      <td>89988</td>\n",
       "      <td>2154</td>\n",
       "      <td>989</td>\n",
       "      <td>0</td>\n",
       "      <td>0</td>\n",
       "    </tr>\n",
       "    <tr>\n",
       "      <th>2003</th>\n",
       "      <td>802</td>\n",
       "      <td>2781</td>\n",
       "      <td>7249</td>\n",
       "      <td>8087</td>\n",
       "      <td>6855</td>\n",
       "      <td>709</td>\n",
       "      <td>2054</td>\n",
       "      <td>6120</td>\n",
       "      <td>141</td>\n",
       "      <td>0</td>\n",
       "      <td>94623</td>\n",
       "      <td>2058</td>\n",
       "      <td>1055</td>\n",
       "      <td>0</td>\n",
       "      <td>0</td>\n",
       "    </tr>\n",
       "    <tr>\n",
       "      <th>2004</th>\n",
       "      <td>877</td>\n",
       "      <td>3403</td>\n",
       "      <td>6563</td>\n",
       "      <td>8185</td>\n",
       "      <td>7748</td>\n",
       "      <td>938</td>\n",
       "      <td>2181</td>\n",
       "      <td>6362</td>\n",
       "      <td>121</td>\n",
       "      <td>0</td>\n",
       "      <td>97873</td>\n",
       "      <td>2090</td>\n",
       "      <td>1052</td>\n",
       "      <td>0</td>\n",
       "      <td>0</td>\n",
       "    </tr>\n",
       "    <tr>\n",
       "      <th>2005</th>\n",
       "      <td>984</td>\n",
       "      <td>3482</td>\n",
       "      <td>7180</td>\n",
       "      <td>8270</td>\n",
       "      <td>6885</td>\n",
       "      <td>1211</td>\n",
       "      <td>2170</td>\n",
       "      <td>6276</td>\n",
       "      <td>141</td>\n",
       "      <td>0</td>\n",
       "      <td>99940</td>\n",
       "      <td>2078</td>\n",
       "      <td>1204</td>\n",
       "      <td>0</td>\n",
       "      <td>0</td>\n",
       "    </tr>\n",
       "    <tr>\n",
       "      <th>2006</th>\n",
       "      <td>1508</td>\n",
       "      <td>3967</td>\n",
       "      <td>4565</td>\n",
       "      <td>8396</td>\n",
       "      <td>8688</td>\n",
       "      <td>862</td>\n",
       "      <td>2188</td>\n",
       "      <td>7531</td>\n",
       "      <td>347</td>\n",
       "      <td>0</td>\n",
       "      <td>108381</td>\n",
       "      <td>1895</td>\n",
       "      <td>1452</td>\n",
       "      <td>0</td>\n",
       "      <td>0</td>\n",
       "    </tr>\n",
       "    <tr>\n",
       "      <th>2007</th>\n",
       "      <td>2067</td>\n",
       "      <td>6823</td>\n",
       "      <td>4829</td>\n",
       "      <td>10105</td>\n",
       "      <td>8169</td>\n",
       "      <td>975</td>\n",
       "      <td>1065</td>\n",
       "      <td>8429</td>\n",
       "      <td>487</td>\n",
       "      <td>0</td>\n",
       "      <td>125865</td>\n",
       "      <td>2100</td>\n",
       "      <td>1376</td>\n",
       "      <td>0</td>\n",
       "      <td>0</td>\n",
       "    </tr>\n",
       "    <tr>\n",
       "      <th>2008</th>\n",
       "      <td>3597</td>\n",
       "      <td>7631</td>\n",
       "      <td>6189</td>\n",
       "      <td>12718</td>\n",
       "      <td>9104</td>\n",
       "      <td>1229</td>\n",
       "      <td>3595</td>\n",
       "      <td>23502</td>\n",
       "      <td>426</td>\n",
       "      <td>0</td>\n",
       "      <td>144093</td>\n",
       "      <td>2255</td>\n",
       "      <td>1363</td>\n",
       "      <td>1</td>\n",
       "      <td>0</td>\n",
       "    </tr>\n",
       "    <tr>\n",
       "      <th>2009</th>\n",
       "      <td>3711</td>\n",
       "      <td>6942</td>\n",
       "      <td>5577</td>\n",
       "      <td>10948</td>\n",
       "      <td>8281</td>\n",
       "      <td>961</td>\n",
       "      <td>9153</td>\n",
       "      <td>43940</td>\n",
       "      <td>454</td>\n",
       "      <td>0</td>\n",
       "      <td>122143</td>\n",
       "      <td>1261</td>\n",
       "      <td>1202</td>\n",
       "      <td>1</td>\n",
       "      <td>0</td>\n",
       "    </tr>\n",
       "    <tr>\n",
       "      <th>2010</th>\n",
       "      <td>2974</td>\n",
       "      <td>5934</td>\n",
       "      <td>5630</td>\n",
       "      <td>7314</td>\n",
       "      <td>8363</td>\n",
       "      <td>1313</td>\n",
       "      <td>15250</td>\n",
       "      <td>34643</td>\n",
       "      <td>562</td>\n",
       "      <td>0</td>\n",
       "      <td>108860</td>\n",
       "      <td>1626</td>\n",
       "      <td>1235</td>\n",
       "      <td>6</td>\n",
       "      <td>0</td>\n",
       "    </tr>\n",
       "    <tr>\n",
       "      <th>2011</th>\n",
       "      <td>3035</td>\n",
       "      <td>6625</td>\n",
       "      <td>3820</td>\n",
       "      <td>8138</td>\n",
       "      <td>8061</td>\n",
       "      <td>1821</td>\n",
       "      <td>17795</td>\n",
       "      <td>37137</td>\n",
       "      <td>1003</td>\n",
       "      <td>0</td>\n",
       "      <td>118761</td>\n",
       "      <td>2143</td>\n",
       "      <td>1220</td>\n",
       "      <td>0</td>\n",
       "      <td>0</td>\n",
       "    </tr>\n",
       "    <tr>\n",
       "      <th>2012</th>\n",
       "      <td>2938</td>\n",
       "      <td>6469</td>\n",
       "      <td>3796</td>\n",
       "      <td>9734</td>\n",
       "      <td>7937</td>\n",
       "      <td>1754</td>\n",
       "      <td>17600</td>\n",
       "      <td>38139</td>\n",
       "      <td>1404</td>\n",
       "      <td>0</td>\n",
       "      <td>120980</td>\n",
       "      <td>2047</td>\n",
       "      <td>1079</td>\n",
       "      <td>6</td>\n",
       "      <td>0</td>\n",
       "    </tr>\n",
       "    <tr>\n",
       "      <th>2013</th>\n",
       "      <td>3059</td>\n",
       "      <td>6452</td>\n",
       "      <td>3782</td>\n",
       "      <td>8907</td>\n",
       "      <td>8793</td>\n",
       "      <td>1747</td>\n",
       "      <td>18685</td>\n",
       "      <td>40900</td>\n",
       "      <td>1372</td>\n",
       "      <td>0</td>\n",
       "      <td>125594</td>\n",
       "      <td>2099</td>\n",
       "      <td>1112</td>\n",
       "      <td>9</td>\n",
       "      <td>1</td>\n",
       "    </tr>\n",
       "    <tr>\n",
       "      <th>2014</th>\n",
       "      <td>2993</td>\n",
       "      <td>6821</td>\n",
       "      <td>4034</td>\n",
       "      <td>8252</td>\n",
       "      <td>9952</td>\n",
       "      <td>1508</td>\n",
       "      <td>20400</td>\n",
       "      <td>43284</td>\n",
       "      <td>1594</td>\n",
       "      <td>1</td>\n",
       "      <td>123035</td>\n",
       "      <td>1994</td>\n",
       "      <td>1145</td>\n",
       "      <td>21</td>\n",
       "      <td>0</td>\n",
       "    </tr>\n",
       "    <tr>\n",
       "      <th>2015</th>\n",
       "      <td>3211</td>\n",
       "      <td>6673</td>\n",
       "      <td>4414</td>\n",
       "      <td>9133</td>\n",
       "      <td>8844</td>\n",
       "      <td>1513</td>\n",
       "      <td>24312</td>\n",
       "      <td>44384</td>\n",
       "      <td>2267</td>\n",
       "      <td>2</td>\n",
       "      <td>118408</td>\n",
       "      <td>2086</td>\n",
       "      <td>1084</td>\n",
       "      <td>50</td>\n",
       "      <td>6</td>\n",
       "    </tr>\n",
       "    <tr>\n",
       "      <th>2016</th>\n",
       "      <td>2733</td>\n",
       "      <td>5390</td>\n",
       "      <td>4788</td>\n",
       "      <td>8660</td>\n",
       "      <td>8360</td>\n",
       "      <td>1458</td>\n",
       "      <td>24659</td>\n",
       "      <td>42933</td>\n",
       "      <td>1947</td>\n",
       "      <td>45</td>\n",
       "      <td>110411</td>\n",
       "      <td>2144</td>\n",
       "      <td>1072</td>\n",
       "      <td>68</td>\n",
       "      <td>1</td>\n",
       "    </tr>\n",
       "    <tr>\n",
       "      <th>2017</th>\n",
       "      <td>2323</td>\n",
       "      <td>3840</td>\n",
       "      <td>4364</td>\n",
       "      <td>6323</td>\n",
       "      <td>6490</td>\n",
       "      <td>1178</td>\n",
       "      <td>21069</td>\n",
       "      <td>31248</td>\n",
       "      <td>1345</td>\n",
       "      <td>123</td>\n",
       "      <td>85330</td>\n",
       "      <td>2230</td>\n",
       "      <td>1078</td>\n",
       "      <td>68</td>\n",
       "      <td>5</td>\n",
       "    </tr>\n",
       "    <tr>\n",
       "      <th>2018</th>\n",
       "      <td>2478</td>\n",
       "      <td>2864</td>\n",
       "      <td>3757</td>\n",
       "      <td>5830</td>\n",
       "      <td>6497</td>\n",
       "      <td>968</td>\n",
       "      <td>19783</td>\n",
       "      <td>32787</td>\n",
       "      <td>1116</td>\n",
       "      <td>237</td>\n",
       "      <td>79835</td>\n",
       "      <td>2043</td>\n",
       "      <td>932</td>\n",
       "      <td>122</td>\n",
       "      <td>2</td>\n",
       "    </tr>\n",
       "    <tr>\n",
       "      <th>2019</th>\n",
       "      <td>2569</td>\n",
       "      <td>2665</td>\n",
       "      <td>5547</td>\n",
       "      <td>5758</td>\n",
       "      <td>6279</td>\n",
       "      <td>744</td>\n",
       "      <td>20067</td>\n",
       "      <td>34224</td>\n",
       "      <td>1126</td>\n",
       "      <td>347</td>\n",
       "      <td>78576</td>\n",
       "      <td>2076</td>\n",
       "      <td>870</td>\n",
       "      <td>49</td>\n",
       "      <td>105</td>\n",
       "    </tr>\n",
       "    <tr>\n",
       "      <th>2020</th>\n",
       "      <td>2479</td>\n",
       "      <td>2377</td>\n",
       "      <td>3036</td>\n",
       "      <td>4791</td>\n",
       "      <td>5504</td>\n",
       "      <td>645</td>\n",
       "      <td>19503</td>\n",
       "      <td>36902</td>\n",
       "      <td>1124</td>\n",
       "      <td>691</td>\n",
       "      <td>79003</td>\n",
       "      <td>1578</td>\n",
       "      <td>1291</td>\n",
       "      <td>75</td>\n",
       "      <td>142</td>\n",
       "    </tr>\n",
       "    <tr>\n",
       "      <th>2021</th>\n",
       "      <td>2445</td>\n",
       "      <td>1833</td>\n",
       "      <td>2358</td>\n",
       "      <td>4984</td>\n",
       "      <td>5030</td>\n",
       "      <td>605</td>\n",
       "      <td>16029</td>\n",
       "      <td>31682</td>\n",
       "      <td>940</td>\n",
       "      <td>549</td>\n",
       "      <td>67045</td>\n",
       "      <td>1344</td>\n",
       "      <td>1211</td>\n",
       "      <td>112</td>\n",
       "      <td>84</td>\n",
       "    </tr>\n",
       "  </tbody>\n",
       "</table>\n",
       "</div>"
      ],
      "text/plain": [
       "      environment  music  politics  sport  football  science  tone/features  \\\n",
       "year                                                                          \n",
       "1999          247    147      3069   2449      4818      391           1453   \n",
       "2000          494    185      3552   2181      5537      569           1455   \n",
       "2001          345    373      5866   4538      5761      343           1461   \n",
       "2002          624   1567      5790   7085      7579      332           1689   \n",
       "2003          802   2781      7249   8087      6855      709           2054   \n",
       "2004          877   3403      6563   8185      7748      938           2181   \n",
       "2005          984   3482      7180   8270      6885     1211           2170   \n",
       "2006         1508   3967      4565   8396      8688      862           2188   \n",
       "2007         2067   6823      4829  10105      8169      975           1065   \n",
       "2008         3597   7631      6189  12718      9104     1229           3595   \n",
       "2009         3711   6942      5577  10948      8281      961           9153   \n",
       "2010         2974   5934      5630   7314      8363     1313          15250   \n",
       "2011         3035   6625      3820   8138      8061     1821          17795   \n",
       "2012         2938   6469      3796   9734      7937     1754          17600   \n",
       "2013         3059   6452      3782   8907      8793     1747          18685   \n",
       "2014         2993   6821      4034   8252      9952     1508          20400   \n",
       "2015         3211   6673      4414   9133      8844     1513          24312   \n",
       "2016         2733   5390      4788   8660      8360     1458          24659   \n",
       "2017         2323   3840      4364   6323      6490     1178          21069   \n",
       "2018         2478   2864      3757   5830      6497      968          19783   \n",
       "2019         2569   2665      5547   5758      6279      744          20067   \n",
       "2020         2479   2377      3036   4791      5504      645          19503   \n",
       "2021         2445   1833      2358   4984      5030      605          16029   \n",
       "\n",
       "      tone/news  tone/analysis  tone/explainers     all  tone/letters  \\\n",
       "year                                                                    \n",
       "1999       3642             61                0   52011          1692   \n",
       "2000       5283            197                0   67430          2332   \n",
       "2001       6306            250                0   84445          2108   \n",
       "2002       5404            171                0   89988          2154   \n",
       "2003       6120            141                0   94623          2058   \n",
       "2004       6362            121                0   97873          2090   \n",
       "2005       6276            141                0   99940          2078   \n",
       "2006       7531            347                0  108381          1895   \n",
       "2007       8429            487                0  125865          2100   \n",
       "2008      23502            426                0  144093          2255   \n",
       "2009      43940            454                0  122143          1261   \n",
       "2010      34643            562                0  108860          1626   \n",
       "2011      37137           1003                0  118761          2143   \n",
       "2012      38139           1404                0  120980          2047   \n",
       "2013      40900           1372                0  125594          2099   \n",
       "2014      43284           1594                1  123035          1994   \n",
       "2015      44384           2267                2  118408          2086   \n",
       "2016      42933           1947               45  110411          2144   \n",
       "2017      31248           1345              123   85330          2230   \n",
       "2018      32787           1116              237   79835          2043   \n",
       "2019      34224           1126              347   78576          2076   \n",
       "2020      36902           1124              691   79003          1578   \n",
       "2021      31682            940              549   67045          1344   \n",
       "\n",
       "      tone/obituaries  technology/elon-musk  us-news/kamala-harris  \n",
       "year                                                                \n",
       "1999              997                     0                      0  \n",
       "2000             1039                     0                      0  \n",
       "2001             1010                     0                      0  \n",
       "2002              989                     0                      0  \n",
       "2003             1055                     0                      0  \n",
       "2004             1052                     0                      0  \n",
       "2005             1204                     0                      0  \n",
       "2006             1452                     0                      0  \n",
       "2007             1376                     0                      0  \n",
       "2008             1363                     1                      0  \n",
       "2009             1202                     1                      0  \n",
       "2010             1235                     6                      0  \n",
       "2011             1220                     0                      0  \n",
       "2012             1079                     6                      0  \n",
       "2013             1112                     9                      1  \n",
       "2014             1145                    21                      0  \n",
       "2015             1084                    50                      6  \n",
       "2016             1072                    68                      1  \n",
       "2017             1078                    68                      5  \n",
       "2018              932                   122                      2  \n",
       "2019              870                    49                    105  \n",
       "2020             1291                    75                    142  \n",
       "2021             1211                   112                     84  "
      ]
     },
     "execution_count": 24,
     "metadata": {},
     "output_type": "execute_result"
    }
   ],
   "source": [
    "df"
   ]
  },
  {
   "cell_type": "code",
   "execution_count": 7,
   "metadata": {},
   "outputs": [
    {
     "data": {
      "text/plain": [
       "environment          48493\n",
       "music                95244\n",
       "politics            109755\n",
       "sport               170786\n",
       "football            169535\n",
       "science              23774\n",
       "tone_features       263616\n",
       "tone_news           571058\n",
       "tone_analysis        18596\n",
       "tone_explainers       1995\n",
       "all                2302630\n",
       "dtype: int64"
      ]
     },
     "execution_count": 7,
     "metadata": {},
     "output_type": "execute_result"
    }
   ],
   "source": [
    "df.sum()\n"
   ]
  },
  {
   "cell_type": "code",
   "execution_count": 44,
   "metadata": {},
   "outputs": [
    {
     "data": {
      "text/html": [
       "<div>\n",
       "<style scoped>\n",
       "    .dataframe tbody tr th:only-of-type {\n",
       "        vertical-align: middle;\n",
       "    }\n",
       "\n",
       "    .dataframe tbody tr th {\n",
       "        vertical-align: top;\n",
       "    }\n",
       "\n",
       "    .dataframe thead th {\n",
       "        text-align: right;\n",
       "    }\n",
       "</style>\n",
       "<table border=\"1\" class=\"dataframe\">\n",
       "  <thead>\n",
       "    <tr style=\"text-align: right;\">\n",
       "      <th></th>\n",
       "      <th>section</th>\n",
       "      <th>total</th>\n",
       "    </tr>\n",
       "  </thead>\n",
       "  <tbody>\n",
       "    <tr>\n",
       "      <th>0</th>\n",
       "      <td>world</td>\n",
       "      <td>210064</td>\n",
       "    </tr>\n",
       "    <tr>\n",
       "      <th>1</th>\n",
       "      <td>sport</td>\n",
       "      <td>171223</td>\n",
       "    </tr>\n",
       "    <tr>\n",
       "      <th>2</th>\n",
       "      <td>football</td>\n",
       "      <td>170533</td>\n",
       "    </tr>\n",
       "    <tr>\n",
       "      <th>3</th>\n",
       "      <td>business</td>\n",
       "      <td>143217</td>\n",
       "    </tr>\n",
       "    <tr>\n",
       "      <th>4</th>\n",
       "      <td>commentisfree</td>\n",
       "      <td>139375</td>\n",
       "    </tr>\n",
       "    <tr>\n",
       "      <th>5</th>\n",
       "      <td>uk-news</td>\n",
       "      <td>130591</td>\n",
       "    </tr>\n",
       "    <tr>\n",
       "      <th>6</th>\n",
       "      <td>media</td>\n",
       "      <td>127970</td>\n",
       "    </tr>\n",
       "    <tr>\n",
       "      <th>7</th>\n",
       "      <td>politics</td>\n",
       "      <td>110355</td>\n",
       "    </tr>\n",
       "    <tr>\n",
       "      <th>8</th>\n",
       "      <td>music</td>\n",
       "      <td>95290</td>\n",
       "    </tr>\n",
       "    <tr>\n",
       "      <th>9</th>\n",
       "      <td>books</td>\n",
       "      <td>77291</td>\n",
       "    </tr>\n",
       "    <tr>\n",
       "      <th>10</th>\n",
       "      <td>society</td>\n",
       "      <td>75560</td>\n",
       "    </tr>\n",
       "    <tr>\n",
       "      <th>11</th>\n",
       "      <td>film</td>\n",
       "      <td>71332</td>\n",
       "    </tr>\n",
       "    <tr>\n",
       "      <th>12</th>\n",
       "      <td>lifeandstyle</td>\n",
       "      <td>70420</td>\n",
       "    </tr>\n",
       "    <tr>\n",
       "      <th>13</th>\n",
       "      <td>money</td>\n",
       "      <td>58597</td>\n",
       "    </tr>\n",
       "    <tr>\n",
       "      <th>14</th>\n",
       "      <td>technology</td>\n",
       "      <td>54561</td>\n",
       "    </tr>\n",
       "    <tr>\n",
       "      <th>15</th>\n",
       "      <td>us-news</td>\n",
       "      <td>52797</td>\n",
       "    </tr>\n",
       "    <tr>\n",
       "      <th>16</th>\n",
       "      <td>education</td>\n",
       "      <td>51653</td>\n",
       "    </tr>\n",
       "    <tr>\n",
       "      <th>17</th>\n",
       "      <td>environment</td>\n",
       "      <td>48546</td>\n",
       "    </tr>\n",
       "    <tr>\n",
       "      <th>18</th>\n",
       "      <td>stage</td>\n",
       "      <td>35928</td>\n",
       "    </tr>\n",
       "    <tr>\n",
       "      <th>19</th>\n",
       "      <td>tv-and-radio</td>\n",
       "      <td>34459</td>\n",
       "    </tr>\n",
       "  </tbody>\n",
       "</table>\n",
       "</div>"
      ],
      "text/plain": [
       "          section   total\n",
       "0           world  210064\n",
       "1           sport  171223\n",
       "2        football  170533\n",
       "3        business  143217\n",
       "4   commentisfree  139375\n",
       "5         uk-news  130591\n",
       "6           media  127970\n",
       "7        politics  110355\n",
       "8           music   95290\n",
       "9           books   77291\n",
       "10        society   75560\n",
       "11           film   71332\n",
       "12   lifeandstyle   70420\n",
       "13          money   58597\n",
       "14     technology   54561\n",
       "15        us-news   52797\n",
       "16      education   51653\n",
       "17    environment   48546\n",
       "18          stage   35928\n",
       "19   tv-and-radio   34459"
      ]
     },
     "execution_count": 44,
     "metadata": {},
     "output_type": "execute_result"
    }
   ],
   "source": [
    "df_sections[:20]"
   ]
  },
  {
   "cell_type": "markdown",
   "metadata": {},
   "source": [
    "# story: environment\n",
    "\n",
    "The Guardian has reported more news articles on its website about the environment than other topics like politics, music, etc.\n",
    "\n",
    "- https://www.theguardian.com/environment/2021/oct/25/the-guardians-climate-pledge\n",
    "- https://www.theguardian.com/environment/ng-interactive/2019/oct/16/the-guardians-climate-pledge-2019\n"
   ]
  },
  {
   "cell_type": "code",
   "execution_count": 18,
   "metadata": {},
   "outputs": [
    {
     "data": {
      "application/vnd.plotly.v1+json": {
       "config": {
        "plotlyServerURL": "https://plotly.com"
       },
       "data": [
        {
         "alignmentgroup": "True",
         "customdata": [
          [
           "environment"
          ],
          [
           "environment"
          ],
          [
           "environment"
          ],
          [
           "environment"
          ],
          [
           "environment"
          ],
          [
           "environment"
          ],
          [
           "environment"
          ],
          [
           "environment"
          ],
          [
           "environment"
          ],
          [
           "environment"
          ],
          [
           "environment"
          ],
          [
           "environment"
          ],
          [
           "environment"
          ],
          [
           "environment"
          ],
          [
           "environment"
          ],
          [
           "environment"
          ],
          [
           "environment"
          ],
          [
           "environment"
          ],
          [
           "environment"
          ],
          [
           "environment"
          ],
          [
           "environment"
          ],
          [
           "environment"
          ],
          [
           "environment"
          ]
         ],
         "hovertemplate": "<b>%{hovertext}</b><br><br>year=%{x}<br>value=%{y}<extra></extra>",
         "hovertext": [
          "environment",
          "environment",
          "environment",
          "environment",
          "environment",
          "environment",
          "environment",
          "environment",
          "environment",
          "environment",
          "environment",
          "environment",
          "environment",
          "environment",
          "environment",
          "environment",
          "environment",
          "environment",
          "environment",
          "environment",
          "environment",
          "environment",
          "environment"
         ],
         "legendgroup": "environment",
         "marker": {
          "color": "#2CA02C"
         },
         "name": "environment",
         "offsetgroup": "environment",
         "orientation": "v",
         "showlegend": true,
         "textposition": "auto",
         "type": "bar",
         "x": [
          1999,
          2000,
          2001,
          2002,
          2003,
          2004,
          2005,
          2006,
          2007,
          2008,
          2009,
          2010,
          2011,
          2012,
          2013,
          2014,
          2015,
          2016,
          2017,
          2018,
          2019,
          2020,
          2021
         ],
         "xaxis": "x",
         "y": [
          247,
          494,
          345,
          624,
          802,
          877,
          984,
          1508,
          2067,
          3597,
          3711,
          2974,
          3035,
          2938,
          3059,
          2993,
          3211,
          2733,
          2323,
          2478,
          2569,
          2479,
          2445
         ],
         "yaxis": "y"
        },
        {
         "alignmentgroup": "True",
         "customdata": [
          [
           "politics"
          ],
          [
           "politics"
          ],
          [
           "politics"
          ],
          [
           "politics"
          ],
          [
           "politics"
          ],
          [
           "politics"
          ],
          [
           "politics"
          ],
          [
           "politics"
          ],
          [
           "politics"
          ],
          [
           "politics"
          ],
          [
           "politics"
          ],
          [
           "politics"
          ],
          [
           "politics"
          ],
          [
           "politics"
          ],
          [
           "politics"
          ],
          [
           "politics"
          ],
          [
           "politics"
          ],
          [
           "politics"
          ],
          [
           "politics"
          ],
          [
           "politics"
          ],
          [
           "politics"
          ],
          [
           "politics"
          ],
          [
           "politics"
          ]
         ],
         "hovertemplate": "<b>%{hovertext}</b><br><br>year=%{x}<br>value=%{y}<extra></extra>",
         "hovertext": [
          "politics",
          "politics",
          "politics",
          "politics",
          "politics",
          "politics",
          "politics",
          "politics",
          "politics",
          "politics",
          "politics",
          "politics",
          "politics",
          "politics",
          "politics",
          "politics",
          "politics",
          "politics",
          "politics",
          "politics",
          "politics",
          "politics",
          "politics"
         ],
         "legendgroup": "politics",
         "marker": {
          "color": "#D62728"
         },
         "name": "politics",
         "offsetgroup": "politics",
         "orientation": "v",
         "showlegend": true,
         "textposition": "auto",
         "type": "bar",
         "x": [
          1999,
          2000,
          2001,
          2002,
          2003,
          2004,
          2005,
          2006,
          2007,
          2008,
          2009,
          2010,
          2011,
          2012,
          2013,
          2014,
          2015,
          2016,
          2017,
          2018,
          2019,
          2020,
          2021
         ],
         "xaxis": "x",
         "y": [
          3069,
          3552,
          5866,
          5790,
          7249,
          6563,
          7180,
          4565,
          4829,
          6189,
          5577,
          5630,
          3820,
          3796,
          3782,
          4034,
          4414,
          4788,
          4364,
          3757,
          5547,
          3036,
          2358
         ],
         "yaxis": "y"
        }
       ],
       "layout": {
        "barmode": "group",
        "legend": {
         "orientation": "h",
         "title": {
          "text": ""
         },
         "tracegroupgap": 0,
         "x": 1,
         "xanchor": "right",
         "y": 0.85,
         "yanchor": "bottom"
        },
        "margin": {
         "t": 60
        },
        "shapes": [
         {
          "line": {
           "color": "Black"
          },
          "type": "circle",
          "x0": 2020.5,
          "x1": 2021.5,
          "xref": "x",
          "y0": 2100,
          "y1": 2700,
          "yref": "y"
         }
        ],
        "template": {
         "data": {
          "bar": [
           {
            "error_x": {
             "color": "#2a3f5f"
            },
            "error_y": {
             "color": "#2a3f5f"
            },
            "marker": {
             "line": {
              "color": "white",
              "width": 0.5
             }
            },
            "type": "bar"
           }
          ],
          "barpolar": [
           {
            "marker": {
             "line": {
              "color": "white",
              "width": 0.5
             }
            },
            "type": "barpolar"
           }
          ],
          "carpet": [
           {
            "aaxis": {
             "endlinecolor": "#2a3f5f",
             "gridcolor": "#C8D4E3",
             "linecolor": "#C8D4E3",
             "minorgridcolor": "#C8D4E3",
             "startlinecolor": "#2a3f5f"
            },
            "baxis": {
             "endlinecolor": "#2a3f5f",
             "gridcolor": "#C8D4E3",
             "linecolor": "#C8D4E3",
             "minorgridcolor": "#C8D4E3",
             "startlinecolor": "#2a3f5f"
            },
            "type": "carpet"
           }
          ],
          "choropleth": [
           {
            "colorbar": {
             "outlinewidth": 0,
             "ticks": ""
            },
            "type": "choropleth"
           }
          ],
          "contour": [
           {
            "colorbar": {
             "outlinewidth": 0,
             "ticks": ""
            },
            "colorscale": [
             [
              0,
              "#0d0887"
             ],
             [
              0.1111111111111111,
              "#46039f"
             ],
             [
              0.2222222222222222,
              "#7201a8"
             ],
             [
              0.3333333333333333,
              "#9c179e"
             ],
             [
              0.4444444444444444,
              "#bd3786"
             ],
             [
              0.5555555555555556,
              "#d8576b"
             ],
             [
              0.6666666666666666,
              "#ed7953"
             ],
             [
              0.7777777777777778,
              "#fb9f3a"
             ],
             [
              0.8888888888888888,
              "#fdca26"
             ],
             [
              1,
              "#f0f921"
             ]
            ],
            "type": "contour"
           }
          ],
          "contourcarpet": [
           {
            "colorbar": {
             "outlinewidth": 0,
             "ticks": ""
            },
            "type": "contourcarpet"
           }
          ],
          "heatmap": [
           {
            "colorbar": {
             "outlinewidth": 0,
             "ticks": ""
            },
            "colorscale": [
             [
              0,
              "#0d0887"
             ],
             [
              0.1111111111111111,
              "#46039f"
             ],
             [
              0.2222222222222222,
              "#7201a8"
             ],
             [
              0.3333333333333333,
              "#9c179e"
             ],
             [
              0.4444444444444444,
              "#bd3786"
             ],
             [
              0.5555555555555556,
              "#d8576b"
             ],
             [
              0.6666666666666666,
              "#ed7953"
             ],
             [
              0.7777777777777778,
              "#fb9f3a"
             ],
             [
              0.8888888888888888,
              "#fdca26"
             ],
             [
              1,
              "#f0f921"
             ]
            ],
            "type": "heatmap"
           }
          ],
          "heatmapgl": [
           {
            "colorbar": {
             "outlinewidth": 0,
             "ticks": ""
            },
            "colorscale": [
             [
              0,
              "#0d0887"
             ],
             [
              0.1111111111111111,
              "#46039f"
             ],
             [
              0.2222222222222222,
              "#7201a8"
             ],
             [
              0.3333333333333333,
              "#9c179e"
             ],
             [
              0.4444444444444444,
              "#bd3786"
             ],
             [
              0.5555555555555556,
              "#d8576b"
             ],
             [
              0.6666666666666666,
              "#ed7953"
             ],
             [
              0.7777777777777778,
              "#fb9f3a"
             ],
             [
              0.8888888888888888,
              "#fdca26"
             ],
             [
              1,
              "#f0f921"
             ]
            ],
            "type": "heatmapgl"
           }
          ],
          "histogram": [
           {
            "marker": {
             "colorbar": {
              "outlinewidth": 0,
              "ticks": ""
             }
            },
            "type": "histogram"
           }
          ],
          "histogram2d": [
           {
            "colorbar": {
             "outlinewidth": 0,
             "ticks": ""
            },
            "colorscale": [
             [
              0,
              "#0d0887"
             ],
             [
              0.1111111111111111,
              "#46039f"
             ],
             [
              0.2222222222222222,
              "#7201a8"
             ],
             [
              0.3333333333333333,
              "#9c179e"
             ],
             [
              0.4444444444444444,
              "#bd3786"
             ],
             [
              0.5555555555555556,
              "#d8576b"
             ],
             [
              0.6666666666666666,
              "#ed7953"
             ],
             [
              0.7777777777777778,
              "#fb9f3a"
             ],
             [
              0.8888888888888888,
              "#fdca26"
             ],
             [
              1,
              "#f0f921"
             ]
            ],
            "type": "histogram2d"
           }
          ],
          "histogram2dcontour": [
           {
            "colorbar": {
             "outlinewidth": 0,
             "ticks": ""
            },
            "colorscale": [
             [
              0,
              "#0d0887"
             ],
             [
              0.1111111111111111,
              "#46039f"
             ],
             [
              0.2222222222222222,
              "#7201a8"
             ],
             [
              0.3333333333333333,
              "#9c179e"
             ],
             [
              0.4444444444444444,
              "#bd3786"
             ],
             [
              0.5555555555555556,
              "#d8576b"
             ],
             [
              0.6666666666666666,
              "#ed7953"
             ],
             [
              0.7777777777777778,
              "#fb9f3a"
             ],
             [
              0.8888888888888888,
              "#fdca26"
             ],
             [
              1,
              "#f0f921"
             ]
            ],
            "type": "histogram2dcontour"
           }
          ],
          "mesh3d": [
           {
            "colorbar": {
             "outlinewidth": 0,
             "ticks": ""
            },
            "type": "mesh3d"
           }
          ],
          "parcoords": [
           {
            "line": {
             "colorbar": {
              "outlinewidth": 0,
              "ticks": ""
             }
            },
            "type": "parcoords"
           }
          ],
          "pie": [
           {
            "automargin": true,
            "type": "pie"
           }
          ],
          "scatter": [
           {
            "marker": {
             "colorbar": {
              "outlinewidth": 0,
              "ticks": ""
             }
            },
            "type": "scatter"
           }
          ],
          "scatter3d": [
           {
            "line": {
             "colorbar": {
              "outlinewidth": 0,
              "ticks": ""
             }
            },
            "marker": {
             "colorbar": {
              "outlinewidth": 0,
              "ticks": ""
             }
            },
            "type": "scatter3d"
           }
          ],
          "scattercarpet": [
           {
            "marker": {
             "colorbar": {
              "outlinewidth": 0,
              "ticks": ""
             }
            },
            "type": "scattercarpet"
           }
          ],
          "scattergeo": [
           {
            "marker": {
             "colorbar": {
              "outlinewidth": 0,
              "ticks": ""
             }
            },
            "type": "scattergeo"
           }
          ],
          "scattergl": [
           {
            "marker": {
             "colorbar": {
              "outlinewidth": 0,
              "ticks": ""
             }
            },
            "type": "scattergl"
           }
          ],
          "scattermapbox": [
           {
            "marker": {
             "colorbar": {
              "outlinewidth": 0,
              "ticks": ""
             }
            },
            "type": "scattermapbox"
           }
          ],
          "scatterpolar": [
           {
            "marker": {
             "colorbar": {
              "outlinewidth": 0,
              "ticks": ""
             }
            },
            "type": "scatterpolar"
           }
          ],
          "scatterpolargl": [
           {
            "marker": {
             "colorbar": {
              "outlinewidth": 0,
              "ticks": ""
             }
            },
            "type": "scatterpolargl"
           }
          ],
          "scatterternary": [
           {
            "marker": {
             "colorbar": {
              "outlinewidth": 0,
              "ticks": ""
             }
            },
            "type": "scatterternary"
           }
          ],
          "surface": [
           {
            "colorbar": {
             "outlinewidth": 0,
             "ticks": ""
            },
            "colorscale": [
             [
              0,
              "#0d0887"
             ],
             [
              0.1111111111111111,
              "#46039f"
             ],
             [
              0.2222222222222222,
              "#7201a8"
             ],
             [
              0.3333333333333333,
              "#9c179e"
             ],
             [
              0.4444444444444444,
              "#bd3786"
             ],
             [
              0.5555555555555556,
              "#d8576b"
             ],
             [
              0.6666666666666666,
              "#ed7953"
             ],
             [
              0.7777777777777778,
              "#fb9f3a"
             ],
             [
              0.8888888888888888,
              "#fdca26"
             ],
             [
              1,
              "#f0f921"
             ]
            ],
            "type": "surface"
           }
          ],
          "table": [
           {
            "cells": {
             "fill": {
              "color": "#EBF0F8"
             },
             "line": {
              "color": "white"
             }
            },
            "header": {
             "fill": {
              "color": "#C8D4E3"
             },
             "line": {
              "color": "white"
             }
            },
            "type": "table"
           }
          ]
         },
         "layout": {
          "annotationdefaults": {
           "arrowcolor": "#2a3f5f",
           "arrowhead": 0,
           "arrowwidth": 1
          },
          "autotypenumbers": "strict",
          "coloraxis": {
           "colorbar": {
            "outlinewidth": 0,
            "ticks": ""
           }
          },
          "colorscale": {
           "diverging": [
            [
             0,
             "#8e0152"
            ],
            [
             0.1,
             "#c51b7d"
            ],
            [
             0.2,
             "#de77ae"
            ],
            [
             0.3,
             "#f1b6da"
            ],
            [
             0.4,
             "#fde0ef"
            ],
            [
             0.5,
             "#f7f7f7"
            ],
            [
             0.6,
             "#e6f5d0"
            ],
            [
             0.7,
             "#b8e186"
            ],
            [
             0.8,
             "#7fbc41"
            ],
            [
             0.9,
             "#4d9221"
            ],
            [
             1,
             "#276419"
            ]
           ],
           "sequential": [
            [
             0,
             "#0d0887"
            ],
            [
             0.1111111111111111,
             "#46039f"
            ],
            [
             0.2222222222222222,
             "#7201a8"
            ],
            [
             0.3333333333333333,
             "#9c179e"
            ],
            [
             0.4444444444444444,
             "#bd3786"
            ],
            [
             0.5555555555555556,
             "#d8576b"
            ],
            [
             0.6666666666666666,
             "#ed7953"
            ],
            [
             0.7777777777777778,
             "#fb9f3a"
            ],
            [
             0.8888888888888888,
             "#fdca26"
            ],
            [
             1,
             "#f0f921"
            ]
           ],
           "sequentialminus": [
            [
             0,
             "#0d0887"
            ],
            [
             0.1111111111111111,
             "#46039f"
            ],
            [
             0.2222222222222222,
             "#7201a8"
            ],
            [
             0.3333333333333333,
             "#9c179e"
            ],
            [
             0.4444444444444444,
             "#bd3786"
            ],
            [
             0.5555555555555556,
             "#d8576b"
            ],
            [
             0.6666666666666666,
             "#ed7953"
            ],
            [
             0.7777777777777778,
             "#fb9f3a"
            ],
            [
             0.8888888888888888,
             "#fdca26"
            ],
            [
             1,
             "#f0f921"
            ]
           ]
          },
          "colorway": [
           "#636efa",
           "#EF553B",
           "#00cc96",
           "#ab63fa",
           "#FFA15A",
           "#19d3f3",
           "#FF6692",
           "#B6E880",
           "#FF97FF",
           "#FECB52"
          ],
          "font": {
           "color": "#2a3f5f"
          },
          "geo": {
           "bgcolor": "white",
           "lakecolor": "white",
           "landcolor": "white",
           "showlakes": true,
           "showland": true,
           "subunitcolor": "#C8D4E3"
          },
          "hoverlabel": {
           "align": "left"
          },
          "hovermode": "closest",
          "mapbox": {
           "style": "light"
          },
          "paper_bgcolor": "white",
          "plot_bgcolor": "white",
          "polar": {
           "angularaxis": {
            "gridcolor": "#EBF0F8",
            "linecolor": "#EBF0F8",
            "ticks": ""
           },
           "bgcolor": "white",
           "radialaxis": {
            "gridcolor": "#EBF0F8",
            "linecolor": "#EBF0F8",
            "ticks": ""
           }
          },
          "scene": {
           "xaxis": {
            "backgroundcolor": "white",
            "gridcolor": "#DFE8F3",
            "gridwidth": 2,
            "linecolor": "#EBF0F8",
            "showbackground": true,
            "ticks": "",
            "zerolinecolor": "#EBF0F8"
           },
           "yaxis": {
            "backgroundcolor": "white",
            "gridcolor": "#DFE8F3",
            "gridwidth": 2,
            "linecolor": "#EBF0F8",
            "showbackground": true,
            "ticks": "",
            "zerolinecolor": "#EBF0F8"
           },
           "zaxis": {
            "backgroundcolor": "white",
            "gridcolor": "#DFE8F3",
            "gridwidth": 2,
            "linecolor": "#EBF0F8",
            "showbackground": true,
            "ticks": "",
            "zerolinecolor": "#EBF0F8"
           }
          },
          "shapedefaults": {
           "line": {
            "color": "#2a3f5f"
           }
          },
          "ternary": {
           "aaxis": {
            "gridcolor": "#DFE8F3",
            "linecolor": "#A2B1C6",
            "ticks": ""
           },
           "baxis": {
            "gridcolor": "#DFE8F3",
            "linecolor": "#A2B1C6",
            "ticks": ""
           },
           "bgcolor": "white",
           "caxis": {
            "gridcolor": "#DFE8F3",
            "linecolor": "#A2B1C6",
            "ticks": ""
           }
          },
          "title": {
           "x": 0.05
          },
          "xaxis": {
           "automargin": true,
           "gridcolor": "#EBF0F8",
           "linecolor": "#EBF0F8",
           "ticks": "",
           "title": {
            "standoff": 15
           },
           "zerolinecolor": "#EBF0F8",
           "zerolinewidth": 2
          },
          "yaxis": {
           "automargin": true,
           "gridcolor": "#EBF0F8",
           "linecolor": "#EBF0F8",
           "ticks": "",
           "title": {
            "standoff": 15
           },
           "zerolinecolor": "#EBF0F8",
           "zerolinewidth": 2
          }
         }
        },
        "title": {
         "text": "Total number of articles published on environment vs politics",
         "x": 0.5,
         "y": 0.9
        },
        "width": 800,
        "xaxis": {
         "anchor": "y",
         "domain": [
          0,
          1
         ],
         "title": {
          "text": ""
         }
        },
        "yaxis": {
         "anchor": "x",
         "domain": [
          0,
          1
         ],
         "title": {
          "text": "News articles"
         }
        }
       }
      }
     },
     "metadata": {},
     "output_type": "display_data"
    }
   ],
   "source": [
    "# env vs politics\n",
    "\n",
    "def legend_on_top(fig):\n",
    "    return fig.update_layout(legend=dict(orientation=\"h\", xanchor=\"right\", yanchor=\"bottom\"  , y=0.85, x=1), legend_title_text='')\n",
    "\n",
    "def add_shape(fig, **kw):\n",
    "    return fig.add_shape(xref=\"x\", yref=\"y\",line_color=\"Black\", **kw)\n",
    "\n",
    "# , 'sport', 'football', 'science' # 'music'\n",
    "color1 = px.colors.qualitative.D3[3]\n",
    "color2 = px.colors.qualitative.D3[2]\n",
    "fig = px.bar(df, y=['environment',  'politics'],  barmode='group', color_discrete_sequence=[color2, color1], width=800, hover_name='variable', hover_data={'variable':False})\n",
    "\n",
    "fig = legend_on_top(fig)\n",
    "\n",
    "\n",
    "fig = add_shape(fig, type=\"circle\", x0=2020.5, y0=2100, x1=2021.5, y1=2700)\n",
    "    \n",
    "title={\n",
    "    'text': 'Total number of articles published on environment vs politics',\n",
    "    'y':0.9,\n",
    "     'x':0.5,\n",
    "    # 'xanchor': 'center',\n",
    "    # 'yanchor': 'top'\n",
    "    }\n",
    "fig.update_layout(title =  title,xaxis_title='', yaxis_title='News articles')\n",
    "\n",
    "\n",
    "fig.show()"
   ]
  },
  {
   "cell_type": "code",
   "execution_count": 24,
   "metadata": {},
   "outputs": [
    {
     "data": {
      "text/plain": [
       "'https://plotly.com/~papanash/14/'"
      ]
     },
     "execution_count": 24,
     "metadata": {},
     "output_type": "execute_result"
    }
   ],
   "source": [
    "# export_to_chart_studio\n",
    "import chart_studio\n",
    "import chart_studio.plotly as chart\n",
    "\n",
    "chart_studio.tools.set_credentials_file(username='papanash',\n",
    "                                        api_key='JmGCF0wSJBNXJCXlMTDg')\n",
    "\n",
    "chart.plot(fig)\n"
   ]
  },
  {
   "cell_type": "code",
   "execution_count": 29,
   "metadata": {},
   "outputs": [
    {
     "data": {
      "text/html": [
       "<div>\n",
       "<style scoped>\n",
       "    .dataframe tbody tr th:only-of-type {\n",
       "        vertical-align: middle;\n",
       "    }\n",
       "\n",
       "    .dataframe tbody tr th {\n",
       "        vertical-align: top;\n",
       "    }\n",
       "\n",
       "    .dataframe thead th {\n",
       "        text-align: right;\n",
       "    }\n",
       "</style>\n",
       "<table border=\"1\" class=\"dataframe\">\n",
       "  <thead>\n",
       "    <tr style=\"text-align: right;\">\n",
       "      <th></th>\n",
       "      <th>section</th>\n",
       "      <th>total</th>\n",
       "    </tr>\n",
       "  </thead>\n",
       "  <tbody>\n",
       "    <tr>\n",
       "      <th>0</th>\n",
       "      <td>world</td>\n",
       "      <td>7771</td>\n",
       "    </tr>\n",
       "    <tr>\n",
       "      <th>1</th>\n",
       "      <td>football</td>\n",
       "      <td>5007</td>\n",
       "    </tr>\n",
       "    <tr>\n",
       "      <th>2</th>\n",
       "      <td>sport</td>\n",
       "      <td>4962</td>\n",
       "    </tr>\n",
       "    <tr>\n",
       "      <th>6</th>\n",
       "      <td>business</td>\n",
       "      <td>3315</td>\n",
       "    </tr>\n",
       "    <tr>\n",
       "      <th>7</th>\n",
       "      <td>uk-news</td>\n",
       "      <td>2710</td>\n",
       "    </tr>\n",
       "    <tr>\n",
       "      <th>8</th>\n",
       "      <td>environment</td>\n",
       "      <td>2405</td>\n",
       "    </tr>\n",
       "    <tr>\n",
       "      <th>9</th>\n",
       "      <td>politics</td>\n",
       "      <td>2340</td>\n",
       "    </tr>\n",
       "    <tr>\n",
       "      <th>10</th>\n",
       "      <td>lifeandstyle</td>\n",
       "      <td>2282</td>\n",
       "    </tr>\n",
       "    <tr>\n",
       "      <th>11</th>\n",
       "      <td>film</td>\n",
       "      <td>2086</td>\n",
       "    </tr>\n",
       "    <tr>\n",
       "      <th>12</th>\n",
       "      <td>society</td>\n",
       "      <td>1919</td>\n",
       "    </tr>\n",
       "  </tbody>\n",
       "</table>\n",
       "</div>"
      ],
      "text/plain": [
       "         section  total\n",
       "0          world   7771\n",
       "1       football   5007\n",
       "2          sport   4962\n",
       "6       business   3315\n",
       "7        uk-news   2710\n",
       "8    environment   2405\n",
       "9       politics   2340\n",
       "10  lifeandstyle   2282\n",
       "11          film   2086\n",
       "12       society   1919"
      ]
     },
     "execution_count": 29,
     "metadata": {},
     "output_type": "execute_result"
    }
   ],
   "source": [
    "# top sections in 2021\n",
    "\n",
    "totals_all = {}\n",
    "for i in df_sections.section.to_list():\n",
    "    section = '&section=' + i\n",
    "    \n",
    "    year_param = '&from-date=' +  '2021-01-01' '&to-date=' +  '2021-10-31'\n",
    "\n",
    "    result = r.get(api + section + year_param).json()\n",
    "    total = result.get('response').get('total')\n",
    "    totals_all[i] = total\n",
    "\n",
    "df_2021 = pd.DataFrame(columns=['section', 'total'], data={'section': totals_all.keys(), 'total':totals_all.values()})\n",
    "\n",
    "df2 = df_2021.sort_values(by='total', ascending=False).reset_index(drop=True)\n",
    "df2 = df2[~df2.section.isin(['commentisfree', 'australia-news', 'us-news'])][:10]\n",
    "df2"
   ]
  },
  {
   "cell_type": "code",
   "execution_count": 30,
   "metadata": {},
   "outputs": [
    {
     "data": {
      "application/vnd.plotly.v1+json": {
       "config": {
        "plotlyServerURL": "https://plot.ly"
       },
       "data": [
        {
         "alignmentgroup": "True",
         "hovertemplate": "total=%{x}<br>y=%{y}<extra></extra>",
         "legendgroup": "",
         "marker": {
          "color": [
           "#636EFA",
           "#636EFA",
           "#636EFA",
           "#636EFA",
           "#636EFA",
           "green",
           "#EF553B",
           "#636EFA",
           "#636EFA",
           "#636EFA"
          ]
         },
         "name": "",
         "offsetgroup": "",
         "orientation": "h",
         "showlegend": false,
         "text": [
          7771,
          5007,
          4962,
          3315,
          2710,
          2405,
          2340,
          2282,
          2086,
          1919
         ],
         "textposition": "auto",
         "type": "bar",
         "x": [
          7771,
          5007,
          4962,
          3315,
          2710,
          2405,
          2340,
          2282,
          2086,
          1919
         ],
         "xaxis": "x",
         "y": [
          "World",
          "Football",
          "Sport",
          "Business",
          "UK News",
          "Environment",
          "Politics",
          "Lifeandstyle",
          "Film",
          "Society"
         ],
         "yaxis": "y"
        }
       ],
       "layout": {
        "barmode": "relative",
        "height": 400,
        "legend": {
         "tracegroupgap": 0
        },
        "margin": {
         "pad": 10,
         "t": 60
        },
        "template": {
         "data": {
          "bar": [
           {
            "error_x": {
             "color": "#2a3f5f"
            },
            "error_y": {
             "color": "#2a3f5f"
            },
            "marker": {
             "line": {
              "color": "white",
              "width": 0.5
             }
            },
            "type": "bar"
           }
          ],
          "barpolar": [
           {
            "marker": {
             "line": {
              "color": "white",
              "width": 0.5
             }
            },
            "type": "barpolar"
           }
          ],
          "carpet": [
           {
            "aaxis": {
             "endlinecolor": "#2a3f5f",
             "gridcolor": "#C8D4E3",
             "linecolor": "#C8D4E3",
             "minorgridcolor": "#C8D4E3",
             "startlinecolor": "#2a3f5f"
            },
            "baxis": {
             "endlinecolor": "#2a3f5f",
             "gridcolor": "#C8D4E3",
             "linecolor": "#C8D4E3",
             "minorgridcolor": "#C8D4E3",
             "startlinecolor": "#2a3f5f"
            },
            "type": "carpet"
           }
          ],
          "choropleth": [
           {
            "colorbar": {
             "outlinewidth": 0,
             "ticks": ""
            },
            "type": "choropleth"
           }
          ],
          "contour": [
           {
            "colorbar": {
             "outlinewidth": 0,
             "ticks": ""
            },
            "colorscale": [
             [
              0,
              "#0d0887"
             ],
             [
              0.1111111111111111,
              "#46039f"
             ],
             [
              0.2222222222222222,
              "#7201a8"
             ],
             [
              0.3333333333333333,
              "#9c179e"
             ],
             [
              0.4444444444444444,
              "#bd3786"
             ],
             [
              0.5555555555555556,
              "#d8576b"
             ],
             [
              0.6666666666666666,
              "#ed7953"
             ],
             [
              0.7777777777777778,
              "#fb9f3a"
             ],
             [
              0.8888888888888888,
              "#fdca26"
             ],
             [
              1,
              "#f0f921"
             ]
            ],
            "type": "contour"
           }
          ],
          "contourcarpet": [
           {
            "colorbar": {
             "outlinewidth": 0,
             "ticks": ""
            },
            "type": "contourcarpet"
           }
          ],
          "heatmap": [
           {
            "colorbar": {
             "outlinewidth": 0,
             "ticks": ""
            },
            "colorscale": [
             [
              0,
              "#0d0887"
             ],
             [
              0.1111111111111111,
              "#46039f"
             ],
             [
              0.2222222222222222,
              "#7201a8"
             ],
             [
              0.3333333333333333,
              "#9c179e"
             ],
             [
              0.4444444444444444,
              "#bd3786"
             ],
             [
              0.5555555555555556,
              "#d8576b"
             ],
             [
              0.6666666666666666,
              "#ed7953"
             ],
             [
              0.7777777777777778,
              "#fb9f3a"
             ],
             [
              0.8888888888888888,
              "#fdca26"
             ],
             [
              1,
              "#f0f921"
             ]
            ],
            "type": "heatmap"
           }
          ],
          "heatmapgl": [
           {
            "colorbar": {
             "outlinewidth": 0,
             "ticks": ""
            },
            "colorscale": [
             [
              0,
              "#0d0887"
             ],
             [
              0.1111111111111111,
              "#46039f"
             ],
             [
              0.2222222222222222,
              "#7201a8"
             ],
             [
              0.3333333333333333,
              "#9c179e"
             ],
             [
              0.4444444444444444,
              "#bd3786"
             ],
             [
              0.5555555555555556,
              "#d8576b"
             ],
             [
              0.6666666666666666,
              "#ed7953"
             ],
             [
              0.7777777777777778,
              "#fb9f3a"
             ],
             [
              0.8888888888888888,
              "#fdca26"
             ],
             [
              1,
              "#f0f921"
             ]
            ],
            "type": "heatmapgl"
           }
          ],
          "histogram": [
           {
            "marker": {
             "colorbar": {
              "outlinewidth": 0,
              "ticks": ""
             }
            },
            "type": "histogram"
           }
          ],
          "histogram2d": [
           {
            "colorbar": {
             "outlinewidth": 0,
             "ticks": ""
            },
            "colorscale": [
             [
              0,
              "#0d0887"
             ],
             [
              0.1111111111111111,
              "#46039f"
             ],
             [
              0.2222222222222222,
              "#7201a8"
             ],
             [
              0.3333333333333333,
              "#9c179e"
             ],
             [
              0.4444444444444444,
              "#bd3786"
             ],
             [
              0.5555555555555556,
              "#d8576b"
             ],
             [
              0.6666666666666666,
              "#ed7953"
             ],
             [
              0.7777777777777778,
              "#fb9f3a"
             ],
             [
              0.8888888888888888,
              "#fdca26"
             ],
             [
              1,
              "#f0f921"
             ]
            ],
            "type": "histogram2d"
           }
          ],
          "histogram2dcontour": [
           {
            "colorbar": {
             "outlinewidth": 0,
             "ticks": ""
            },
            "colorscale": [
             [
              0,
              "#0d0887"
             ],
             [
              0.1111111111111111,
              "#46039f"
             ],
             [
              0.2222222222222222,
              "#7201a8"
             ],
             [
              0.3333333333333333,
              "#9c179e"
             ],
             [
              0.4444444444444444,
              "#bd3786"
             ],
             [
              0.5555555555555556,
              "#d8576b"
             ],
             [
              0.6666666666666666,
              "#ed7953"
             ],
             [
              0.7777777777777778,
              "#fb9f3a"
             ],
             [
              0.8888888888888888,
              "#fdca26"
             ],
             [
              1,
              "#f0f921"
             ]
            ],
            "type": "histogram2dcontour"
           }
          ],
          "mesh3d": [
           {
            "colorbar": {
             "outlinewidth": 0,
             "ticks": ""
            },
            "type": "mesh3d"
           }
          ],
          "parcoords": [
           {
            "line": {
             "colorbar": {
              "outlinewidth": 0,
              "ticks": ""
             }
            },
            "type": "parcoords"
           }
          ],
          "pie": [
           {
            "automargin": true,
            "type": "pie"
           }
          ],
          "scatter": [
           {
            "marker": {
             "colorbar": {
              "outlinewidth": 0,
              "ticks": ""
             }
            },
            "type": "scatter"
           }
          ],
          "scatter3d": [
           {
            "line": {
             "colorbar": {
              "outlinewidth": 0,
              "ticks": ""
             }
            },
            "marker": {
             "colorbar": {
              "outlinewidth": 0,
              "ticks": ""
             }
            },
            "type": "scatter3d"
           }
          ],
          "scattercarpet": [
           {
            "marker": {
             "colorbar": {
              "outlinewidth": 0,
              "ticks": ""
             }
            },
            "type": "scattercarpet"
           }
          ],
          "scattergeo": [
           {
            "marker": {
             "colorbar": {
              "outlinewidth": 0,
              "ticks": ""
             }
            },
            "type": "scattergeo"
           }
          ],
          "scattergl": [
           {
            "marker": {
             "colorbar": {
              "outlinewidth": 0,
              "ticks": ""
             }
            },
            "type": "scattergl"
           }
          ],
          "scattermapbox": [
           {
            "marker": {
             "colorbar": {
              "outlinewidth": 0,
              "ticks": ""
             }
            },
            "type": "scattermapbox"
           }
          ],
          "scatterpolar": [
           {
            "marker": {
             "colorbar": {
              "outlinewidth": 0,
              "ticks": ""
             }
            },
            "type": "scatterpolar"
           }
          ],
          "scatterpolargl": [
           {
            "marker": {
             "colorbar": {
              "outlinewidth": 0,
              "ticks": ""
             }
            },
            "type": "scatterpolargl"
           }
          ],
          "scatterternary": [
           {
            "marker": {
             "colorbar": {
              "outlinewidth": 0,
              "ticks": ""
             }
            },
            "type": "scatterternary"
           }
          ],
          "surface": [
           {
            "colorbar": {
             "outlinewidth": 0,
             "ticks": ""
            },
            "colorscale": [
             [
              0,
              "#0d0887"
             ],
             [
              0.1111111111111111,
              "#46039f"
             ],
             [
              0.2222222222222222,
              "#7201a8"
             ],
             [
              0.3333333333333333,
              "#9c179e"
             ],
             [
              0.4444444444444444,
              "#bd3786"
             ],
             [
              0.5555555555555556,
              "#d8576b"
             ],
             [
              0.6666666666666666,
              "#ed7953"
             ],
             [
              0.7777777777777778,
              "#fb9f3a"
             ],
             [
              0.8888888888888888,
              "#fdca26"
             ],
             [
              1,
              "#f0f921"
             ]
            ],
            "type": "surface"
           }
          ],
          "table": [
           {
            "cells": {
             "fill": {
              "color": "#EBF0F8"
             },
             "line": {
              "color": "white"
             }
            },
            "header": {
             "fill": {
              "color": "#C8D4E3"
             },
             "line": {
              "color": "white"
             }
            },
            "type": "table"
           }
          ]
         },
         "layout": {
          "annotationdefaults": {
           "arrowcolor": "#2a3f5f",
           "arrowhead": 0,
           "arrowwidth": 1
          },
          "autotypenumbers": "strict",
          "coloraxis": {
           "colorbar": {
            "outlinewidth": 0,
            "ticks": ""
           }
          },
          "colorscale": {
           "diverging": [
            [
             0,
             "#8e0152"
            ],
            [
             0.1,
             "#c51b7d"
            ],
            [
             0.2,
             "#de77ae"
            ],
            [
             0.3,
             "#f1b6da"
            ],
            [
             0.4,
             "#fde0ef"
            ],
            [
             0.5,
             "#f7f7f7"
            ],
            [
             0.6,
             "#e6f5d0"
            ],
            [
             0.7,
             "#b8e186"
            ],
            [
             0.8,
             "#7fbc41"
            ],
            [
             0.9,
             "#4d9221"
            ],
            [
             1,
             "#276419"
            ]
           ],
           "sequential": [
            [
             0,
             "#0d0887"
            ],
            [
             0.1111111111111111,
             "#46039f"
            ],
            [
             0.2222222222222222,
             "#7201a8"
            ],
            [
             0.3333333333333333,
             "#9c179e"
            ],
            [
             0.4444444444444444,
             "#bd3786"
            ],
            [
             0.5555555555555556,
             "#d8576b"
            ],
            [
             0.6666666666666666,
             "#ed7953"
            ],
            [
             0.7777777777777778,
             "#fb9f3a"
            ],
            [
             0.8888888888888888,
             "#fdca26"
            ],
            [
             1,
             "#f0f921"
            ]
           ],
           "sequentialminus": [
            [
             0,
             "#0d0887"
            ],
            [
             0.1111111111111111,
             "#46039f"
            ],
            [
             0.2222222222222222,
             "#7201a8"
            ],
            [
             0.3333333333333333,
             "#9c179e"
            ],
            [
             0.4444444444444444,
             "#bd3786"
            ],
            [
             0.5555555555555556,
             "#d8576b"
            ],
            [
             0.6666666666666666,
             "#ed7953"
            ],
            [
             0.7777777777777778,
             "#fb9f3a"
            ],
            [
             0.8888888888888888,
             "#fdca26"
            ],
            [
             1,
             "#f0f921"
            ]
           ]
          },
          "colorway": [
           "#636efa",
           "#EF553B",
           "#00cc96",
           "#ab63fa",
           "#FFA15A",
           "#19d3f3",
           "#FF6692",
           "#B6E880",
           "#FF97FF",
           "#FECB52"
          ],
          "font": {
           "color": "#2a3f5f"
          },
          "geo": {
           "bgcolor": "white",
           "lakecolor": "white",
           "landcolor": "white",
           "showlakes": true,
           "showland": true,
           "subunitcolor": "#C8D4E3"
          },
          "hoverlabel": {
           "align": "left"
          },
          "hovermode": "closest",
          "mapbox": {
           "style": "light"
          },
          "paper_bgcolor": "white",
          "plot_bgcolor": "white",
          "polar": {
           "angularaxis": {
            "gridcolor": "#EBF0F8",
            "linecolor": "#EBF0F8",
            "ticks": ""
           },
           "bgcolor": "white",
           "radialaxis": {
            "gridcolor": "#EBF0F8",
            "linecolor": "#EBF0F8",
            "ticks": ""
           }
          },
          "scene": {
           "xaxis": {
            "backgroundcolor": "white",
            "gridcolor": "#DFE8F3",
            "gridwidth": 2,
            "linecolor": "#EBF0F8",
            "showbackground": true,
            "ticks": "",
            "zerolinecolor": "#EBF0F8"
           },
           "yaxis": {
            "backgroundcolor": "white",
            "gridcolor": "#DFE8F3",
            "gridwidth": 2,
            "linecolor": "#EBF0F8",
            "showbackground": true,
            "ticks": "",
            "zerolinecolor": "#EBF0F8"
           },
           "zaxis": {
            "backgroundcolor": "white",
            "gridcolor": "#DFE8F3",
            "gridwidth": 2,
            "linecolor": "#EBF0F8",
            "showbackground": true,
            "ticks": "",
            "zerolinecolor": "#EBF0F8"
           }
          },
          "shapedefaults": {
           "line": {
            "color": "#2a3f5f"
           }
          },
          "ternary": {
           "aaxis": {
            "gridcolor": "#DFE8F3",
            "linecolor": "#A2B1C6",
            "ticks": ""
           },
           "baxis": {
            "gridcolor": "#DFE8F3",
            "linecolor": "#A2B1C6",
            "ticks": ""
           },
           "bgcolor": "white",
           "caxis": {
            "gridcolor": "#DFE8F3",
            "linecolor": "#A2B1C6",
            "ticks": ""
           }
          },
          "title": {
           "x": 0.05
          },
          "xaxis": {
           "automargin": true,
           "gridcolor": "#EBF0F8",
           "linecolor": "#EBF0F8",
           "ticks": "",
           "title": {
            "standoff": 15
           },
           "zerolinecolor": "#EBF0F8",
           "zerolinewidth": 2
          },
          "yaxis": {
           "automargin": true,
           "gridcolor": "#EBF0F8",
           "linecolor": "#EBF0F8",
           "ticks": "",
           "title": {
            "standoff": 15
           },
           "zerolinecolor": "#EBF0F8",
           "zerolinewidth": 2
          }
         }
        },
        "title": {
         "text": "Total number of articles in the top 10 sections in 2021",
         "x": 0.5
        },
        "width": 800,
        "xaxis": {
         "anchor": "y",
         "domain": [
          0,
          1
         ],
         "showgrid": false,
         "showticklabels": false,
         "title": {
          "text": ""
         }
        },
        "yaxis": {
         "anchor": "x",
         "categoryorder": "total ascending",
         "domain": [
          0,
          1
         ],
         "tickfont": {
          "size": 16
         },
         "ticklen": 30,
         "tickwidth": 20,
         "title": {
          "text": ""
         }
        }
       }
      },
      "text/html": [
       "<div>                            <div id=\"b9f02f99-a19d-41c2-bf8e-f8c233896b69\" class=\"plotly-graph-div\" style=\"height:400px; width:800px;\"></div>            <script type=\"text/javascript\">                require([\"plotly\"], function(Plotly) {                    window.PLOTLYENV=window.PLOTLYENV || {};                                    if (document.getElementById(\"b9f02f99-a19d-41c2-bf8e-f8c233896b69\")) {                    Plotly.newPlot(                        \"b9f02f99-a19d-41c2-bf8e-f8c233896b69\",                        [{\"alignmentgroup\": \"True\", \"hovertemplate\": \"total=%{x}<br>y=%{y}<extra></extra>\", \"legendgroup\": \"\", \"marker\": {\"color\": [\"#636EFA\", \"#636EFA\", \"#636EFA\", \"#636EFA\", \"#636EFA\", \"green\", \"#EF553B\", \"#636EFA\", \"#636EFA\", \"#636EFA\"]}, \"name\": \"\", \"offsetgroup\": \"\", \"orientation\": \"h\", \"showlegend\": false, \"text\": [7771.0, 5007.0, 4962.0, 3315.0, 2710.0, 2405.0, 2340.0, 2282.0, 2086.0, 1919.0], \"textposition\": \"auto\", \"type\": \"bar\", \"x\": [7771, 5007, 4962, 3315, 2710, 2405, 2340, 2282, 2086, 1919], \"xaxis\": \"x\", \"y\": [\"World\", \"Football\", \"Sport\", \"Business\", \"UK News\", \"Environment\", \"Politics\", \"Lifeandstyle\", \"Film\", \"Society\"], \"yaxis\": \"y\"}],                        {\"barmode\": \"relative\", \"height\": 400, \"legend\": {\"tracegroupgap\": 0}, \"margin\": {\"pad\": 10, \"t\": 60}, \"template\": {\"data\": {\"bar\": [{\"error_x\": {\"color\": \"#2a3f5f\"}, \"error_y\": {\"color\": \"#2a3f5f\"}, \"marker\": {\"line\": {\"color\": \"white\", \"width\": 0.5}}, \"type\": \"bar\"}], \"barpolar\": [{\"marker\": {\"line\": {\"color\": \"white\", \"width\": 0.5}}, \"type\": \"barpolar\"}], \"carpet\": [{\"aaxis\": {\"endlinecolor\": \"#2a3f5f\", \"gridcolor\": \"#C8D4E3\", \"linecolor\": \"#C8D4E3\", \"minorgridcolor\": \"#C8D4E3\", \"startlinecolor\": \"#2a3f5f\"}, \"baxis\": {\"endlinecolor\": \"#2a3f5f\", \"gridcolor\": \"#C8D4E3\", \"linecolor\": \"#C8D4E3\", \"minorgridcolor\": \"#C8D4E3\", \"startlinecolor\": \"#2a3f5f\"}, \"type\": \"carpet\"}], \"choropleth\": [{\"colorbar\": {\"outlinewidth\": 0, \"ticks\": \"\"}, \"type\": \"choropleth\"}], \"contour\": [{\"colorbar\": {\"outlinewidth\": 0, \"ticks\": \"\"}, \"colorscale\": [[0.0, \"#0d0887\"], [0.1111111111111111, \"#46039f\"], [0.2222222222222222, \"#7201a8\"], [0.3333333333333333, \"#9c179e\"], [0.4444444444444444, \"#bd3786\"], [0.5555555555555556, \"#d8576b\"], [0.6666666666666666, \"#ed7953\"], [0.7777777777777778, \"#fb9f3a\"], [0.8888888888888888, \"#fdca26\"], [1.0, \"#f0f921\"]], \"type\": \"contour\"}], \"contourcarpet\": [{\"colorbar\": {\"outlinewidth\": 0, \"ticks\": \"\"}, \"type\": \"contourcarpet\"}], \"heatmap\": [{\"colorbar\": {\"outlinewidth\": 0, \"ticks\": \"\"}, \"colorscale\": [[0.0, \"#0d0887\"], [0.1111111111111111, \"#46039f\"], [0.2222222222222222, \"#7201a8\"], [0.3333333333333333, \"#9c179e\"], [0.4444444444444444, \"#bd3786\"], [0.5555555555555556, \"#d8576b\"], [0.6666666666666666, \"#ed7953\"], [0.7777777777777778, \"#fb9f3a\"], [0.8888888888888888, \"#fdca26\"], [1.0, \"#f0f921\"]], \"type\": \"heatmap\"}], \"heatmapgl\": [{\"colorbar\": {\"outlinewidth\": 0, \"ticks\": \"\"}, \"colorscale\": [[0.0, \"#0d0887\"], [0.1111111111111111, \"#46039f\"], [0.2222222222222222, \"#7201a8\"], [0.3333333333333333, \"#9c179e\"], [0.4444444444444444, \"#bd3786\"], [0.5555555555555556, \"#d8576b\"], [0.6666666666666666, \"#ed7953\"], [0.7777777777777778, \"#fb9f3a\"], [0.8888888888888888, \"#fdca26\"], [1.0, \"#f0f921\"]], \"type\": \"heatmapgl\"}], \"histogram\": [{\"marker\": {\"colorbar\": {\"outlinewidth\": 0, \"ticks\": \"\"}}, \"type\": \"histogram\"}], \"histogram2d\": [{\"colorbar\": {\"outlinewidth\": 0, \"ticks\": \"\"}, \"colorscale\": [[0.0, \"#0d0887\"], [0.1111111111111111, \"#46039f\"], [0.2222222222222222, \"#7201a8\"], [0.3333333333333333, \"#9c179e\"], [0.4444444444444444, \"#bd3786\"], [0.5555555555555556, \"#d8576b\"], [0.6666666666666666, \"#ed7953\"], [0.7777777777777778, \"#fb9f3a\"], [0.8888888888888888, \"#fdca26\"], [1.0, \"#f0f921\"]], \"type\": \"histogram2d\"}], \"histogram2dcontour\": [{\"colorbar\": {\"outlinewidth\": 0, \"ticks\": \"\"}, \"colorscale\": [[0.0, \"#0d0887\"], [0.1111111111111111, \"#46039f\"], [0.2222222222222222, \"#7201a8\"], [0.3333333333333333, \"#9c179e\"], [0.4444444444444444, \"#bd3786\"], [0.5555555555555556, \"#d8576b\"], [0.6666666666666666, \"#ed7953\"], [0.7777777777777778, \"#fb9f3a\"], [0.8888888888888888, \"#fdca26\"], [1.0, \"#f0f921\"]], \"type\": \"histogram2dcontour\"}], \"mesh3d\": [{\"colorbar\": {\"outlinewidth\": 0, \"ticks\": \"\"}, \"type\": \"mesh3d\"}], \"parcoords\": [{\"line\": {\"colorbar\": {\"outlinewidth\": 0, \"ticks\": \"\"}}, \"type\": \"parcoords\"}], \"pie\": [{\"automargin\": true, \"type\": \"pie\"}], \"scatter\": [{\"marker\": {\"colorbar\": {\"outlinewidth\": 0, \"ticks\": \"\"}}, \"type\": \"scatter\"}], \"scatter3d\": [{\"line\": {\"colorbar\": {\"outlinewidth\": 0, \"ticks\": \"\"}}, \"marker\": {\"colorbar\": {\"outlinewidth\": 0, \"ticks\": \"\"}}, \"type\": \"scatter3d\"}], \"scattercarpet\": [{\"marker\": {\"colorbar\": {\"outlinewidth\": 0, \"ticks\": \"\"}}, \"type\": \"scattercarpet\"}], \"scattergeo\": [{\"marker\": {\"colorbar\": {\"outlinewidth\": 0, \"ticks\": \"\"}}, \"type\": \"scattergeo\"}], \"scattergl\": [{\"marker\": {\"colorbar\": {\"outlinewidth\": 0, \"ticks\": \"\"}}, \"type\": \"scattergl\"}], \"scattermapbox\": [{\"marker\": {\"colorbar\": {\"outlinewidth\": 0, \"ticks\": \"\"}}, \"type\": \"scattermapbox\"}], \"scatterpolar\": [{\"marker\": {\"colorbar\": {\"outlinewidth\": 0, \"ticks\": \"\"}}, \"type\": \"scatterpolar\"}], \"scatterpolargl\": [{\"marker\": {\"colorbar\": {\"outlinewidth\": 0, \"ticks\": \"\"}}, \"type\": \"scatterpolargl\"}], \"scatterternary\": [{\"marker\": {\"colorbar\": {\"outlinewidth\": 0, \"ticks\": \"\"}}, \"type\": \"scatterternary\"}], \"surface\": [{\"colorbar\": {\"outlinewidth\": 0, \"ticks\": \"\"}, \"colorscale\": [[0.0, \"#0d0887\"], [0.1111111111111111, \"#46039f\"], [0.2222222222222222, \"#7201a8\"], [0.3333333333333333, \"#9c179e\"], [0.4444444444444444, \"#bd3786\"], [0.5555555555555556, \"#d8576b\"], [0.6666666666666666, \"#ed7953\"], [0.7777777777777778, \"#fb9f3a\"], [0.8888888888888888, \"#fdca26\"], [1.0, \"#f0f921\"]], \"type\": \"surface\"}], \"table\": [{\"cells\": {\"fill\": {\"color\": \"#EBF0F8\"}, \"line\": {\"color\": \"white\"}}, \"header\": {\"fill\": {\"color\": \"#C8D4E3\"}, \"line\": {\"color\": \"white\"}}, \"type\": \"table\"}]}, \"layout\": {\"annotationdefaults\": {\"arrowcolor\": \"#2a3f5f\", \"arrowhead\": 0, \"arrowwidth\": 1}, \"autotypenumbers\": \"strict\", \"coloraxis\": {\"colorbar\": {\"outlinewidth\": 0, \"ticks\": \"\"}}, \"colorscale\": {\"diverging\": [[0, \"#8e0152\"], [0.1, \"#c51b7d\"], [0.2, \"#de77ae\"], [0.3, \"#f1b6da\"], [0.4, \"#fde0ef\"], [0.5, \"#f7f7f7\"], [0.6, \"#e6f5d0\"], [0.7, \"#b8e186\"], [0.8, \"#7fbc41\"], [0.9, \"#4d9221\"], [1, \"#276419\"]], \"sequential\": [[0.0, \"#0d0887\"], [0.1111111111111111, \"#46039f\"], [0.2222222222222222, \"#7201a8\"], [0.3333333333333333, \"#9c179e\"], [0.4444444444444444, \"#bd3786\"], [0.5555555555555556, \"#d8576b\"], [0.6666666666666666, \"#ed7953\"], [0.7777777777777778, \"#fb9f3a\"], [0.8888888888888888, \"#fdca26\"], [1.0, \"#f0f921\"]], \"sequentialminus\": [[0.0, \"#0d0887\"], [0.1111111111111111, \"#46039f\"], [0.2222222222222222, \"#7201a8\"], [0.3333333333333333, \"#9c179e\"], [0.4444444444444444, \"#bd3786\"], [0.5555555555555556, \"#d8576b\"], [0.6666666666666666, \"#ed7953\"], [0.7777777777777778, \"#fb9f3a\"], [0.8888888888888888, \"#fdca26\"], [1.0, \"#f0f921\"]]}, \"colorway\": [\"#636efa\", \"#EF553B\", \"#00cc96\", \"#ab63fa\", \"#FFA15A\", \"#19d3f3\", \"#FF6692\", \"#B6E880\", \"#FF97FF\", \"#FECB52\"], \"font\": {\"color\": \"#2a3f5f\"}, \"geo\": {\"bgcolor\": \"white\", \"lakecolor\": \"white\", \"landcolor\": \"white\", \"showlakes\": true, \"showland\": true, \"subunitcolor\": \"#C8D4E3\"}, \"hoverlabel\": {\"align\": \"left\"}, \"hovermode\": \"closest\", \"mapbox\": {\"style\": \"light\"}, \"paper_bgcolor\": \"white\", \"plot_bgcolor\": \"white\", \"polar\": {\"angularaxis\": {\"gridcolor\": \"#EBF0F8\", \"linecolor\": \"#EBF0F8\", \"ticks\": \"\"}, \"bgcolor\": \"white\", \"radialaxis\": {\"gridcolor\": \"#EBF0F8\", \"linecolor\": \"#EBF0F8\", \"ticks\": \"\"}}, \"scene\": {\"xaxis\": {\"backgroundcolor\": \"white\", \"gridcolor\": \"#DFE8F3\", \"gridwidth\": 2, \"linecolor\": \"#EBF0F8\", \"showbackground\": true, \"ticks\": \"\", \"zerolinecolor\": \"#EBF0F8\"}, \"yaxis\": {\"backgroundcolor\": \"white\", \"gridcolor\": \"#DFE8F3\", \"gridwidth\": 2, \"linecolor\": \"#EBF0F8\", \"showbackground\": true, \"ticks\": \"\", \"zerolinecolor\": \"#EBF0F8\"}, \"zaxis\": {\"backgroundcolor\": \"white\", \"gridcolor\": \"#DFE8F3\", \"gridwidth\": 2, \"linecolor\": \"#EBF0F8\", \"showbackground\": true, \"ticks\": \"\", \"zerolinecolor\": \"#EBF0F8\"}}, \"shapedefaults\": {\"line\": {\"color\": \"#2a3f5f\"}}, \"ternary\": {\"aaxis\": {\"gridcolor\": \"#DFE8F3\", \"linecolor\": \"#A2B1C6\", \"ticks\": \"\"}, \"baxis\": {\"gridcolor\": \"#DFE8F3\", \"linecolor\": \"#A2B1C6\", \"ticks\": \"\"}, \"bgcolor\": \"white\", \"caxis\": {\"gridcolor\": \"#DFE8F3\", \"linecolor\": \"#A2B1C6\", \"ticks\": \"\"}}, \"title\": {\"x\": 0.05}, \"xaxis\": {\"automargin\": true, \"gridcolor\": \"#EBF0F8\", \"linecolor\": \"#EBF0F8\", \"ticks\": \"\", \"title\": {\"standoff\": 15}, \"zerolinecolor\": \"#EBF0F8\", \"zerolinewidth\": 2}, \"yaxis\": {\"automargin\": true, \"gridcolor\": \"#EBF0F8\", \"linecolor\": \"#EBF0F8\", \"ticks\": \"\", \"title\": {\"standoff\": 15}, \"zerolinecolor\": \"#EBF0F8\", \"zerolinewidth\": 2}}}, \"title\": {\"text\": \"Total number of articles in the top 10 sections in 2021\", \"x\": 0.5}, \"width\": 800, \"xaxis\": {\"anchor\": \"y\", \"domain\": [0.0, 1.0], \"showgrid\": false, \"showticklabels\": false, \"title\": {\"text\": \"\"}}, \"yaxis\": {\"anchor\": \"x\", \"categoryorder\": \"total ascending\", \"domain\": [0.0, 1.0], \"tickfont\": {\"size\": 16}, \"ticklen\": 30, \"tickwidth\": 20, \"title\": {\"text\": \"\"}}},                        {\"responsive\": true}                    ).then(function(){\n",
       "                            \n",
       "var gd = document.getElementById('b9f02f99-a19d-41c2-bf8e-f8c233896b69');\n",
       "var x = new MutationObserver(function (mutations, observer) {{\n",
       "        var display = window.getComputedStyle(gd).display;\n",
       "        if (!display || display === 'none') {{\n",
       "            console.log([gd, 'removed!']);\n",
       "            Plotly.purge(gd);\n",
       "            observer.disconnect();\n",
       "        }}\n",
       "}});\n",
       "\n",
       "// Listen for the removal of the full notebook cells\n",
       "var notebookContainer = gd.closest('#notebook-container');\n",
       "if (notebookContainer) {{\n",
       "    x.observe(notebookContainer, {childList: true});\n",
       "}}\n",
       "\n",
       "// Listen for the clearing of the current output cell\n",
       "var outputEl = gd.closest('.output');\n",
       "if (outputEl) {{\n",
       "    x.observe(outputEl, {childList: true});\n",
       "}}\n",
       "\n",
       "                        })                };                });            </script>        </div>"
      ]
     },
     "metadata": {},
     "output_type": "display_data"
    }
   ],
   "source": [
    "fig = None\n",
    "\n",
    "s_color = px.colors.qualitative.Plotly[0]\n",
    "colors = [s_color] * df2.shape[0]\n",
    "colors[5] =  'green'\n",
    "colors[6] = px.colors.qualitative.Plotly[1]\n",
    "\n",
    "y = [ 'UK News' if i.startswith('uk-news')  else i.title() for i in list(df2.section)] \n",
    "\n",
    "fig = px.bar(df2, x='total', y=y, orientation='h')\n",
    "fig.update_traces(marker_color=colors, text=df2.total)\n",
    "\n",
    "fig.update_layout(yaxis={'categoryorder': 'total ascending'}, height=400, width=800, \n",
    "margin=dict(pad=10))\n",
    "\n",
    "title={\n",
    "    'text': 'Total number of articles in the top 10 sections in 2021',\n",
    "    # 'y':0.9,\n",
    "     'x':0.5,\n",
    "    # 'xanchor': 'center',\n",
    "    # 'yanchor': 'top'\n",
    "    }\n",
    "\n",
    "fig.update_layout(title =  title,xaxis_title='', yaxis_title='') \n",
    "\n",
    "\n",
    "\n",
    "fig.update_yaxes(tickfont=dict(size=16), tickwidth=20, ticklen=30)\n",
    "fig.update_xaxes(showticklabels=False, showgrid=False)\n",
    "\n",
    "fig.show()"
   ]
  },
  {
   "cell_type": "code",
   "execution_count": 95,
   "metadata": {},
   "outputs": [
    {
     "data": {
      "text/html": [
       "<div>\n",
       "<style scoped>\n",
       "    .dataframe tbody tr th:only-of-type {\n",
       "        vertical-align: middle;\n",
       "    }\n",
       "\n",
       "    .dataframe tbody tr th {\n",
       "        vertical-align: top;\n",
       "    }\n",
       "\n",
       "    .dataframe thead th {\n",
       "        text-align: right;\n",
       "    }\n",
       "</style>\n",
       "<table border=\"1\" class=\"dataframe\">\n",
       "  <thead>\n",
       "    <tr style=\"text-align: right;\">\n",
       "      <th></th>\n",
       "      <th>section</th>\n",
       "      <th>total</th>\n",
       "    </tr>\n",
       "  </thead>\n",
       "  <tbody>\n",
       "    <tr>\n",
       "      <th>0</th>\n",
       "      <td>world</td>\n",
       "      <td>7771</td>\n",
       "    </tr>\n",
       "    <tr>\n",
       "      <th>1</th>\n",
       "      <td>football</td>\n",
       "      <td>5007</td>\n",
       "    </tr>\n",
       "    <tr>\n",
       "      <th>2</th>\n",
       "      <td>sport</td>\n",
       "      <td>4962</td>\n",
       "    </tr>\n",
       "    <tr>\n",
       "      <th>3</th>\n",
       "      <td>commentisfree</td>\n",
       "      <td>4356</td>\n",
       "    </tr>\n",
       "    <tr>\n",
       "      <th>4</th>\n",
       "      <td>australia-news</td>\n",
       "      <td>4185</td>\n",
       "    </tr>\n",
       "    <tr>\n",
       "      <th>5</th>\n",
       "      <td>us-news</td>\n",
       "      <td>3764</td>\n",
       "    </tr>\n",
       "    <tr>\n",
       "      <th>6</th>\n",
       "      <td>business</td>\n",
       "      <td>3315</td>\n",
       "    </tr>\n",
       "    <tr>\n",
       "      <th>7</th>\n",
       "      <td>uk-news</td>\n",
       "      <td>2710</td>\n",
       "    </tr>\n",
       "    <tr>\n",
       "      <th>8</th>\n",
       "      <td>environment</td>\n",
       "      <td>2405</td>\n",
       "    </tr>\n",
       "    <tr>\n",
       "      <th>9</th>\n",
       "      <td>politics</td>\n",
       "      <td>2340</td>\n",
       "    </tr>\n",
       "  </tbody>\n",
       "</table>\n",
       "</div>"
      ],
      "text/plain": [
       "          section  total\n",
       "0           world   7771\n",
       "1        football   5007\n",
       "2           sport   4962\n",
       "3   commentisfree   4356\n",
       "4  australia-news   4185\n",
       "5         us-news   3764\n",
       "6        business   3315\n",
       "7         uk-news   2710\n",
       "8     environment   2405\n",
       "9        politics   2340"
      ]
     },
     "execution_count": 95,
     "metadata": {},
     "output_type": "execute_result"
    }
   ],
   "source": [
    "df_2021.sort_values(by='total', ascending=False).reset_index(drop=True)[:10]"
   ]
  },
  {
   "cell_type": "code",
   "execution_count": 6,
   "metadata": {},
   "outputs": [
    {
     "data": {
      "application/vnd.plotly.v1+json": {
       "config": {
        "plotlyServerURL": "https://plotly.com"
       },
       "data": [
        {
         "hovertemplate": "variable=environment<br>year=%{x}<br>value=%{y}<extra></extra>",
         "legendgroup": "environment",
         "line": {
          "color": "green",
          "dash": "solid"
         },
         "mode": "lines",
         "name": "environment",
         "orientation": "v",
         "showlegend": true,
         "type": "scatter",
         "x": [
          1999,
          2000,
          2001,
          2002,
          2003,
          2004,
          2005,
          2006,
          2007,
          2008,
          2009,
          2010,
          2011,
          2012,
          2013,
          2014,
          2015,
          2016,
          2017,
          2018,
          2019,
          2020,
          2021
         ],
         "xaxis": "x",
         "y": [
          247,
          494,
          345,
          624,
          802,
          877,
          984,
          1508,
          2067,
          3597,
          3711,
          2974,
          3035,
          2938,
          3059,
          2993,
          3211,
          2733,
          2323,
          2478,
          2569,
          2479,
          2445
         ],
         "yaxis": "y"
        },
        {
         "hovertemplate": "variable=politics<br>year=%{x}<br>value=%{y}<extra></extra>",
         "legendgroup": "politics",
         "line": {
          "color": "#EF553B",
          "dash": "solid"
         },
         "mode": "lines",
         "name": "politics",
         "orientation": "v",
         "showlegend": true,
         "type": "scatter",
         "x": [
          1999,
          2000,
          2001,
          2002,
          2003,
          2004,
          2005,
          2006,
          2007,
          2008,
          2009,
          2010,
          2011,
          2012,
          2013,
          2014,
          2015,
          2016,
          2017,
          2018,
          2019,
          2020,
          2021
         ],
         "xaxis": "x",
         "y": [
          3069,
          3552,
          5866,
          5790,
          7249,
          6563,
          7180,
          4565,
          4829,
          6189,
          5577,
          5630,
          3820,
          3796,
          3782,
          4034,
          4414,
          4788,
          4364,
          3757,
          5547,
          3036,
          2358
         ],
         "yaxis": "y"
        }
       ],
       "layout": {
        "legend": {
         "title": {
          "text": "variable"
         },
         "tracegroupgap": 0
        },
        "margin": {
         "t": 60
        },
        "template": {
         "data": {
          "bar": [
           {
            "error_x": {
             "color": "#2a3f5f"
            },
            "error_y": {
             "color": "#2a3f5f"
            },
            "marker": {
             "line": {
              "color": "white",
              "width": 0.5
             }
            },
            "type": "bar"
           }
          ],
          "barpolar": [
           {
            "marker": {
             "line": {
              "color": "white",
              "width": 0.5
             }
            },
            "type": "barpolar"
           }
          ],
          "carpet": [
           {
            "aaxis": {
             "endlinecolor": "#2a3f5f",
             "gridcolor": "#C8D4E3",
             "linecolor": "#C8D4E3",
             "minorgridcolor": "#C8D4E3",
             "startlinecolor": "#2a3f5f"
            },
            "baxis": {
             "endlinecolor": "#2a3f5f",
             "gridcolor": "#C8D4E3",
             "linecolor": "#C8D4E3",
             "minorgridcolor": "#C8D4E3",
             "startlinecolor": "#2a3f5f"
            },
            "type": "carpet"
           }
          ],
          "choropleth": [
           {
            "colorbar": {
             "outlinewidth": 0,
             "ticks": ""
            },
            "type": "choropleth"
           }
          ],
          "contour": [
           {
            "colorbar": {
             "outlinewidth": 0,
             "ticks": ""
            },
            "colorscale": [
             [
              0,
              "#0d0887"
             ],
             [
              0.1111111111111111,
              "#46039f"
             ],
             [
              0.2222222222222222,
              "#7201a8"
             ],
             [
              0.3333333333333333,
              "#9c179e"
             ],
             [
              0.4444444444444444,
              "#bd3786"
             ],
             [
              0.5555555555555556,
              "#d8576b"
             ],
             [
              0.6666666666666666,
              "#ed7953"
             ],
             [
              0.7777777777777778,
              "#fb9f3a"
             ],
             [
              0.8888888888888888,
              "#fdca26"
             ],
             [
              1,
              "#f0f921"
             ]
            ],
            "type": "contour"
           }
          ],
          "contourcarpet": [
           {
            "colorbar": {
             "outlinewidth": 0,
             "ticks": ""
            },
            "type": "contourcarpet"
           }
          ],
          "heatmap": [
           {
            "colorbar": {
             "outlinewidth": 0,
             "ticks": ""
            },
            "colorscale": [
             [
              0,
              "#0d0887"
             ],
             [
              0.1111111111111111,
              "#46039f"
             ],
             [
              0.2222222222222222,
              "#7201a8"
             ],
             [
              0.3333333333333333,
              "#9c179e"
             ],
             [
              0.4444444444444444,
              "#bd3786"
             ],
             [
              0.5555555555555556,
              "#d8576b"
             ],
             [
              0.6666666666666666,
              "#ed7953"
             ],
             [
              0.7777777777777778,
              "#fb9f3a"
             ],
             [
              0.8888888888888888,
              "#fdca26"
             ],
             [
              1,
              "#f0f921"
             ]
            ],
            "type": "heatmap"
           }
          ],
          "heatmapgl": [
           {
            "colorbar": {
             "outlinewidth": 0,
             "ticks": ""
            },
            "colorscale": [
             [
              0,
              "#0d0887"
             ],
             [
              0.1111111111111111,
              "#46039f"
             ],
             [
              0.2222222222222222,
              "#7201a8"
             ],
             [
              0.3333333333333333,
              "#9c179e"
             ],
             [
              0.4444444444444444,
              "#bd3786"
             ],
             [
              0.5555555555555556,
              "#d8576b"
             ],
             [
              0.6666666666666666,
              "#ed7953"
             ],
             [
              0.7777777777777778,
              "#fb9f3a"
             ],
             [
              0.8888888888888888,
              "#fdca26"
             ],
             [
              1,
              "#f0f921"
             ]
            ],
            "type": "heatmapgl"
           }
          ],
          "histogram": [
           {
            "marker": {
             "colorbar": {
              "outlinewidth": 0,
              "ticks": ""
             }
            },
            "type": "histogram"
           }
          ],
          "histogram2d": [
           {
            "colorbar": {
             "outlinewidth": 0,
             "ticks": ""
            },
            "colorscale": [
             [
              0,
              "#0d0887"
             ],
             [
              0.1111111111111111,
              "#46039f"
             ],
             [
              0.2222222222222222,
              "#7201a8"
             ],
             [
              0.3333333333333333,
              "#9c179e"
             ],
             [
              0.4444444444444444,
              "#bd3786"
             ],
             [
              0.5555555555555556,
              "#d8576b"
             ],
             [
              0.6666666666666666,
              "#ed7953"
             ],
             [
              0.7777777777777778,
              "#fb9f3a"
             ],
             [
              0.8888888888888888,
              "#fdca26"
             ],
             [
              1,
              "#f0f921"
             ]
            ],
            "type": "histogram2d"
           }
          ],
          "histogram2dcontour": [
           {
            "colorbar": {
             "outlinewidth": 0,
             "ticks": ""
            },
            "colorscale": [
             [
              0,
              "#0d0887"
             ],
             [
              0.1111111111111111,
              "#46039f"
             ],
             [
              0.2222222222222222,
              "#7201a8"
             ],
             [
              0.3333333333333333,
              "#9c179e"
             ],
             [
              0.4444444444444444,
              "#bd3786"
             ],
             [
              0.5555555555555556,
              "#d8576b"
             ],
             [
              0.6666666666666666,
              "#ed7953"
             ],
             [
              0.7777777777777778,
              "#fb9f3a"
             ],
             [
              0.8888888888888888,
              "#fdca26"
             ],
             [
              1,
              "#f0f921"
             ]
            ],
            "type": "histogram2dcontour"
           }
          ],
          "mesh3d": [
           {
            "colorbar": {
             "outlinewidth": 0,
             "ticks": ""
            },
            "type": "mesh3d"
           }
          ],
          "parcoords": [
           {
            "line": {
             "colorbar": {
              "outlinewidth": 0,
              "ticks": ""
             }
            },
            "type": "parcoords"
           }
          ],
          "pie": [
           {
            "automargin": true,
            "type": "pie"
           }
          ],
          "scatter": [
           {
            "marker": {
             "colorbar": {
              "outlinewidth": 0,
              "ticks": ""
             }
            },
            "type": "scatter"
           }
          ],
          "scatter3d": [
           {
            "line": {
             "colorbar": {
              "outlinewidth": 0,
              "ticks": ""
             }
            },
            "marker": {
             "colorbar": {
              "outlinewidth": 0,
              "ticks": ""
             }
            },
            "type": "scatter3d"
           }
          ],
          "scattercarpet": [
           {
            "marker": {
             "colorbar": {
              "outlinewidth": 0,
              "ticks": ""
             }
            },
            "type": "scattercarpet"
           }
          ],
          "scattergeo": [
           {
            "marker": {
             "colorbar": {
              "outlinewidth": 0,
              "ticks": ""
             }
            },
            "type": "scattergeo"
           }
          ],
          "scattergl": [
           {
            "marker": {
             "colorbar": {
              "outlinewidth": 0,
              "ticks": ""
             }
            },
            "type": "scattergl"
           }
          ],
          "scattermapbox": [
           {
            "marker": {
             "colorbar": {
              "outlinewidth": 0,
              "ticks": ""
             }
            },
            "type": "scattermapbox"
           }
          ],
          "scatterpolar": [
           {
            "marker": {
             "colorbar": {
              "outlinewidth": 0,
              "ticks": ""
             }
            },
            "type": "scatterpolar"
           }
          ],
          "scatterpolargl": [
           {
            "marker": {
             "colorbar": {
              "outlinewidth": 0,
              "ticks": ""
             }
            },
            "type": "scatterpolargl"
           }
          ],
          "scatterternary": [
           {
            "marker": {
             "colorbar": {
              "outlinewidth": 0,
              "ticks": ""
             }
            },
            "type": "scatterternary"
           }
          ],
          "surface": [
           {
            "colorbar": {
             "outlinewidth": 0,
             "ticks": ""
            },
            "colorscale": [
             [
              0,
              "#0d0887"
             ],
             [
              0.1111111111111111,
              "#46039f"
             ],
             [
              0.2222222222222222,
              "#7201a8"
             ],
             [
              0.3333333333333333,
              "#9c179e"
             ],
             [
              0.4444444444444444,
              "#bd3786"
             ],
             [
              0.5555555555555556,
              "#d8576b"
             ],
             [
              0.6666666666666666,
              "#ed7953"
             ],
             [
              0.7777777777777778,
              "#fb9f3a"
             ],
             [
              0.8888888888888888,
              "#fdca26"
             ],
             [
              1,
              "#f0f921"
             ]
            ],
            "type": "surface"
           }
          ],
          "table": [
           {
            "cells": {
             "fill": {
              "color": "#EBF0F8"
             },
             "line": {
              "color": "white"
             }
            },
            "header": {
             "fill": {
              "color": "#C8D4E3"
             },
             "line": {
              "color": "white"
             }
            },
            "type": "table"
           }
          ]
         },
         "layout": {
          "annotationdefaults": {
           "arrowcolor": "#2a3f5f",
           "arrowhead": 0,
           "arrowwidth": 1
          },
          "autotypenumbers": "strict",
          "coloraxis": {
           "colorbar": {
            "outlinewidth": 0,
            "ticks": ""
           }
          },
          "colorscale": {
           "diverging": [
            [
             0,
             "#8e0152"
            ],
            [
             0.1,
             "#c51b7d"
            ],
            [
             0.2,
             "#de77ae"
            ],
            [
             0.3,
             "#f1b6da"
            ],
            [
             0.4,
             "#fde0ef"
            ],
            [
             0.5,
             "#f7f7f7"
            ],
            [
             0.6,
             "#e6f5d0"
            ],
            [
             0.7,
             "#b8e186"
            ],
            [
             0.8,
             "#7fbc41"
            ],
            [
             0.9,
             "#4d9221"
            ],
            [
             1,
             "#276419"
            ]
           ],
           "sequential": [
            [
             0,
             "#0d0887"
            ],
            [
             0.1111111111111111,
             "#46039f"
            ],
            [
             0.2222222222222222,
             "#7201a8"
            ],
            [
             0.3333333333333333,
             "#9c179e"
            ],
            [
             0.4444444444444444,
             "#bd3786"
            ],
            [
             0.5555555555555556,
             "#d8576b"
            ],
            [
             0.6666666666666666,
             "#ed7953"
            ],
            [
             0.7777777777777778,
             "#fb9f3a"
            ],
            [
             0.8888888888888888,
             "#fdca26"
            ],
            [
             1,
             "#f0f921"
            ]
           ],
           "sequentialminus": [
            [
             0,
             "#0d0887"
            ],
            [
             0.1111111111111111,
             "#46039f"
            ],
            [
             0.2222222222222222,
             "#7201a8"
            ],
            [
             0.3333333333333333,
             "#9c179e"
            ],
            [
             0.4444444444444444,
             "#bd3786"
            ],
            [
             0.5555555555555556,
             "#d8576b"
            ],
            [
             0.6666666666666666,
             "#ed7953"
            ],
            [
             0.7777777777777778,
             "#fb9f3a"
            ],
            [
             0.8888888888888888,
             "#fdca26"
            ],
            [
             1,
             "#f0f921"
            ]
           ]
          },
          "colorway": [
           "#636efa",
           "#EF553B",
           "#00cc96",
           "#ab63fa",
           "#FFA15A",
           "#19d3f3",
           "#FF6692",
           "#B6E880",
           "#FF97FF",
           "#FECB52"
          ],
          "font": {
           "color": "#2a3f5f"
          },
          "geo": {
           "bgcolor": "white",
           "lakecolor": "white",
           "landcolor": "white",
           "showlakes": true,
           "showland": true,
           "subunitcolor": "#C8D4E3"
          },
          "hoverlabel": {
           "align": "left"
          },
          "hovermode": "closest",
          "mapbox": {
           "style": "light"
          },
          "paper_bgcolor": "white",
          "plot_bgcolor": "white",
          "polar": {
           "angularaxis": {
            "gridcolor": "#EBF0F8",
            "linecolor": "#EBF0F8",
            "ticks": ""
           },
           "bgcolor": "white",
           "radialaxis": {
            "gridcolor": "#EBF0F8",
            "linecolor": "#EBF0F8",
            "ticks": ""
           }
          },
          "scene": {
           "xaxis": {
            "backgroundcolor": "white",
            "gridcolor": "#DFE8F3",
            "gridwidth": 2,
            "linecolor": "#EBF0F8",
            "showbackground": true,
            "ticks": "",
            "zerolinecolor": "#EBF0F8"
           },
           "yaxis": {
            "backgroundcolor": "white",
            "gridcolor": "#DFE8F3",
            "gridwidth": 2,
            "linecolor": "#EBF0F8",
            "showbackground": true,
            "ticks": "",
            "zerolinecolor": "#EBF0F8"
           },
           "zaxis": {
            "backgroundcolor": "white",
            "gridcolor": "#DFE8F3",
            "gridwidth": 2,
            "linecolor": "#EBF0F8",
            "showbackground": true,
            "ticks": "",
            "zerolinecolor": "#EBF0F8"
           }
          },
          "shapedefaults": {
           "line": {
            "color": "#2a3f5f"
           }
          },
          "ternary": {
           "aaxis": {
            "gridcolor": "#DFE8F3",
            "linecolor": "#A2B1C6",
            "ticks": ""
           },
           "baxis": {
            "gridcolor": "#DFE8F3",
            "linecolor": "#A2B1C6",
            "ticks": ""
           },
           "bgcolor": "white",
           "caxis": {
            "gridcolor": "#DFE8F3",
            "linecolor": "#A2B1C6",
            "ticks": ""
           }
          },
          "title": {
           "x": 0.05
          },
          "xaxis": {
           "automargin": true,
           "gridcolor": "#EBF0F8",
           "linecolor": "#EBF0F8",
           "ticks": "",
           "title": {
            "standoff": 15
           },
           "zerolinecolor": "#EBF0F8",
           "zerolinewidth": 2
          },
          "yaxis": {
           "automargin": true,
           "gridcolor": "#EBF0F8",
           "linecolor": "#EBF0F8",
           "ticks": "",
           "title": {
            "standoff": 15
           },
           "zerolinecolor": "#EBF0F8",
           "zerolinewidth": 2
          }
         }
        },
        "width": 800,
        "xaxis": {
         "anchor": "y",
         "domain": [
          0,
          1
         ],
         "title": {
          "text": "year"
         }
        },
        "yaxis": {
         "anchor": "x",
         "domain": [
          0,
          1
         ],
         "title": {
          "text": "value"
         }
        }
       }
      }
     },
     "metadata": {},
     "output_type": "display_data"
    }
   ],
   "source": [
    "f = px.line(df, y=['environment',  'politics'],   color_discrete_sequence=['green', px.colors.qualitative.Plotly[1]], width=800)\n",
    "\n"
   ]
  },
  {
   "cell_type": "markdown",
   "metadata": {},
   "source": [
    "# BBC, Other sources"
   ]
  },
  {
   "cell_type": "code",
   "execution_count": 1,
   "metadata": {},
   "outputs": [],
   "source": [
    "from newsapi import NewsApiClient\n",
    "napi = NewsApiClient(api_key='6e793f63321c41e0b4e2f44ae12af198')\n",
    "\n",
    "# api.get_top_headlines(sources='bbc-news')\n",
    "\n"
   ]
  },
  {
   "cell_type": "code",
   "execution_count": 22,
   "metadata": {},
   "outputs": [],
   "source": [
    "\n",
    "napi_env = 'https://newsapi.org/v2/top-headlines?sources=bbc-news&apiKey=6e793f63321c41e0b4e2f44ae12af198&pageSize=100'\n",
    "\n",
    "response = r.get(napi_env).json().get('response')"
   ]
  },
  {
   "cell_type": "code",
   "execution_count": 24,
   "metadata": {},
   "outputs": [
    {
     "data": {
      "text/plain": [
       "{'status': 'ok',\n",
       " 'totalResults': 10,\n",
       " 'articles': [{'source': {'id': 'bbc-news', 'name': 'BBC News'},\n",
       "   'author': 'BBC News',\n",
       "   'title': 'Travis Scott festival tragedy: Were warning signs missed at Astroworld?',\n",
       "   'description': \"Concerns were raised before Travis Scott's fatal festival show. Could the tragedy have been averted?\",\n",
       "   'url': 'https://www.bbc.co.uk/news/entertainment-arts-59205840',\n",
       "   'urlToImage': 'https://ichef.bbci.co.uk/news/1024/branded_news/3762/production/_121487141_976_gettyimages-1351663182.jpg',\n",
       "   'publishedAt': '2021-11-09T09:07:23.504589Z',\n",
       "   'content': 'By Mark SavageBBC Music Correspondent\\r\\nImage source, Getty Images\\r\\nImage caption, Scott was performing in front of his home crowd in Houston, Texas\\r\\nFor almost 40 minutes after Houston police and fir… [+9723 chars]'},\n",
       "  {'source': {'id': 'bbc-news', 'name': 'BBC News'},\n",
       "   'author': 'BBC News',\n",
       "   'title': \"Hundreds of migrants at Belarus' border with Poland\",\n",
       "   'description': 'Poland says it has stopped attempts by the large group to enter the country from Belarus.',\n",
       "   'url': 'http://www.bbc.co.uk/news/world-europe-59208301',\n",
       "   'urlToImage': 'https://ichef.bbci.co.uk/news/1024/branded_news/BDB8/production/_121486584_mediaitem121486583.jpg',\n",
       "   'publishedAt': '2021-11-09T08:07:28.4621824Z',\n",
       "   'content': \"Hundreds of migrants have been filmed at Belarus' border with Poland.\\r\\nPoland says it has stopped attempts by the large group to enter the country, and has accused Belarus of pushing migrants to the … [+71 chars]\"},\n",
       "  {'source': {'id': 'bbc-news', 'name': 'BBC News'},\n",
       "   'author': 'BBC News',\n",
       "   'title': 'Belarus migrants: Poland fears armed border escalation',\n",
       "   'description': 'It comes after hundreds of migrants tried to cut a barbed-wire fence and enter Poland illegally.',\n",
       "   'url': 'http://www.bbc.co.uk/news/world-europe-59215769',\n",
       "   'urlToImage': 'https://ichef.bbci.co.uk/news/1024/branded_news/15B10/production/_121484888_mediaitem121484887.jpg',\n",
       "   'publishedAt': '2021-11-09T08:07:24.2288603Z',\n",
       "   'content': 'Media caption, Watch: Video shows hundreds of migrants at Belarus\\' border with Poland\\r\\nPoland has warned of a possible \"armed\" escalation on its border with Belarus, fearing its neighbour may try to … [+4410 chars]'},\n",
       "  {'source': {'id': 'bbc-news', 'name': 'BBC News'},\n",
       "   'author': 'BBC News',\n",
       "   'title': 'Travis Scott festival tragedy: Were warning signs missed at Astroworld?',\n",
       "   'description': \"Concerns were raised before Travis Scott's fatal festival show. Could the tragedy have been averted?\",\n",
       "   'url': 'http://www.bbc.co.uk/news/entertainment-arts-59205840',\n",
       "   'urlToImage': 'https://ichef.bbci.co.uk/news/1024/branded_news/17258/production/_121480849_scott_getty.jpg',\n",
       "   'publishedAt': '2021-11-09T04:07:29.1130857Z',\n",
       "   'content': 'By Mark SavageBBC Music Correspondent\\r\\nImage source, Getty Images\\r\\nImage caption, Scott was performing in front of his home crowd in Houston, Texas\\r\\nFor almost 40 minutes after Houston police and fir… [+9534 chars]'},\n",
       "  {'source': {'id': 'bbc-news', 'name': 'BBC News'},\n",
       "   'author': 'BBC News',\n",
       "   'title': 'Timed Teaser: What did a Twitter poll tell Elon Musk?',\n",
       "   'description': 'Test your knowledge of the news these last few days - 10 questions, 10 seconds each. Go!',\n",
       "   'url': 'http://www.bbc.co.uk/news/world-us-canada-59209603',\n",
       "   'urlToImage': 'https://ichef.bbci.co.uk/news/1024/branded_news/13BF7/production/_121478808_muskindex2.jpg',\n",
       "   'publishedAt': '2021-11-09T04:07:25.8482733Z',\n",
       "   'content': \"Test your news knowledge against the clock. Can you outscore your friends?\\r\\nIf you cannot see the quiz, follow this link.\\r\\nWant more of the same? Try last week's teaser. Or take Friday's quiz of the … [+75 chars]\"},\n",
       "  {'source': {'id': 'bbc-news', 'name': 'BBC News'},\n",
       "   'author': 'BBC News',\n",
       "   'title': 'Wisconsin man shot by Kyle Rittenhouse pointed a gun at him',\n",
       "   'description': 'A protester acknowledges in court he was advancing with gun drawn on the teen when he opened fire.',\n",
       "   'url': 'http://www.bbc.co.uk/news/world-us-canada-59216106',\n",
       "   'urlToImage': 'https://ichef.bbci.co.uk/news/1024/branded_news/B57A/production/_121485464_gettyimages-1236442187.jpg',\n",
       "   'publishedAt': '2021-11-09T04:07:22.6771867Z',\n",
       "   'content': 'Image source, Getty Images\\r\\nImage caption, Mr Grosskreutz was the only man shot by Mr Rittenhouse to survive\\r\\nA teenager who turned up at social justice protests in Wisconsin last year saying he want… [+3257 chars]'},\n",
       "  {'source': {'id': 'bbc-news', 'name': 'BBC News'},\n",
       "   'author': 'BBC News',\n",
       "   'title': \"California couple sue clinic for alleged IVF swap 'horror'\",\n",
       "   'description': 'Two California couples gave birth to each others’ babies after a mix-up at a fertility clinic , a lawsuit claims.',\n",
       "   'url': 'http://www.bbc.co.uk/news/world-us-canada-59216104',\n",
       "   'urlToImage': 'https://ichef.bbci.co.uk/news/1024/branded_news/B12E/production/_121485354_gettyimages-546824905.jpg',\n",
       "   'publishedAt': '2021-11-09T02:22:21.3067298Z',\n",
       "   'content': \"Image source, Peiffer Wolf Carr Kane &amp; Conway\\r\\nImage caption, Daphna and Alexander Cardinale\\r\\nA California couple gave birth to a stranger's child after being given the wrong embryo by a fertilit… [+3343 chars]\"},\n",
       "  {'source': {'id': 'bbc-news', 'name': 'BBC News'},\n",
       "   'author': 'BBC News',\n",
       "   'title': \"The fight to keep America's wild horses wild\",\n",
       "   'description': 'A photographer is using her art to inspire, hoping to keep the iconic animals at home on the range.',\n",
       "   'url': 'http://www.bbc.co.uk/news/world-us-canada-59213093',\n",
       "   'urlToImage': 'https://ichef.bbci.co.uk/news/1024/branded_news/8884/production/_121484943_p0b32qgp.jpg',\n",
       "   'publishedAt': '2021-11-09T01:07:22.9349874Z',\n",
       "   'content': 'Wildlife photographer Mary Hone is using her art to inspire and advocate for the iconic wild horses that roam the western US. \\r\\nThe animals are at the centre of a heated debate over land and resource… [+170 chars]'},\n",
       "  {'source': {'id': 'bbc-news', 'name': 'BBC News'},\n",
       "   'author': 'BBC News',\n",
       "   'title': \"Ghislaine Maxwell to challenge accusers' memories\",\n",
       "   'description': 'The British socialite will challenge allegations she groomed girls for Jeffrey Epstein to sexually abuse.',\n",
       "   'url': 'http://www.bbc.co.uk/news/world-us-canada-59210403',\n",
       "   'urlToImage': 'https://ichef.bbci.co.uk/news/1024/branded_news/A79C/production/_121480924_maxwelldrawingreutesr.jpg',\n",
       "   'publishedAt': '2021-11-09T00:07:23.8009881Z',\n",
       "   'content': \"Image caption, Ms Maxwell's criminal trial will begin on 29 November and is expected to last six weeks\\r\\nGhislaine Maxwell will challenge claims that she groomed underage girls for the convicted paedo… [+2465 chars]\"},\n",
       "  {'source': {'id': 'bbc-news', 'name': 'BBC News'},\n",
       "   'author': 'BBC News',\n",
       "   'title': 'REvil: Day of reckoning for notorious cyber gang',\n",
       "   'description': 'A global police operation has dealt a major blow to one of the most prolific cyber gangs in history.',\n",
       "   'url': 'http://www.bbc.co.uk/news/technology-59215167',\n",
       "   'urlToImage': 'https://ichef.bbci.co.uk/news/1024/branded_news/E770/production/_121484295_europolpic.jpg',\n",
       "   'publishedAt': '2021-11-08T21:22:21.5268587Z',\n",
       "   'content': 'A global police operation has dealt a devastating blow to one of the most prolific cyber-crime gangs in history.\\r\\nThe co-ordinated action against the REvil gang was announced on Monday by Romanian po… [+3760 chars]'}]}"
      ]
     },
     "execution_count": 24,
     "metadata": {},
     "output_type": "execute_result"
    }
   ],
   "source": [
    "r.get(napi_env).json()"
   ]
  },
  {
   "cell_type": "markdown",
   "metadata": {},
   "source": [
    "# story: tones/genres\n",
    "- rise of explainers vs fall of anaylsis since 2015\n",
    "- letters - what happened in 2009, 2010, 2020"
   ]
  },
  {
   "cell_type": "markdown",
   "metadata": {},
   "source": []
  },
  {
   "cell_type": "code",
   "execution_count": 38,
   "metadata": {},
   "outputs": [
    {
     "data": {
      "application/vnd.plotly.v1+json": {
       "config": {
        "plotlyServerURL": "https://plotly.com"
       },
       "data": [
        {
         "alignmentgroup": "True",
         "hovertemplate": "variable=tone_letters<br>year=%{x}<br>value=%{y}<extra></extra>",
         "legendgroup": "tone_letters",
         "marker": {
          "color": "#636efa"
         },
         "name": "tone_letters",
         "offsetgroup": "tone_letters",
         "orientation": "v",
         "showlegend": true,
         "textposition": "auto",
         "type": "bar",
         "x": [
          1999,
          2000,
          2001,
          2002,
          2003,
          2004,
          2005,
          2006,
          2007,
          2008,
          2009,
          2010,
          2011,
          2012,
          2013,
          2014,
          2015,
          2016,
          2017,
          2018,
          2019,
          2020,
          2021
         ],
         "xaxis": "x",
         "y": [
          1692,
          2332,
          2108,
          2154,
          2058,
          2090,
          2078,
          1895,
          2100,
          2255,
          1261,
          1626,
          2143,
          2047,
          2099,
          1994,
          2086,
          2144,
          2230,
          2043,
          2076,
          1578,
          1344
         ],
         "yaxis": "y"
        }
       ],
       "layout": {
        "barmode": "relative",
        "legend": {
         "title": {
          "text": "variable"
         },
         "tracegroupgap": 0
        },
        "margin": {
         "t": 60
        },
        "template": {
         "data": {
          "bar": [
           {
            "error_x": {
             "color": "#2a3f5f"
            },
            "error_y": {
             "color": "#2a3f5f"
            },
            "marker": {
             "line": {
              "color": "white",
              "width": 0.5
             }
            },
            "type": "bar"
           }
          ],
          "barpolar": [
           {
            "marker": {
             "line": {
              "color": "white",
              "width": 0.5
             }
            },
            "type": "barpolar"
           }
          ],
          "carpet": [
           {
            "aaxis": {
             "endlinecolor": "#2a3f5f",
             "gridcolor": "#C8D4E3",
             "linecolor": "#C8D4E3",
             "minorgridcolor": "#C8D4E3",
             "startlinecolor": "#2a3f5f"
            },
            "baxis": {
             "endlinecolor": "#2a3f5f",
             "gridcolor": "#C8D4E3",
             "linecolor": "#C8D4E3",
             "minorgridcolor": "#C8D4E3",
             "startlinecolor": "#2a3f5f"
            },
            "type": "carpet"
           }
          ],
          "choropleth": [
           {
            "colorbar": {
             "outlinewidth": 0,
             "ticks": ""
            },
            "type": "choropleth"
           }
          ],
          "contour": [
           {
            "colorbar": {
             "outlinewidth": 0,
             "ticks": ""
            },
            "colorscale": [
             [
              0,
              "#0d0887"
             ],
             [
              0.1111111111111111,
              "#46039f"
             ],
             [
              0.2222222222222222,
              "#7201a8"
             ],
             [
              0.3333333333333333,
              "#9c179e"
             ],
             [
              0.4444444444444444,
              "#bd3786"
             ],
             [
              0.5555555555555556,
              "#d8576b"
             ],
             [
              0.6666666666666666,
              "#ed7953"
             ],
             [
              0.7777777777777778,
              "#fb9f3a"
             ],
             [
              0.8888888888888888,
              "#fdca26"
             ],
             [
              1,
              "#f0f921"
             ]
            ],
            "type": "contour"
           }
          ],
          "contourcarpet": [
           {
            "colorbar": {
             "outlinewidth": 0,
             "ticks": ""
            },
            "type": "contourcarpet"
           }
          ],
          "heatmap": [
           {
            "colorbar": {
             "outlinewidth": 0,
             "ticks": ""
            },
            "colorscale": [
             [
              0,
              "#0d0887"
             ],
             [
              0.1111111111111111,
              "#46039f"
             ],
             [
              0.2222222222222222,
              "#7201a8"
             ],
             [
              0.3333333333333333,
              "#9c179e"
             ],
             [
              0.4444444444444444,
              "#bd3786"
             ],
             [
              0.5555555555555556,
              "#d8576b"
             ],
             [
              0.6666666666666666,
              "#ed7953"
             ],
             [
              0.7777777777777778,
              "#fb9f3a"
             ],
             [
              0.8888888888888888,
              "#fdca26"
             ],
             [
              1,
              "#f0f921"
             ]
            ],
            "type": "heatmap"
           }
          ],
          "heatmapgl": [
           {
            "colorbar": {
             "outlinewidth": 0,
             "ticks": ""
            },
            "colorscale": [
             [
              0,
              "#0d0887"
             ],
             [
              0.1111111111111111,
              "#46039f"
             ],
             [
              0.2222222222222222,
              "#7201a8"
             ],
             [
              0.3333333333333333,
              "#9c179e"
             ],
             [
              0.4444444444444444,
              "#bd3786"
             ],
             [
              0.5555555555555556,
              "#d8576b"
             ],
             [
              0.6666666666666666,
              "#ed7953"
             ],
             [
              0.7777777777777778,
              "#fb9f3a"
             ],
             [
              0.8888888888888888,
              "#fdca26"
             ],
             [
              1,
              "#f0f921"
             ]
            ],
            "type": "heatmapgl"
           }
          ],
          "histogram": [
           {
            "marker": {
             "colorbar": {
              "outlinewidth": 0,
              "ticks": ""
             }
            },
            "type": "histogram"
           }
          ],
          "histogram2d": [
           {
            "colorbar": {
             "outlinewidth": 0,
             "ticks": ""
            },
            "colorscale": [
             [
              0,
              "#0d0887"
             ],
             [
              0.1111111111111111,
              "#46039f"
             ],
             [
              0.2222222222222222,
              "#7201a8"
             ],
             [
              0.3333333333333333,
              "#9c179e"
             ],
             [
              0.4444444444444444,
              "#bd3786"
             ],
             [
              0.5555555555555556,
              "#d8576b"
             ],
             [
              0.6666666666666666,
              "#ed7953"
             ],
             [
              0.7777777777777778,
              "#fb9f3a"
             ],
             [
              0.8888888888888888,
              "#fdca26"
             ],
             [
              1,
              "#f0f921"
             ]
            ],
            "type": "histogram2d"
           }
          ],
          "histogram2dcontour": [
           {
            "colorbar": {
             "outlinewidth": 0,
             "ticks": ""
            },
            "colorscale": [
             [
              0,
              "#0d0887"
             ],
             [
              0.1111111111111111,
              "#46039f"
             ],
             [
              0.2222222222222222,
              "#7201a8"
             ],
             [
              0.3333333333333333,
              "#9c179e"
             ],
             [
              0.4444444444444444,
              "#bd3786"
             ],
             [
              0.5555555555555556,
              "#d8576b"
             ],
             [
              0.6666666666666666,
              "#ed7953"
             ],
             [
              0.7777777777777778,
              "#fb9f3a"
             ],
             [
              0.8888888888888888,
              "#fdca26"
             ],
             [
              1,
              "#f0f921"
             ]
            ],
            "type": "histogram2dcontour"
           }
          ],
          "mesh3d": [
           {
            "colorbar": {
             "outlinewidth": 0,
             "ticks": ""
            },
            "type": "mesh3d"
           }
          ],
          "parcoords": [
           {
            "line": {
             "colorbar": {
              "outlinewidth": 0,
              "ticks": ""
             }
            },
            "type": "parcoords"
           }
          ],
          "pie": [
           {
            "automargin": true,
            "type": "pie"
           }
          ],
          "scatter": [
           {
            "marker": {
             "colorbar": {
              "outlinewidth": 0,
              "ticks": ""
             }
            },
            "type": "scatter"
           }
          ],
          "scatter3d": [
           {
            "line": {
             "colorbar": {
              "outlinewidth": 0,
              "ticks": ""
             }
            },
            "marker": {
             "colorbar": {
              "outlinewidth": 0,
              "ticks": ""
             }
            },
            "type": "scatter3d"
           }
          ],
          "scattercarpet": [
           {
            "marker": {
             "colorbar": {
              "outlinewidth": 0,
              "ticks": ""
             }
            },
            "type": "scattercarpet"
           }
          ],
          "scattergeo": [
           {
            "marker": {
             "colorbar": {
              "outlinewidth": 0,
              "ticks": ""
             }
            },
            "type": "scattergeo"
           }
          ],
          "scattergl": [
           {
            "marker": {
             "colorbar": {
              "outlinewidth": 0,
              "ticks": ""
             }
            },
            "type": "scattergl"
           }
          ],
          "scattermapbox": [
           {
            "marker": {
             "colorbar": {
              "outlinewidth": 0,
              "ticks": ""
             }
            },
            "type": "scattermapbox"
           }
          ],
          "scatterpolar": [
           {
            "marker": {
             "colorbar": {
              "outlinewidth": 0,
              "ticks": ""
             }
            },
            "type": "scatterpolar"
           }
          ],
          "scatterpolargl": [
           {
            "marker": {
             "colorbar": {
              "outlinewidth": 0,
              "ticks": ""
             }
            },
            "type": "scatterpolargl"
           }
          ],
          "scatterternary": [
           {
            "marker": {
             "colorbar": {
              "outlinewidth": 0,
              "ticks": ""
             }
            },
            "type": "scatterternary"
           }
          ],
          "surface": [
           {
            "colorbar": {
             "outlinewidth": 0,
             "ticks": ""
            },
            "colorscale": [
             [
              0,
              "#0d0887"
             ],
             [
              0.1111111111111111,
              "#46039f"
             ],
             [
              0.2222222222222222,
              "#7201a8"
             ],
             [
              0.3333333333333333,
              "#9c179e"
             ],
             [
              0.4444444444444444,
              "#bd3786"
             ],
             [
              0.5555555555555556,
              "#d8576b"
             ],
             [
              0.6666666666666666,
              "#ed7953"
             ],
             [
              0.7777777777777778,
              "#fb9f3a"
             ],
             [
              0.8888888888888888,
              "#fdca26"
             ],
             [
              1,
              "#f0f921"
             ]
            ],
            "type": "surface"
           }
          ],
          "table": [
           {
            "cells": {
             "fill": {
              "color": "#EBF0F8"
             },
             "line": {
              "color": "white"
             }
            },
            "header": {
             "fill": {
              "color": "#C8D4E3"
             },
             "line": {
              "color": "white"
             }
            },
            "type": "table"
           }
          ]
         },
         "layout": {
          "annotationdefaults": {
           "arrowcolor": "#2a3f5f",
           "arrowhead": 0,
           "arrowwidth": 1
          },
          "autotypenumbers": "strict",
          "coloraxis": {
           "colorbar": {
            "outlinewidth": 0,
            "ticks": ""
           }
          },
          "colorscale": {
           "diverging": [
            [
             0,
             "#8e0152"
            ],
            [
             0.1,
             "#c51b7d"
            ],
            [
             0.2,
             "#de77ae"
            ],
            [
             0.3,
             "#f1b6da"
            ],
            [
             0.4,
             "#fde0ef"
            ],
            [
             0.5,
             "#f7f7f7"
            ],
            [
             0.6,
             "#e6f5d0"
            ],
            [
             0.7,
             "#b8e186"
            ],
            [
             0.8,
             "#7fbc41"
            ],
            [
             0.9,
             "#4d9221"
            ],
            [
             1,
             "#276419"
            ]
           ],
           "sequential": [
            [
             0,
             "#0d0887"
            ],
            [
             0.1111111111111111,
             "#46039f"
            ],
            [
             0.2222222222222222,
             "#7201a8"
            ],
            [
             0.3333333333333333,
             "#9c179e"
            ],
            [
             0.4444444444444444,
             "#bd3786"
            ],
            [
             0.5555555555555556,
             "#d8576b"
            ],
            [
             0.6666666666666666,
             "#ed7953"
            ],
            [
             0.7777777777777778,
             "#fb9f3a"
            ],
            [
             0.8888888888888888,
             "#fdca26"
            ],
            [
             1,
             "#f0f921"
            ]
           ],
           "sequentialminus": [
            [
             0,
             "#0d0887"
            ],
            [
             0.1111111111111111,
             "#46039f"
            ],
            [
             0.2222222222222222,
             "#7201a8"
            ],
            [
             0.3333333333333333,
             "#9c179e"
            ],
            [
             0.4444444444444444,
             "#bd3786"
            ],
            [
             0.5555555555555556,
             "#d8576b"
            ],
            [
             0.6666666666666666,
             "#ed7953"
            ],
            [
             0.7777777777777778,
             "#fb9f3a"
            ],
            [
             0.8888888888888888,
             "#fdca26"
            ],
            [
             1,
             "#f0f921"
            ]
           ]
          },
          "colorway": [
           "#636efa",
           "#EF553B",
           "#00cc96",
           "#ab63fa",
           "#FFA15A",
           "#19d3f3",
           "#FF6692",
           "#B6E880",
           "#FF97FF",
           "#FECB52"
          ],
          "font": {
           "color": "#2a3f5f"
          },
          "geo": {
           "bgcolor": "white",
           "lakecolor": "white",
           "landcolor": "white",
           "showlakes": true,
           "showland": true,
           "subunitcolor": "#C8D4E3"
          },
          "hoverlabel": {
           "align": "left"
          },
          "hovermode": "closest",
          "mapbox": {
           "style": "light"
          },
          "paper_bgcolor": "white",
          "plot_bgcolor": "white",
          "polar": {
           "angularaxis": {
            "gridcolor": "#EBF0F8",
            "linecolor": "#EBF0F8",
            "ticks": ""
           },
           "bgcolor": "white",
           "radialaxis": {
            "gridcolor": "#EBF0F8",
            "linecolor": "#EBF0F8",
            "ticks": ""
           }
          },
          "scene": {
           "xaxis": {
            "backgroundcolor": "white",
            "gridcolor": "#DFE8F3",
            "gridwidth": 2,
            "linecolor": "#EBF0F8",
            "showbackground": true,
            "ticks": "",
            "zerolinecolor": "#EBF0F8"
           },
           "yaxis": {
            "backgroundcolor": "white",
            "gridcolor": "#DFE8F3",
            "gridwidth": 2,
            "linecolor": "#EBF0F8",
            "showbackground": true,
            "ticks": "",
            "zerolinecolor": "#EBF0F8"
           },
           "zaxis": {
            "backgroundcolor": "white",
            "gridcolor": "#DFE8F3",
            "gridwidth": 2,
            "linecolor": "#EBF0F8",
            "showbackground": true,
            "ticks": "",
            "zerolinecolor": "#EBF0F8"
           }
          },
          "shapedefaults": {
           "line": {
            "color": "#2a3f5f"
           }
          },
          "ternary": {
           "aaxis": {
            "gridcolor": "#DFE8F3",
            "linecolor": "#A2B1C6",
            "ticks": ""
           },
           "baxis": {
            "gridcolor": "#DFE8F3",
            "linecolor": "#A2B1C6",
            "ticks": ""
           },
           "bgcolor": "white",
           "caxis": {
            "gridcolor": "#DFE8F3",
            "linecolor": "#A2B1C6",
            "ticks": ""
           }
          },
          "title": {
           "x": 0.05
          },
          "xaxis": {
           "automargin": true,
           "gridcolor": "#EBF0F8",
           "linecolor": "#EBF0F8",
           "ticks": "",
           "title": {
            "standoff": 15
           },
           "zerolinecolor": "#EBF0F8",
           "zerolinewidth": 2
          },
          "yaxis": {
           "automargin": true,
           "gridcolor": "#EBF0F8",
           "linecolor": "#EBF0F8",
           "ticks": "",
           "title": {
            "standoff": 15
           },
           "zerolinecolor": "#EBF0F8",
           "zerolinewidth": 2
          }
         }
        },
        "width": 800,
        "xaxis": {
         "anchor": "y",
         "domain": [
          0,
          1
         ],
         "title": {
          "text": "year"
         }
        },
        "yaxis": {
         "anchor": "x",
         "domain": [
          0,
          1
         ],
         "title": {
          "text": "value"
         }
        }
       }
      }
     },
     "metadata": {},
     "output_type": "display_data"
    }
   ],
   "source": [
    "px.bar(df, y=['tone_letters'], width=800)\n"
   ]
  },
  {
   "cell_type": "code",
   "execution_count": 29,
   "metadata": {},
   "outputs": [
    {
     "data": {
      "application/vnd.plotly.v1+json": {
       "config": {
        "plotlyServerURL": "https://plotly.com"
       },
       "data": [
        {
         "hovertemplate": "variable=tone_analysis<br>year=%{x}<br>value=%{y}<extra></extra>",
         "legendgroup": "tone_analysis",
         "line": {
          "color": "#636efa",
          "dash": "solid"
         },
         "mode": "lines",
         "name": "tone_analysis",
         "orientation": "v",
         "showlegend": true,
         "type": "scatter",
         "x": [
          1999,
          2000,
          2001,
          2002,
          2003,
          2004,
          2005,
          2006,
          2007,
          2008,
          2009,
          2010,
          2011,
          2012,
          2013,
          2014,
          2015,
          2016,
          2017,
          2018,
          2019,
          2020,
          2021
         ],
         "xaxis": "x",
         "y": [
          61,
          197,
          250,
          171,
          141,
          121,
          141,
          347,
          487,
          426,
          454,
          562,
          1003,
          1404,
          1372,
          1594,
          2267,
          1947,
          1345,
          1116,
          1126,
          1124,
          940
         ],
         "yaxis": "y"
        },
        {
         "hovertemplate": "variable=tone_features<br>year=%{x}<br>value=%{y}<extra></extra>",
         "legendgroup": "tone_features",
         "line": {
          "color": "#EF553B",
          "dash": "solid"
         },
         "mode": "lines",
         "name": "tone_features",
         "orientation": "v",
         "showlegend": true,
         "type": "scatter",
         "x": [
          1999,
          2000,
          2001,
          2002,
          2003,
          2004,
          2005,
          2006,
          2007,
          2008,
          2009,
          2010,
          2011,
          2012,
          2013,
          2014,
          2015,
          2016,
          2017,
          2018,
          2019,
          2020,
          2021
         ],
         "xaxis": "x",
         "y": [
          1453,
          1455,
          1461,
          1689,
          2054,
          2181,
          2170,
          2188,
          1065,
          3595,
          9153,
          15250,
          17795,
          17600,
          18685,
          20400,
          24312,
          24659,
          21069,
          19783,
          20067,
          19503,
          16029
         ],
         "yaxis": "y"
        },
        {
         "hovertemplate": "variable=tone_explainers<br>year=%{x}<br>value=%{y}<extra></extra>",
         "legendgroup": "tone_explainers",
         "line": {
          "color": "#00cc96",
          "dash": "solid"
         },
         "mode": "lines",
         "name": "tone_explainers",
         "orientation": "v",
         "showlegend": true,
         "type": "scatter",
         "x": [
          1999,
          2000,
          2001,
          2002,
          2003,
          2004,
          2005,
          2006,
          2007,
          2008,
          2009,
          2010,
          2011,
          2012,
          2013,
          2014,
          2015,
          2016,
          2017,
          2018,
          2019,
          2020,
          2021
         ],
         "xaxis": "x",
         "y": [
          0,
          0,
          0,
          0,
          0,
          0,
          0,
          0,
          0,
          0,
          0,
          0,
          0,
          0,
          0,
          1,
          2,
          45,
          123,
          237,
          347,
          691,
          549
         ],
         "yaxis": "y"
        }
       ],
       "layout": {
        "legend": {
         "title": {
          "text": "variable"
         },
         "tracegroupgap": 0
        },
        "margin": {
         "t": 60
        },
        "template": {
         "data": {
          "bar": [
           {
            "error_x": {
             "color": "#2a3f5f"
            },
            "error_y": {
             "color": "#2a3f5f"
            },
            "marker": {
             "line": {
              "color": "white",
              "width": 0.5
             }
            },
            "type": "bar"
           }
          ],
          "barpolar": [
           {
            "marker": {
             "line": {
              "color": "white",
              "width": 0.5
             }
            },
            "type": "barpolar"
           }
          ],
          "carpet": [
           {
            "aaxis": {
             "endlinecolor": "#2a3f5f",
             "gridcolor": "#C8D4E3",
             "linecolor": "#C8D4E3",
             "minorgridcolor": "#C8D4E3",
             "startlinecolor": "#2a3f5f"
            },
            "baxis": {
             "endlinecolor": "#2a3f5f",
             "gridcolor": "#C8D4E3",
             "linecolor": "#C8D4E3",
             "minorgridcolor": "#C8D4E3",
             "startlinecolor": "#2a3f5f"
            },
            "type": "carpet"
           }
          ],
          "choropleth": [
           {
            "colorbar": {
             "outlinewidth": 0,
             "ticks": ""
            },
            "type": "choropleth"
           }
          ],
          "contour": [
           {
            "colorbar": {
             "outlinewidth": 0,
             "ticks": ""
            },
            "colorscale": [
             [
              0,
              "#0d0887"
             ],
             [
              0.1111111111111111,
              "#46039f"
             ],
             [
              0.2222222222222222,
              "#7201a8"
             ],
             [
              0.3333333333333333,
              "#9c179e"
             ],
             [
              0.4444444444444444,
              "#bd3786"
             ],
             [
              0.5555555555555556,
              "#d8576b"
             ],
             [
              0.6666666666666666,
              "#ed7953"
             ],
             [
              0.7777777777777778,
              "#fb9f3a"
             ],
             [
              0.8888888888888888,
              "#fdca26"
             ],
             [
              1,
              "#f0f921"
             ]
            ],
            "type": "contour"
           }
          ],
          "contourcarpet": [
           {
            "colorbar": {
             "outlinewidth": 0,
             "ticks": ""
            },
            "type": "contourcarpet"
           }
          ],
          "heatmap": [
           {
            "colorbar": {
             "outlinewidth": 0,
             "ticks": ""
            },
            "colorscale": [
             [
              0,
              "#0d0887"
             ],
             [
              0.1111111111111111,
              "#46039f"
             ],
             [
              0.2222222222222222,
              "#7201a8"
             ],
             [
              0.3333333333333333,
              "#9c179e"
             ],
             [
              0.4444444444444444,
              "#bd3786"
             ],
             [
              0.5555555555555556,
              "#d8576b"
             ],
             [
              0.6666666666666666,
              "#ed7953"
             ],
             [
              0.7777777777777778,
              "#fb9f3a"
             ],
             [
              0.8888888888888888,
              "#fdca26"
             ],
             [
              1,
              "#f0f921"
             ]
            ],
            "type": "heatmap"
           }
          ],
          "heatmapgl": [
           {
            "colorbar": {
             "outlinewidth": 0,
             "ticks": ""
            },
            "colorscale": [
             [
              0,
              "#0d0887"
             ],
             [
              0.1111111111111111,
              "#46039f"
             ],
             [
              0.2222222222222222,
              "#7201a8"
             ],
             [
              0.3333333333333333,
              "#9c179e"
             ],
             [
              0.4444444444444444,
              "#bd3786"
             ],
             [
              0.5555555555555556,
              "#d8576b"
             ],
             [
              0.6666666666666666,
              "#ed7953"
             ],
             [
              0.7777777777777778,
              "#fb9f3a"
             ],
             [
              0.8888888888888888,
              "#fdca26"
             ],
             [
              1,
              "#f0f921"
             ]
            ],
            "type": "heatmapgl"
           }
          ],
          "histogram": [
           {
            "marker": {
             "colorbar": {
              "outlinewidth": 0,
              "ticks": ""
             }
            },
            "type": "histogram"
           }
          ],
          "histogram2d": [
           {
            "colorbar": {
             "outlinewidth": 0,
             "ticks": ""
            },
            "colorscale": [
             [
              0,
              "#0d0887"
             ],
             [
              0.1111111111111111,
              "#46039f"
             ],
             [
              0.2222222222222222,
              "#7201a8"
             ],
             [
              0.3333333333333333,
              "#9c179e"
             ],
             [
              0.4444444444444444,
              "#bd3786"
             ],
             [
              0.5555555555555556,
              "#d8576b"
             ],
             [
              0.6666666666666666,
              "#ed7953"
             ],
             [
              0.7777777777777778,
              "#fb9f3a"
             ],
             [
              0.8888888888888888,
              "#fdca26"
             ],
             [
              1,
              "#f0f921"
             ]
            ],
            "type": "histogram2d"
           }
          ],
          "histogram2dcontour": [
           {
            "colorbar": {
             "outlinewidth": 0,
             "ticks": ""
            },
            "colorscale": [
             [
              0,
              "#0d0887"
             ],
             [
              0.1111111111111111,
              "#46039f"
             ],
             [
              0.2222222222222222,
              "#7201a8"
             ],
             [
              0.3333333333333333,
              "#9c179e"
             ],
             [
              0.4444444444444444,
              "#bd3786"
             ],
             [
              0.5555555555555556,
              "#d8576b"
             ],
             [
              0.6666666666666666,
              "#ed7953"
             ],
             [
              0.7777777777777778,
              "#fb9f3a"
             ],
             [
              0.8888888888888888,
              "#fdca26"
             ],
             [
              1,
              "#f0f921"
             ]
            ],
            "type": "histogram2dcontour"
           }
          ],
          "mesh3d": [
           {
            "colorbar": {
             "outlinewidth": 0,
             "ticks": ""
            },
            "type": "mesh3d"
           }
          ],
          "parcoords": [
           {
            "line": {
             "colorbar": {
              "outlinewidth": 0,
              "ticks": ""
             }
            },
            "type": "parcoords"
           }
          ],
          "pie": [
           {
            "automargin": true,
            "type": "pie"
           }
          ],
          "scatter": [
           {
            "marker": {
             "colorbar": {
              "outlinewidth": 0,
              "ticks": ""
             }
            },
            "type": "scatter"
           }
          ],
          "scatter3d": [
           {
            "line": {
             "colorbar": {
              "outlinewidth": 0,
              "ticks": ""
             }
            },
            "marker": {
             "colorbar": {
              "outlinewidth": 0,
              "ticks": ""
             }
            },
            "type": "scatter3d"
           }
          ],
          "scattercarpet": [
           {
            "marker": {
             "colorbar": {
              "outlinewidth": 0,
              "ticks": ""
             }
            },
            "type": "scattercarpet"
           }
          ],
          "scattergeo": [
           {
            "marker": {
             "colorbar": {
              "outlinewidth": 0,
              "ticks": ""
             }
            },
            "type": "scattergeo"
           }
          ],
          "scattergl": [
           {
            "marker": {
             "colorbar": {
              "outlinewidth": 0,
              "ticks": ""
             }
            },
            "type": "scattergl"
           }
          ],
          "scattermapbox": [
           {
            "marker": {
             "colorbar": {
              "outlinewidth": 0,
              "ticks": ""
             }
            },
            "type": "scattermapbox"
           }
          ],
          "scatterpolar": [
           {
            "marker": {
             "colorbar": {
              "outlinewidth": 0,
              "ticks": ""
             }
            },
            "type": "scatterpolar"
           }
          ],
          "scatterpolargl": [
           {
            "marker": {
             "colorbar": {
              "outlinewidth": 0,
              "ticks": ""
             }
            },
            "type": "scatterpolargl"
           }
          ],
          "scatterternary": [
           {
            "marker": {
             "colorbar": {
              "outlinewidth": 0,
              "ticks": ""
             }
            },
            "type": "scatterternary"
           }
          ],
          "surface": [
           {
            "colorbar": {
             "outlinewidth": 0,
             "ticks": ""
            },
            "colorscale": [
             [
              0,
              "#0d0887"
             ],
             [
              0.1111111111111111,
              "#46039f"
             ],
             [
              0.2222222222222222,
              "#7201a8"
             ],
             [
              0.3333333333333333,
              "#9c179e"
             ],
             [
              0.4444444444444444,
              "#bd3786"
             ],
             [
              0.5555555555555556,
              "#d8576b"
             ],
             [
              0.6666666666666666,
              "#ed7953"
             ],
             [
              0.7777777777777778,
              "#fb9f3a"
             ],
             [
              0.8888888888888888,
              "#fdca26"
             ],
             [
              1,
              "#f0f921"
             ]
            ],
            "type": "surface"
           }
          ],
          "table": [
           {
            "cells": {
             "fill": {
              "color": "#EBF0F8"
             },
             "line": {
              "color": "white"
             }
            },
            "header": {
             "fill": {
              "color": "#C8D4E3"
             },
             "line": {
              "color": "white"
             }
            },
            "type": "table"
           }
          ]
         },
         "layout": {
          "annotationdefaults": {
           "arrowcolor": "#2a3f5f",
           "arrowhead": 0,
           "arrowwidth": 1
          },
          "autotypenumbers": "strict",
          "coloraxis": {
           "colorbar": {
            "outlinewidth": 0,
            "ticks": ""
           }
          },
          "colorscale": {
           "diverging": [
            [
             0,
             "#8e0152"
            ],
            [
             0.1,
             "#c51b7d"
            ],
            [
             0.2,
             "#de77ae"
            ],
            [
             0.3,
             "#f1b6da"
            ],
            [
             0.4,
             "#fde0ef"
            ],
            [
             0.5,
             "#f7f7f7"
            ],
            [
             0.6,
             "#e6f5d0"
            ],
            [
             0.7,
             "#b8e186"
            ],
            [
             0.8,
             "#7fbc41"
            ],
            [
             0.9,
             "#4d9221"
            ],
            [
             1,
             "#276419"
            ]
           ],
           "sequential": [
            [
             0,
             "#0d0887"
            ],
            [
             0.1111111111111111,
             "#46039f"
            ],
            [
             0.2222222222222222,
             "#7201a8"
            ],
            [
             0.3333333333333333,
             "#9c179e"
            ],
            [
             0.4444444444444444,
             "#bd3786"
            ],
            [
             0.5555555555555556,
             "#d8576b"
            ],
            [
             0.6666666666666666,
             "#ed7953"
            ],
            [
             0.7777777777777778,
             "#fb9f3a"
            ],
            [
             0.8888888888888888,
             "#fdca26"
            ],
            [
             1,
             "#f0f921"
            ]
           ],
           "sequentialminus": [
            [
             0,
             "#0d0887"
            ],
            [
             0.1111111111111111,
             "#46039f"
            ],
            [
             0.2222222222222222,
             "#7201a8"
            ],
            [
             0.3333333333333333,
             "#9c179e"
            ],
            [
             0.4444444444444444,
             "#bd3786"
            ],
            [
             0.5555555555555556,
             "#d8576b"
            ],
            [
             0.6666666666666666,
             "#ed7953"
            ],
            [
             0.7777777777777778,
             "#fb9f3a"
            ],
            [
             0.8888888888888888,
             "#fdca26"
            ],
            [
             1,
             "#f0f921"
            ]
           ]
          },
          "colorway": [
           "#636efa",
           "#EF553B",
           "#00cc96",
           "#ab63fa",
           "#FFA15A",
           "#19d3f3",
           "#FF6692",
           "#B6E880",
           "#FF97FF",
           "#FECB52"
          ],
          "font": {
           "color": "#2a3f5f"
          },
          "geo": {
           "bgcolor": "white",
           "lakecolor": "white",
           "landcolor": "white",
           "showlakes": true,
           "showland": true,
           "subunitcolor": "#C8D4E3"
          },
          "hoverlabel": {
           "align": "left"
          },
          "hovermode": "closest",
          "mapbox": {
           "style": "light"
          },
          "paper_bgcolor": "white",
          "plot_bgcolor": "white",
          "polar": {
           "angularaxis": {
            "gridcolor": "#EBF0F8",
            "linecolor": "#EBF0F8",
            "ticks": ""
           },
           "bgcolor": "white",
           "radialaxis": {
            "gridcolor": "#EBF0F8",
            "linecolor": "#EBF0F8",
            "ticks": ""
           }
          },
          "scene": {
           "xaxis": {
            "backgroundcolor": "white",
            "gridcolor": "#DFE8F3",
            "gridwidth": 2,
            "linecolor": "#EBF0F8",
            "showbackground": true,
            "ticks": "",
            "zerolinecolor": "#EBF0F8"
           },
           "yaxis": {
            "backgroundcolor": "white",
            "gridcolor": "#DFE8F3",
            "gridwidth": 2,
            "linecolor": "#EBF0F8",
            "showbackground": true,
            "ticks": "",
            "zerolinecolor": "#EBF0F8"
           },
           "zaxis": {
            "backgroundcolor": "white",
            "gridcolor": "#DFE8F3",
            "gridwidth": 2,
            "linecolor": "#EBF0F8",
            "showbackground": true,
            "ticks": "",
            "zerolinecolor": "#EBF0F8"
           }
          },
          "shapedefaults": {
           "line": {
            "color": "#2a3f5f"
           }
          },
          "ternary": {
           "aaxis": {
            "gridcolor": "#DFE8F3",
            "linecolor": "#A2B1C6",
            "ticks": ""
           },
           "baxis": {
            "gridcolor": "#DFE8F3",
            "linecolor": "#A2B1C6",
            "ticks": ""
           },
           "bgcolor": "white",
           "caxis": {
            "gridcolor": "#DFE8F3",
            "linecolor": "#A2B1C6",
            "ticks": ""
           }
          },
          "title": {
           "x": 0.05
          },
          "xaxis": {
           "automargin": true,
           "gridcolor": "#EBF0F8",
           "linecolor": "#EBF0F8",
           "ticks": "",
           "title": {
            "standoff": 15
           },
           "zerolinecolor": "#EBF0F8",
           "zerolinewidth": 2
          },
          "yaxis": {
           "automargin": true,
           "gridcolor": "#EBF0F8",
           "linecolor": "#EBF0F8",
           "ticks": "",
           "title": {
            "standoff": 15
           },
           "zerolinecolor": "#EBF0F8",
           "zerolinewidth": 2
          }
         }
        },
        "width": 800,
        "xaxis": {
         "anchor": "y",
         "domain": [
          0,
          1
         ],
         "title": {
          "text": "year"
         }
        },
        "yaxis": {
         "anchor": "x",
         "domain": [
          0,
          1
         ],
         "title": {
          "text": "value"
         }
        }
       }
      }
     },
     "metadata": {},
     "output_type": "display_data"
    }
   ],
   "source": [
    "px.line(df, y=['tone_analysis', 'tone_features', 'tone_explainers'], width=800)\n"
   ]
  },
  {
   "cell_type": "markdown",
   "metadata": {},
   "source": [
    "# story: country representation\n",
    "\n",
    "- iraq + afghan > Africa\n",
    "- middleeast > africa, americas, south-and-central-asia\n",
    "- most reported countries (total, per-capita)"
   ]
  },
  {
   "cell_type": "code",
   "execution_count": null,
   "metadata": {},
   "outputs": [],
   "source": [
    "a = 'https://content.guardianapis.com/tags?section=world&from-date=1999-01-01&to-date=2021-10-31&page-size=200&api-key=8e63e9af-bf98-4ed9-ba82-0c5db1884969&type=keyword&page='\n",
    "\n",
    "res = {}\n",
    "\n",
    "for i in range(1, 7):\n",
    "    response = r.get(a + str(i)).json().get('response')\n",
    "    \n",
    "    print(response.get('total'))\n",
    "\n",
    "    response =  response.get('results')\n",
    "\n",
    "    for i in response:\n",
    "        res[i['id']] = i['type']\n",
    "\n",
    "res\n",
    "v = list(res.keys())\n",
    "v = [i[6:] for i in v]\n",
    "\n",
    "exist2 = []\n",
    "not_exist2 = []\n",
    "for p, i in enumerate(world):\n",
    "    if not ' (' in i: # ' and' in i and  and len(i.split(' ')) > 1:\n",
    "        if i.replace(' ', '').lower() in v:\n",
    "            exist2.append(i.replace(' ', '').lower())\n",
    "        \n",
    "        elif i.replace(' ', '-').lower() in v:\n",
    "            exist2.append(i.replace(' ', '-').lower())\n",
    "        else:\n",
    "            not_exist2.append(i)\n",
    "\n",
    "exist2.extend(['state-of-georgia', 'cape-verde', 'palestinian-territories', 'ivory-coast', 'vaticancitystate', 'stlucia', 'congo', 'myanmar', 'czech-republic', 'eswatini', 'congo-brazzaville', 'us','uk', 'au'])\n",
    "g_countries = exist2\n",
    "\n",
    "country_total = get_totals_by_country(g_countries)\n",
    "df_country =  pd.DataFrame(columns=['country', 'total'], data={'country': country_total.keys(), 'total':country_total.values()})\n",
    "\n",
    "df_country.to_csv('g_countries.csv')\n",
    "\n",
    "df_country = df_country.append({'place':'europe-news', 'total':86892, 'located_in':'world', 'type':'region'}, ignore_index=True)\n",
    "\n",
    "\n",
    "g_regions = 'middleeast', 'africa', 'americas', 'south-and-central-asia', 'asia-pacific'"
   ]
  },
  {
   "cell_type": "code",
   "execution_count": 324,
   "metadata": {},
   "outputs": [
    {
     "data": {
      "text/html": [
       "<div>\n",
       "<style scoped>\n",
       "    .dataframe tbody tr th:only-of-type {\n",
       "        vertical-align: middle;\n",
       "    }\n",
       "\n",
       "    .dataframe tbody tr th {\n",
       "        vertical-align: top;\n",
       "    }\n",
       "\n",
       "    .dataframe thead th {\n",
       "        text-align: right;\n",
       "    }\n",
       "</style>\n",
       "<table border=\"1\" class=\"dataframe\">\n",
       "  <thead>\n",
       "    <tr style=\"text-align: right;\">\n",
       "      <th></th>\n",
       "      <th>country</th>\n",
       "      <th>total</th>\n",
       "    </tr>\n",
       "  </thead>\n",
       "  <tbody>\n",
       "    <tr>\n",
       "      <th>71</th>\n",
       "      <td>iraq</td>\n",
       "      <td>22457</td>\n",
       "    </tr>\n",
       "    <tr>\n",
       "      <th>33</th>\n",
       "      <td>china</td>\n",
       "      <td>18520</td>\n",
       "    </tr>\n",
       "    <tr>\n",
       "      <th>53</th>\n",
       "      <td>france</td>\n",
       "      <td>16839</td>\n",
       "    </tr>\n",
       "    <tr>\n",
       "      <th>132</th>\n",
       "      <td>russia</td>\n",
       "      <td>16300</td>\n",
       "    </tr>\n",
       "    <tr>\n",
       "      <th>73</th>\n",
       "      <td>israel</td>\n",
       "      <td>16192</td>\n",
       "    </tr>\n",
       "    <tr>\n",
       "      <th>0</th>\n",
       "      <td>afghanistan</td>\n",
       "      <td>12364</td>\n",
       "    </tr>\n",
       "    <tr>\n",
       "      <th>56</th>\n",
       "      <td>germany</td>\n",
       "      <td>10648</td>\n",
       "    </tr>\n",
       "    <tr>\n",
       "      <th>157</th>\n",
       "      <td>syria</td>\n",
       "      <td>10473</td>\n",
       "    </tr>\n",
       "    <tr>\n",
       "      <th>182</th>\n",
       "      <td>palestinian-territories</td>\n",
       "      <td>9486</td>\n",
       "    </tr>\n",
       "    <tr>\n",
       "      <th>74</th>\n",
       "      <td>italy</td>\n",
       "      <td>9374</td>\n",
       "    </tr>\n",
       "    <tr>\n",
       "      <th>70</th>\n",
       "      <td>iran</td>\n",
       "      <td>9308</td>\n",
       "    </tr>\n",
       "    <tr>\n",
       "      <th>68</th>\n",
       "      <td>india</td>\n",
       "      <td>9240</td>\n",
       "    </tr>\n",
       "    <tr>\n",
       "      <th>72</th>\n",
       "      <td>ireland</td>\n",
       "      <td>7444</td>\n",
       "    </tr>\n",
       "    <tr>\n",
       "      <th>151</th>\n",
       "      <td>spain</td>\n",
       "      <td>7037</td>\n",
       "    </tr>\n",
       "    <tr>\n",
       "      <th>121</th>\n",
       "      <td>pakistan</td>\n",
       "      <td>6696</td>\n",
       "    </tr>\n",
       "    <tr>\n",
       "      <th>76</th>\n",
       "      <td>japan</td>\n",
       "      <td>6229</td>\n",
       "    </tr>\n",
       "    <tr>\n",
       "      <th>58</th>\n",
       "      <td>greece</td>\n",
       "      <td>5263</td>\n",
       "    </tr>\n",
       "    <tr>\n",
       "      <th>149</th>\n",
       "      <td>southafrica</td>\n",
       "      <td>4849</td>\n",
       "    </tr>\n",
       "    <tr>\n",
       "      <th>166</th>\n",
       "      <td>turkey</td>\n",
       "      <td>4640</td>\n",
       "    </tr>\n",
       "    <tr>\n",
       "      <th>45</th>\n",
       "      <td>egypt</td>\n",
       "      <td>4300</td>\n",
       "    </tr>\n",
       "  </tbody>\n",
       "</table>\n",
       "</div>"
      ],
      "text/plain": [
       "                     country  total\n",
       "71                      iraq  22457\n",
       "33                     china  18520\n",
       "53                    france  16839\n",
       "132                   russia  16300\n",
       "73                    israel  16192\n",
       "0                afghanistan  12364\n",
       "56                   germany  10648\n",
       "157                    syria  10473\n",
       "182  palestinian-territories   9486\n",
       "74                     italy   9374\n",
       "70                      iran   9308\n",
       "68                     india   9240\n",
       "72                   ireland   7444\n",
       "151                    spain   7037\n",
       "121                 pakistan   6696\n",
       "76                     japan   6229\n",
       "58                    greece   5263\n",
       "149              southafrica   4849\n",
       "166                   turkey   4640\n",
       "45                     egypt   4300"
      ]
     },
     "execution_count": 324,
     "metadata": {},
     "output_type": "execute_result"
    }
   ],
   "source": [
    "df_country.sort_values(by='total', ascending=False)[:20]\n"
   ]
  },
  {
   "cell_type": "code",
   "execution_count": 326,
   "metadata": {},
   "outputs": [],
   "source": [
    "africa = [\n",
    "'Nigeria'\n",
    ",'Ethiopia'\n",
    ",'Egypt'\n",
    ",'DR Congo'\n",
    ",'Tanzania'\n",
    ",'South Africa'\n",
    ",'Kenya'\n",
    ",'Uganda'\n",
    ",'Algeria'\n",
    ",'Sudan'\n",
    ",'Morocco'\n",
    ",'Angola'\n",
    ",'Mozambique'\n",
    ",'Ghana'\n",
    ",'Madagascar'\n",
    ",'Cameroon'\n",
    ",'Côte Ivoire'\n",
    ",'Niger'\n",
    ",'Burkina Faso'\n",
    ",'Mali'\n",
    ",'Malawi'\n",
    ",'Zambia'\n",
    ",'Senegal'\n",
    ",'Chad'\n",
    ",'Somalia'\n",
    ",'Zimbabwe'\n",
    ",'Guinea'\n",
    ",'Rwanda'\n",
    ",'Benin'\n",
    ",'Burundi'\n",
    ",'Tunisia'\n",
    ",'South Sudan'\n",
    ",'Togo'\n",
    ",'Sierra Leone'\n",
    ",'Libya'\n",
    ",'Congo'\n",
    ",'Liberia'\n",
    ",'Central African Republic'\n",
    ",'Mauritania'\n",
    ",'Eritrea'\n",
    ",'Namibia'\n",
    ",'Gambia'\n",
    ",'Botswana'\n",
    ",'Gabon'\n",
    ",'Lesotho'\n",
    ",'Guinea-Bissau'\n",
    ",'Equatorial Guinea'\n",
    ",'Mauritius'\n",
    ",'Eswatini'\n",
    ",'Djibouti'\n",
    ",'Comoros'\n",
    ",'Cabo Verde'\n",
    ",'Sao Tome & Principe'\n",
    ",'Seychelles'\n",
    "]\n"
   ]
  },
  {
   "cell_type": "code",
   "execution_count": 340,
   "metadata": {},
   "outputs": [],
   "source": [
    "def match_countries():\n",
    "    exist2 = []\n",
    "    not_exist2 = []\n",
    "    for p, i in enumerate(africa):\n",
    "        if not ' (' in i: # ' and' in i and  and len(i.split(' ')) > 1:\n",
    "            if i.replace(' ', '').lower() in v:\n",
    "                exist2.append(i.replace(' ', '').lower())\n",
    "            \n",
    "            elif i.replace(' ', '-').lower() in v:\n",
    "                exist2.append(i.replace(' ', '-').lower())\n",
    "            else:\n",
    "                not_exist2.append(i)\n",
    "    # 'cape-verde',  'ivory-coast', 'congo','sao-tome-and-principe'\n",
    "    return not_exist2, exist2\n",
    "\n",
    "\n"
   ]
  },
  {
   "cell_type": "code",
   "execution_count": 381,
   "metadata": {},
   "outputs": [
    {
     "data": {
      "text/plain": [
       "34821"
      ]
     },
     "execution_count": 381,
     "metadata": {},
     "output_type": "execute_result"
    }
   ],
   "source": [
    "df_country[df_country.country.isin(['iraq', 'afghanistan'])].total.sum()"
   ]
  },
  {
   "cell_type": "code",
   "execution_count": 379,
   "metadata": {},
   "outputs": [
    {
     "data": {
      "text/plain": [
       "30296"
      ]
     },
     "execution_count": 379,
     "metadata": {},
     "output_type": "execute_result"
    }
   ],
   "source": [
    "r.get(country_api + 'africa').json().get('response').get('total')"
   ]
  },
  {
   "cell_type": "code",
   "execution_count": 418,
   "metadata": {},
   "outputs": [
    {
     "data": {
      "text/html": [
       "<div>\n",
       "<style scoped>\n",
       "    .dataframe tbody tr th:only-of-type {\n",
       "        vertical-align: middle;\n",
       "    }\n",
       "\n",
       "    .dataframe tbody tr th {\n",
       "        vertical-align: top;\n",
       "    }\n",
       "\n",
       "    .dataframe thead th {\n",
       "        text-align: right;\n",
       "    }\n",
       "</style>\n",
       "<table border=\"1\" class=\"dataframe\">\n",
       "  <thead>\n",
       "    <tr style=\"text-align: right;\">\n",
       "      <th></th>\n",
       "      <th>place</th>\n",
       "      <th>total</th>\n",
       "      <th>located_in</th>\n",
       "      <th>type</th>\n",
       "    </tr>\n",
       "  </thead>\n",
       "  <tbody>\n",
       "    <tr>\n",
       "      <th>196</th>\n",
       "      <td>middleeast</td>\n",
       "      <td>63514</td>\n",
       "      <td>world</td>\n",
       "      <td>region</td>\n",
       "    </tr>\n",
       "    <tr>\n",
       "      <th>197</th>\n",
       "      <td>africa</td>\n",
       "      <td>30296</td>\n",
       "      <td>world</td>\n",
       "      <td>region</td>\n",
       "    </tr>\n",
       "    <tr>\n",
       "      <th>198</th>\n",
       "      <td>americas</td>\n",
       "      <td>18885</td>\n",
       "      <td>world</td>\n",
       "      <td>region</td>\n",
       "    </tr>\n",
       "    <tr>\n",
       "      <th>199</th>\n",
       "      <td>south-and-central-asia</td>\n",
       "      <td>8779</td>\n",
       "      <td>world</td>\n",
       "      <td>region</td>\n",
       "    </tr>\n",
       "    <tr>\n",
       "      <th>200</th>\n",
       "      <td>asia-pacific</td>\n",
       "      <td>34472</td>\n",
       "      <td>world</td>\n",
       "      <td>region</td>\n",
       "    </tr>\n",
       "    <tr>\n",
       "      <th>201</th>\n",
       "      <td>europe-news</td>\n",
       "      <td>86892</td>\n",
       "      <td>world</td>\n",
       "      <td>region</td>\n",
       "    </tr>\n",
       "  </tbody>\n",
       "</table>\n",
       "</div>"
      ],
      "text/plain": [
       "                      place  total located_in    type\n",
       "196              middleeast  63514      world  region\n",
       "197                  africa  30296      world  region\n",
       "198                americas  18885      world  region\n",
       "199  south-and-central-asia   8779      world  region\n",
       "200            asia-pacific  34472      world  region\n",
       "201             europe-news  86892      world  region"
      ]
     },
     "execution_count": 418,
     "metadata": {},
     "output_type": "execute_result"
    }
   ],
   "source": [
    "df_country[df_country.type == 'region']"
   ]
  },
  {
   "cell_type": "code",
   "execution_count": 426,
   "metadata": {},
   "outputs": [],
   "source": [
    "a = 'https://content.guardianapis.com/search?tag=world%2Fsrilanka&from-date=2020-12-01&to-date=2020-12-31&show-tags=all&page-size=200&api-key=8e63e9af-bf98-4ed9-ba82-0c5db1884969'\n",
    "response = r.get(a).json().get('response')"
   ]
  },
  {
   "cell_type": "code",
   "execution_count": 427,
   "metadata": {},
   "outputs": [
    {
     "name": "stdout",
     "output_type": "stream",
     "text": [
      "world/srilanka keyword\n",
      "world/islam keyword\n",
      "world/coronavirus-outbreak keyword\n",
      "world/south-and-central-asia keyword\n",
      "world/world keyword\n",
      "world/religion keyword\n",
      "world/world-health-organization keyword\n",
      "science/infectiousdiseases keyword\n",
      "type/article type\n",
      "tone/news tone\n",
      "profile/harrietsherwood contributor\n",
      "----\n",
      "film/film keyword\n",
      "film/drama keyword\n",
      "world/srilanka keyword\n",
      "world/lgbt-rights keyword\n",
      "world/world keyword\n",
      "world/south-and-central-asia keyword\n",
      "culture/culture keyword\n",
      "film/ava-duvernay keyword\n",
      "type/article type\n",
      "tone/reviews tone\n",
      "profile/cathclarke contributor\n",
      "tracking/commissioningdesk/uk-culture tracking\n",
      "----\n",
      "australia-news/series/lives-in-limbo series\n",
      "australia-news/australian-immigration-and-asylum keyword\n",
      "australia-news/manus-island keyword\n",
      "australia-news/reza-barati keyword\n",
      "australia-news/australia-news keyword\n",
      "australia-news/melbourne keyword\n",
      "world/srilanka keyword\n",
      "type/article type\n",
      "tone/features tone\n",
      "profile/green-michael contributor\n",
      "publication/theguardian publication\n",
      "theguardian/mainsection newspaper-book\n",
      "theguardian/mainsection/international newspaper-book-section\n",
      "tracking/commissioningdesk/australia-news tracking\n",
      "----\n",
      "global-development/global-development keyword\n",
      "world/srilanka keyword\n",
      "environment/farming keyword\n",
      "environment/environment keyword\n",
      "world/south-and-central-asia keyword\n",
      "world/world keyword\n",
      "type/article type\n",
      "tone/features tone\n",
      "tracking/commissioningdesk/global-development tracking\n",
      "----\n",
      "world/srilanka keyword\n",
      "world/coronavirus-outbreak keyword\n",
      "world/islam keyword\n",
      "world/religion keyword\n",
      "world/south-and-central-asia keyword\n",
      "world/world keyword\n",
      "type/article type\n",
      "tone/news tone\n",
      "profile/hannah-ellis-petersen contributor\n",
      "tracking/commissioningdesk/uk-foreign tracking\n",
      "----\n",
      "education/medicine keyword\n",
      "world/srilanka keyword\n",
      "theguardian/series/otherlives series\n",
      "society/hospitals keyword\n",
      "uk/ipswich keyword\n",
      "type/article type\n",
      "tone/obituaries tone\n",
      "publication/theguardian publication\n",
      "theguardian/journal newspaper-book\n",
      "theguardian/journal/obituaries newspaper-book-section\n",
      "tracking/commissioningdesk/uk-obituaries tracking\n",
      "----\n"
     ]
    }
   ],
   "source": [
    "response = response.get('results')\n",
    "\n",
    "for i in response:\n",
    "    tags = i.get('tags')\n",
    "    for t in tags:\n",
    "        print(t.get('id'), t.get('type'))\n",
    "    print('----')"
   ]
  },
  {
   "cell_type": "markdown",
   "metadata": {},
   "source": [
    "# country explorer\n",
    "- top 5 doesn't seem interesting without comparison. can take >5 seconds from api. "
   ]
  },
  {
   "cell_type": "code",
   "execution_count": 150,
   "metadata": {},
   "outputs": [
    {
     "data": {
      "text/plain": [
       "[('world', 4400),\n",
       " ('commentisfree', 932),\n",
       " ('uk-news', 201),\n",
       " ('us-news', 169),\n",
       " ('global-development', 163),\n",
       " ('media', 160),\n",
       " ('politics', 98),\n",
       " ('environment', 84),\n",
       " ('books', 62),\n",
       " ('sport', 57)]"
      ]
     },
     "execution_count": 150,
     "metadata": {},
     "output_type": "execute_result"
    }
   ],
   "source": [
    "sorted(pakistan.items(), key=lambda x: x[1], reverse=True)[:10]\n"
   ]
  },
  {
   "cell_type": "code",
   "execution_count": 151,
   "metadata": {},
   "outputs": [
    {
     "name": "stdout",
     "output_type": "stream",
     "text": [
      "total:  1252\n"
     ]
    },
    {
     "data": {
      "text/plain": [
       "[('world', 667),\n",
       " ('commentisfree', 143),\n",
       " ('australia-news', 87),\n",
       " ('global-development', 47),\n",
       " ('uk-news', 34),\n",
       " ('media', 31),\n",
       " ('politics', 26),\n",
       " ('environment', 19),\n",
       " ('sport', 18),\n",
       " ('books', 17)]"
      ]
     },
     "execution_count": 151,
     "metadata": {},
     "output_type": "execute_result"
    }
   ],
   "source": [
    "srilanka = get_section_total('world/srilanka')\n",
    "sorted(srilanka.items(), key=lambda x: x[1], reverse=True)[:10]\n"
   ]
  },
  {
   "cell_type": "code",
   "execution_count": 152,
   "metadata": {},
   "outputs": [
    {
     "data": {
      "text/plain": [
       "[('world', 4169),\n",
       " ('commentisfree', 1005),\n",
       " ('global-development', 553),\n",
       " ('business', 540),\n",
       " ('environment', 489),\n",
       " ('film', 337),\n",
       " ('books', 193),\n",
       " ('politics', 157),\n",
       " ('sport', 154),\n",
       " ('cities', 149)]"
      ]
     },
     "execution_count": 152,
     "metadata": {},
     "output_type": "execute_result"
    }
   ],
   "source": [
    "sorted(india.items(), key=lambda x: x[1], reverse=True)[:10]\n"
   ]
  },
  {
   "cell_type": "code",
   "execution_count": 153,
   "metadata": {},
   "outputs": [
    {
     "name": "stdout",
     "output_type": "stream",
     "text": [
      "total:  1718\n"
     ]
    },
    {
     "data": {
      "text/plain": [
       "[('world', 518),\n",
       " ('media', 245),\n",
       " ('commentisfree', 207),\n",
       " ('business', 97),\n",
       " ('books', 81),\n",
       " ('music', 63),\n",
       " ('environment', 58),\n",
       " ('film', 51),\n",
       " ('technology', 47),\n",
       " ('society', 35)]"
      ]
     },
     "execution_count": 153,
     "metadata": {},
     "output_type": "execute_result"
    }
   ],
   "source": [
    "sweden = get_section_total('world/sweden')\n",
    "sorted(sweden.items(), key=lambda x: x[1], reverse=True)[:10]"
   ]
  },
  {
   "cell_type": "code",
   "execution_count": 154,
   "metadata": {},
   "outputs": [
    {
     "name": "stdout",
     "output_type": "stream",
     "text": [
      "total:  9406\n"
     ]
    },
    {
     "data": {
      "text/plain": [
       "[('world', 5717),\n",
       " ('commentisfree', 774),\n",
       " ('business', 670),\n",
       " ('film', 251),\n",
       " ('artanddesign', 219),\n",
       " ('uk-news', 203),\n",
       " ('media', 167),\n",
       " ('politics', 150),\n",
       " ('fashion', 148),\n",
       " ('us-news', 141)]"
      ]
     },
     "execution_count": 154,
     "metadata": {},
     "output_type": "execute_result"
    }
   ],
   "source": [
    "italy = get_section_total('world/italy')\n",
    "sorted(italy.items(), key=lambda x: x[1], reverse=True)[:10]"
   ]
  },
  {
   "cell_type": "markdown",
   "metadata": {},
   "source": [
    "# celebrities\n",
    "obituaries, rich people attention, etc"
   ]
  },
  {
   "cell_type": "markdown",
   "metadata": {},
   "source": [
    "Innovators\n",
    "Jensen Huang\n",
    "Elon Musk\n",
    "Adrienne Banfield Norris, Willow Smith, & Jada Pinkett Smith\n",
    "Katalin Kariko\n",
    "Mary Barra\n",
    "John Nkengasong\n",
    "MiMi Aung\n",
    "Vitalik Buterin\n",
    "Viya\n",
    "Barney Graham\n",
    "Friederike Otto & Geert Jan van Oldenborgh\n",
    "Kengo Kuma\n",
    "Sara Menker\n",
    "Lidia Morawska"
   ]
  },
  {
   "cell_type": "code",
   "execution_count": 32,
   "metadata": {},
   "outputs": [],
   "source": [
    "times_leaders = ['Ngozi Okonjo-Iweala',\n",
    "'Joe Biden',\n",
    "'Xi Jinping',\n",
    "'Liz Cheney',\n",
    "'Kamala Harris',\n",
    "'Mario Draghi',\n",
    "'Tucker Carlson',\n",
    "'Naftali Bennett',\n",
    "'Stacey Abrams',\n",
    "'Nayib Bukele',\n",
    "'Donald Trump',\n",
    "'Narendra Modi',\n",
    "'Mahbouba Seraj',\n",
    "'Joe Manchin',\n",
    "'Ebrahim Raisi',\n",
    "'Rochelle Walensky',\n",
    "'Mamata Banerjee',\n",
    "'Ron Klain',\n",
    "'Elisa Loncon Antileo',\n",
    "'Abdul Ghani Baradar']\n",
    "\n"
   ]
  },
  {
   "cell_type": "code",
   "execution_count": 35,
   "metadata": {},
   "outputs": [
    {
     "data": {
      "text/plain": [
       "{'Ngozi Okonjo-Iweala': 857,\n",
       " 'Joe Biden': 26272,\n",
       " 'Xi Jinping': 16075,\n",
       " 'Liz Cheney': 19458,\n",
       " 'Kamala Harris': 12547,\n",
       " 'Mario Draghi': 16218,\n",
       " 'Tucker Carlson': 5553,\n",
       " 'Naftali Bennett': 16047,\n",
       " 'Stacey Abrams': 5713,\n",
       " 'Nayib Bukele': 46,\n",
       " 'Donald Trump': 51982,\n",
       " 'Narendra Modi': 2735,\n",
       " 'Mahbouba Seraj': 23,\n",
       " 'Joe Manchin': 16382,\n",
       " 'Ebrahim Raisi': 665,\n",
       " 'Rochelle Walensky': 1237,\n",
       " 'Mamata Banerjee': 363,\n",
       " 'Ron Klain': 18442,\n",
       " 'Elisa Loncon Antileo': 590,\n",
       " 'Abdul Ghani Baradar': 8019}"
      ]
     },
     "execution_count": 35,
     "metadata": {},
     "output_type": "execute_result"
    }
   ],
   "source": [
    "totals_all"
   ]
  },
  {
   "cell_type": "code",
   "execution_count": 47,
   "metadata": {},
   "outputs": [
    {
     "data": {
      "text/html": [
       "<div>\n",
       "<style scoped>\n",
       "    .dataframe tbody tr th:only-of-type {\n",
       "        vertical-align: middle;\n",
       "    }\n",
       "\n",
       "    .dataframe tbody tr th {\n",
       "        vertical-align: top;\n",
       "    }\n",
       "\n",
       "    .dataframe thead th {\n",
       "        text-align: right;\n",
       "    }\n",
       "</style>\n",
       "<table border=\"1\" class=\"dataframe\">\n",
       "  <thead>\n",
       "    <tr style=\"text-align: right;\">\n",
       "      <th></th>\n",
       "      <th>times_leaders</th>\n",
       "      <th>total</th>\n",
       "    </tr>\n",
       "  </thead>\n",
       "  <tbody>\n",
       "    <tr>\n",
       "      <th>0</th>\n",
       "      <td>Donald Trump</td>\n",
       "      <td>51982</td>\n",
       "    </tr>\n",
       "    <tr>\n",
       "      <th>1</th>\n",
       "      <td>Joe Biden</td>\n",
       "      <td>26272</td>\n",
       "    </tr>\n",
       "    <tr>\n",
       "      <th>2</th>\n",
       "      <td>Liz Cheney</td>\n",
       "      <td>19458</td>\n",
       "    </tr>\n",
       "    <tr>\n",
       "      <th>3</th>\n",
       "      <td>Ron Klain</td>\n",
       "      <td>18442</td>\n",
       "    </tr>\n",
       "    <tr>\n",
       "      <th>4</th>\n",
       "      <td>Joe Manchin</td>\n",
       "      <td>16382</td>\n",
       "    </tr>\n",
       "    <tr>\n",
       "      <th>5</th>\n",
       "      <td>Mario Draghi</td>\n",
       "      <td>16218</td>\n",
       "    </tr>\n",
       "    <tr>\n",
       "      <th>6</th>\n",
       "      <td>Xi Jinping</td>\n",
       "      <td>16075</td>\n",
       "    </tr>\n",
       "    <tr>\n",
       "      <th>7</th>\n",
       "      <td>Naftali Bennett</td>\n",
       "      <td>16047</td>\n",
       "    </tr>\n",
       "    <tr>\n",
       "      <th>8</th>\n",
       "      <td>Kamala Harris</td>\n",
       "      <td>12547</td>\n",
       "    </tr>\n",
       "    <tr>\n",
       "      <th>9</th>\n",
       "      <td>Abdul Ghani Baradar</td>\n",
       "      <td>8019</td>\n",
       "    </tr>\n",
       "    <tr>\n",
       "      <th>10</th>\n",
       "      <td>Stacey Abrams</td>\n",
       "      <td>5713</td>\n",
       "    </tr>\n",
       "    <tr>\n",
       "      <th>11</th>\n",
       "      <td>Tucker Carlson</td>\n",
       "      <td>5553</td>\n",
       "    </tr>\n",
       "    <tr>\n",
       "      <th>12</th>\n",
       "      <td>Narendra Modi</td>\n",
       "      <td>2735</td>\n",
       "    </tr>\n",
       "    <tr>\n",
       "      <th>13</th>\n",
       "      <td>Rochelle Walensky</td>\n",
       "      <td>1237</td>\n",
       "    </tr>\n",
       "    <tr>\n",
       "      <th>14</th>\n",
       "      <td>Ngozi Okonjo-Iweala</td>\n",
       "      <td>857</td>\n",
       "    </tr>\n",
       "    <tr>\n",
       "      <th>15</th>\n",
       "      <td>Ebrahim Raisi</td>\n",
       "      <td>665</td>\n",
       "    </tr>\n",
       "    <tr>\n",
       "      <th>16</th>\n",
       "      <td>Elisa Loncon Antileo</td>\n",
       "      <td>590</td>\n",
       "    </tr>\n",
       "    <tr>\n",
       "      <th>17</th>\n",
       "      <td>Mamata Banerjee</td>\n",
       "      <td>363</td>\n",
       "    </tr>\n",
       "    <tr>\n",
       "      <th>18</th>\n",
       "      <td>Nayib Bukele</td>\n",
       "      <td>46</td>\n",
       "    </tr>\n",
       "    <tr>\n",
       "      <th>19</th>\n",
       "      <td>Mahbouba Seraj</td>\n",
       "      <td>23</td>\n",
       "    </tr>\n",
       "  </tbody>\n",
       "</table>\n",
       "</div>"
      ],
      "text/plain": [
       "           times_leaders  total\n",
       "0           Donald Trump  51982\n",
       "1              Joe Biden  26272\n",
       "2             Liz Cheney  19458\n",
       "3              Ron Klain  18442\n",
       "4            Joe Manchin  16382\n",
       "5           Mario Draghi  16218\n",
       "6             Xi Jinping  16075\n",
       "7        Naftali Bennett  16047\n",
       "8          Kamala Harris  12547\n",
       "9    Abdul Ghani Baradar   8019\n",
       "10         Stacey Abrams   5713\n",
       "11        Tucker Carlson   5553\n",
       "12         Narendra Modi   2735\n",
       "13     Rochelle Walensky   1237\n",
       "14   Ngozi Okonjo-Iweala    857\n",
       "15         Ebrahim Raisi    665\n",
       "16  Elisa Loncon Antileo    590\n",
       "17       Mamata Banerjee    363\n",
       "18          Nayib Bukele     46\n",
       "19        Mahbouba Seraj     23"
      ]
     },
     "execution_count": 47,
     "metadata": {},
     "output_type": "execute_result"
    }
   ],
   "source": [
    "pd.DataFrame.from_dict({'times_leaders': totals_all.keys(), 'total':totals_all.values()}).sort_values(by='total', ascending=False).reset_index(drop=True)"
   ]
  },
  {
   "cell_type": "code",
   "execution_count": null,
   "metadata": {},
   "outputs": [],
   "source": []
  }
 ],
 "metadata": {
  "interpreter": {
   "hash": "949777d72b0d2535278d3dc13498b2535136f6dfe0678499012e853ee9abcab1"
  },
  "kernelspec": {
   "display_name": "Python 3.7.9 64-bit",
   "name": "python3"
  },
  "language_info": {
   "codemirror_mode": {
    "name": "ipython",
    "version": 3
   },
   "file_extension": ".py",
   "mimetype": "text/x-python",
   "name": "python",
   "nbconvert_exporter": "python",
   "pygments_lexer": "ipython3",
   "version": "3.7.9"
  },
  "orig_nbformat": 4
 },
 "nbformat": 4,
 "nbformat_minor": 2
}
