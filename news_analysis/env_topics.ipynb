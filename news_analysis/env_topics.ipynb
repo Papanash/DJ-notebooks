{
  "cells": [
    {
      "cell_type": "markdown",
      "metadata": {
        "colab_type": "text",
        "id": "view-in-github"
      },
      "source": [
        "<a href=\"https://colab.research.google.com/github/karthik-muth/DJ-notebooks/blob/master/news_analysis/env_topics.ipynb\" target=\"_parent\"><img src=\"https://colab.research.google.com/assets/colab-badge.svg\" alt=\"Open In Colab\"/></a>"
      ]
    },
    {
      "cell_type": "code",
      "execution_count": 35,
      "metadata": {
        "id": "OKiv8HVY8Hbp"
      },
      "outputs": [],
      "source": [
        "import requests as r\n",
        "import pandas as pd\n",
        "\n",
        "key_param = '&api-key=test'\n",
        "\n",
        "content_api = 'https://content.guardianapis.com/search?' + key_param + '&page-size=200'\n"
      ]
    },
    {
      "cell_type": "markdown",
      "metadata": {
        "id": "9OuM_EcnSEJu"
      },
      "source": [
        "## Top env topics"
      ]
    },
    {
      "cell_type": "code",
      "execution_count": 36,
      "metadata": {
        "id": "PIEfpyCE89rH"
      },
      "outputs": [],
      "source": [
        "#+ '&q=' i\n",
        "years_param = '&from-date=2022-05-01&to-date=2022-05-22' # \n",
        "# show-tags = '&show-tags=all'\n",
        "params = '&section=environment&show-tags=keyword'\n",
        "\n",
        "response = r.get(content_api + years_param + params).json().get('response')\n"
      ]
    },
    {
      "cell_type": "code",
      "execution_count": 37,
      "metadata": {
        "colab": {
          "base_uri": "https://localhost:8080/"
        },
        "id": "FrWW2S1L-Dpd",
        "outputId": "d12fe285-04d6-4926-8cfa-65e04dee0a51"
      },
      "outputs": [
        {
          "name": "stdout",
          "output_type": "stream",
          "text": [
            "163\n"
          ]
        }
      ],
      "source": [
        "total = response.get('total')\n",
        "print(total)\n",
        "result = response.get('results')"
      ]
    },
    {
      "cell_type": "code",
      "execution_count": 43,
      "metadata": {
        "id": "MNIld7oB-FMm"
      },
      "outputs": [],
      "source": [
        "env_tags = []\n",
        "other_tags = []\n",
        "tags_count = {}\n",
        "first_tags = []\n",
        "\n",
        "\n",
        "for i in result:\n",
        "    first_tags.append(i.get('tags')[0].get('id'))\n",
        "    \n",
        "    for j in i.get('tags'):\n",
        "       \n",
        "      id = j.get('id')\n",
        "      \n",
        "      if id in tags_count:\n",
        "        tags_count[id] += 1\n",
        "      else:\n",
        "        tags_count[id] = 1\n",
        "\n",
        "\n",
        "  "
      ]
    },
    {
      "cell_type": "code",
      "execution_count": 45,
      "metadata": {
        "colab": {
          "base_uri": "https://localhost:8080/"
        },
        "id": "BbKeuSJFP4vk",
        "outputId": "cbaa8405-f2a7-40d0-f4c2-17ad0066f731"
      },
      "outputs": [
        {
          "data": {
            "text/plain": [
              "163"
            ]
          },
          "execution_count": 45,
          "metadata": {},
          "output_type": "execute_result"
        }
      ],
      "source": [
        "len(first_tags)"
      ]
    },
    {
      "cell_type": "code",
      "execution_count": 50,
      "metadata": {
        "colab": {
          "base_uri": "https://localhost:8080/"
        },
        "id": "MvcnwIh-Cw80",
        "outputId": "06453234-b042-4442-f6fa-9c87bf8600e8"
      },
      "outputs": [
        {
          "data": {
            "text/plain": [
              "[('environment/environment', 153),\n",
              " ('uk/uk', 64),\n",
              " ('environment/wildlife', 50),\n",
              " ('environment/climate-crisis', 49),\n",
              " ('world/world', 39),\n",
              " ('world/animals', 26),\n",
              " ('environment/conservation', 26),\n",
              " ('australia-news/australia-news', 21),\n",
              " ('uk/ruralaffairs', 21),\n",
              " ('us-news/us-news', 20),\n",
              " ('environment/birds', 19),\n",
              " ('environment/carbon-emissions', 18),\n",
              " ('environment/fossil-fuels', 18),\n",
              " ('environment/pollution', 18),\n",
              " ('business/business', 17),\n",
              " ('environment/energy', 16),\n",
              " ('environment/farming', 15),\n",
              " ('environment/marine-life', 14),\n",
              " ('environment/food', 11),\n",
              " ('science/science', 11)]"
            ]
          },
          "execution_count": 50,
          "metadata": {},
          "output_type": "execute_result"
        }
      ],
      "source": [
        "sorted(tags_count.items(), key=lambda x: x[1], reverse=True)[:20]"
      ]
    },
    {
      "cell_type": "markdown",
      "metadata": {
        "id": "d1yB-lBxU84I"
      },
      "source": [
        "## Top env series"
      ]
    },
    {
      "cell_type": "code",
      "execution_count": 64,
      "metadata": {
        "colab": {
          "base_uri": "https://localhost:8080/"
        },
        "id": "eR7aDYfHPso7",
        "outputId": "652d32fd-940f-450e-9247-a0a5a184f10a"
      },
      "outputs": [
        {
          "name": "stdout",
          "output_type": "stream",
          "text": [
            "6\n"
          ]
        }
      ],
      "source": [
        "years_param = '&from-date=2022-01-01&to-date=2022-05-22' # \n",
        "\n",
        "params = '&section=environment&show-tags=series'\n",
        "\n",
        "response = r.get(content_api + years_param + params).json().get('response')\n",
        "print(response.get('pages'))\n",
        "\n",
        "tags_count = {}\n",
        "\n",
        "for p in range(1,  response.get('pages') + 1):\n",
        "  response = r.get(content_api + years_param + params + f'&page={p}').json().get('response')\n",
        "  result = response.get('results')\n",
        "\n",
        "  for i in result:\n",
        "      for j in i.get('tags'):\n",
        "        \n",
        "        id = j.get('id')\n",
        "        \n",
        "        if id in tags_count:\n",
        "          tags_count[id] += 1\n",
        "        else:\n",
        "          tags_count[id] = 1"
      ]
    },
    {
      "cell_type": "code",
      "execution_count": 65,
      "metadata": {
        "colab": {
          "base_uri": "https://localhost:8080/"
        },
        "id": "qjA40fypUpiV",
        "outputId": "4cce6fb9-959a-48ca-db81-807ebbb84cf2"
      },
      "outputs": [
        {
          "data": {
            "text/plain": [
              "[('environment/series/country-diary', 127),\n",
              " ('environment/series/the-age-of-extinction', 72),\n",
              " ('environment/series/seascape-the-state-of-our-oceans', 53),\n",
              " ('environment/series/our-unequal-earth', 23),\n",
              " ('environment/series/climate-crimes', 19),\n",
              " ('environment/series/animals-farmed', 18),\n",
              " ('environment/series/temperature-check', 17),\n",
              " ('environment/series/young-country-diary', 11),\n",
              " ('commentisfree/series/brief-letters', 9),\n",
              " ('environment/series/pollutionwatch', 9),\n",
              " ('theguardian/series/otherlives', 9),\n",
              " ('environment/series/carbon-bombs-2022', 6),\n",
              " ('environment/series/environmental-investigations', 6),\n",
              " ('environment/series/the-road-to-kunming', 5),\n",
              " ('environment/series/weather-tracker', 5),\n",
              " ('environment/series/birdwatch', 5),\n",
              " ('news/series/weatherwatch', 4),\n",
              " ('lifeandstyle/series/notes-and-queries', 4),\n",
              " ('environment/series/specieswatch', 4),\n",
              " ('environment/series/down-to-earth', 4),\n",
              " ('artanddesign/series/guardian-picture-essay', 3),\n",
              " ('environment/series/floodlight', 3),\n",
              " ('environment/series/covering-climate-now', 2),\n",
              " ('news/series/pass-notes', 2),\n",
              " ('global-development/series/rights-and-freedom', 1),\n",
              " ('us-news/series/americas-dirty-divide', 1),\n",
              " ('global-development/series/opinion--global-development-', 1),\n",
              " ('us-news/series/deepwater-horizon', 1),\n",
              " ('business/series/viewpointcolumn', 1),\n",
              " ('science/series/plantwatch', 1),\n",
              " ('world/series/high-seas', 1),\n",
              " ('lifeandstyle/series/conversations-with-experts', 1),\n",
              " ('news/series/the-long-read', 1),\n",
              " ('society/series/guardian-and-observer-charity-appeal-2021', 1),\n",
              " ('environment/series/biodiversity--what-happened-next-', 1)]"
            ]
          },
          "execution_count": 65,
          "metadata": {},
          "output_type": "execute_result"
        }
      ],
      "source": [
        "sorted(tags_count.items(), key=lambda x: x[1], reverse=True)"
      ]
    },
    {
      "cell_type": "code",
      "execution_count": null,
      "metadata": {
        "id": "4xzeLIDpVjmb"
      },
      "outputs": [],
      "source": []
    }
  ],
  "metadata": {
    "colab": {
      "authorship_tag": "ABX9TyMw0O5OhvzaAFD2akwgYCgK",
      "include_colab_link": true,
      "name": "env_topics.ipynb",
      "provenance": []
    },
    "kernelspec": {
      "display_name": "Python 3",
      "name": "python3"
    },
    "language_info": {
      "name": "python"
    }
  },
  "nbformat": 4,
  "nbformat_minor": 0
}
