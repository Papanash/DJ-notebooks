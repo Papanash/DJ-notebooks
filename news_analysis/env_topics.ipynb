{
  "cells": [
    {
      "cell_type": "markdown",
      "metadata": {
        "id": "view-in-github",
        "colab_type": "text"
      },
      "source": [
        "<a href=\"https://colab.research.google.com/github/karthik-muth/DJ-notebooks/blob/master/news_analysis/env_topics.ipynb\" target=\"_parent\"><img src=\"https://colab.research.google.com/assets/colab-badge.svg\" alt=\"Open In Colab\"/></a>"
      ]
    },
    {
      "cell_type": "code",
      "execution_count": 1,
      "metadata": {
        "id": "OKiv8HVY8Hbp"
      },
      "outputs": [],
      "source": [
        "import requests as r\n",
        "import pandas as pd\n",
        "\n",
        "key_param = '&api-key=test'\n",
        "\n",
        "content_api = 'https://content.guardianapis.com/search?' + key_param + '&page-size=200'\n",
        "\n",
        "def get(params):\n",
        "    response = r.get(content_api + params).json().get('response')    \n",
        "    total = response.get('total')\n",
        "    print(total)\n",
        "    result = response.get('results')\n",
        "    return result\n"
      ]
    },
    {
      "cell_type": "markdown",
      "metadata": {
        "id": "9OuM_EcnSEJu"
      },
      "source": [
        "## Top env topics"
      ]
    },
    {
      "cell_type": "code",
      "execution_count": null,
      "metadata": {
        "id": "PIEfpyCE89rH"
      },
      "outputs": [],
      "source": [
        "#+ '&q=' i\n",
        "years_param = '&from-date=2022-05-01&to-date=2022-05-22' # \n",
        "# show-tags = '&show-tags=all'\n",
        "params = years_param + '&section=environment&show-tags=keyword'"
      ]
    },
    {
      "cell_type": "code",
      "execution_count": null,
      "metadata": {
        "id": "MNIld7oB-FMm"
      },
      "outputs": [],
      "source": [
        "env_tags = []\n",
        "other_tags = []\n",
        "tags_count = {}\n",
        "first_tags = []\n",
        "\n",
        "\n",
        "for i in result:\n",
        "    first_tags.append(i.get('tags')[0].get('id'))\n",
        "    \n",
        "    for j in i.get('tags'):\n",
        "       \n",
        "      id = j.get('id')\n",
        "      \n",
        "      if id in tags_count:\n",
        "        tags_count[id] += 1\n",
        "      else:\n",
        "        tags_count[id] = 1\n",
        "\n",
        "\n",
        "  "
      ]
    },
    {
      "cell_type": "code",
      "execution_count": null,
      "metadata": {
        "colab": {
          "base_uri": "https://localhost:8080/"
        },
        "id": "MvcnwIh-Cw80",
        "outputId": "06453234-b042-4442-f6fa-9c87bf8600e8"
      },
      "outputs": [
        {
          "data": {
            "text/plain": [
              "[('environment/environment', 153),\n",
              " ('uk/uk', 64),\n",
              " ('environment/wildlife', 50),\n",
              " ('environment/climate-crisis', 49),\n",
              " ('world/world', 39),\n",
              " ('world/animals', 26),\n",
              " ('environment/conservation', 26),\n",
              " ('australia-news/australia-news', 21),\n",
              " ('uk/ruralaffairs', 21),\n",
              " ('us-news/us-news', 20),\n",
              " ('environment/birds', 19),\n",
              " ('environment/carbon-emissions', 18),\n",
              " ('environment/fossil-fuels', 18),\n",
              " ('environment/pollution', 18),\n",
              " ('business/business', 17),\n",
              " ('environment/energy', 16),\n",
              " ('environment/farming', 15),\n",
              " ('environment/marine-life', 14),\n",
              " ('environment/food', 11),\n",
              " ('science/science', 11)]"
            ]
          },
          "execution_count": 50,
          "metadata": {},
          "output_type": "execute_result"
        }
      ],
      "source": [
        "sorted(tags_count.items(), key=lambda x: x[1], reverse=True)[:20]"
      ]
    },
    {
      "cell_type": "code",
      "execution_count": null,
      "metadata": {
        "colab": {
          "base_uri": "https://localhost:8080/"
        },
        "id": "BbKeuSJFP4vk",
        "outputId": "cbaa8405-f2a7-40d0-f4c2-17ad0066f731"
      },
      "outputs": [
        {
          "data": {
            "text/plain": [
              "163"
            ]
          },
          "execution_count": 45,
          "metadata": {},
          "output_type": "execute_result"
        }
      ],
      "source": [
        "len(first_tags)"
      ]
    },
    {
      "cell_type": "markdown",
      "source": [
        "## Env topic map"
      ],
      "metadata": {
        "id": "sUkkmeCjKqf2"
      }
    },
    {
      "cell_type": "code",
      "execution_count": 139,
      "metadata": {
        "id": "WB2IR_Mw5oFf",
        "outputId": "fb6b2ab8-d802-4646-d314-038c81bfb8d2",
        "colab": {
          "base_uri": "https://localhost:8080/"
        }
      },
      "outputs": [
        {
          "output_type": "stream",
          "name": "stdout",
          "text": [
            "183\n"
          ]
        }
      ],
      "source": [
        "params = '&from-date=2022-05-01&to-date=2022-05-24&section=environment&show-tags=keyword,series'\n",
        "\n",
        "result = get(params)"
      ]
    },
    {
      "cell_type": "code",
      "execution_count": 140,
      "metadata": {
        "id": "lPAt2rKm5oFg"
      },
      "outputs": [],
      "source": [
        "tags_dict = {}\n",
        "\n",
        "for i in result:\n",
        "    tags = i['tags']\n",
        "\n",
        "    first = tags.pop(0)['id'][12:]\n",
        "    if first == 'environment/environment':\n",
        "       first = tags.pop(0).get('id')[12:]\n",
        "\n",
        "    rest = [j['id'][12:]  for j in tags if j['id'].startswith('environment/') and j['id'] != 'environment/environment']       \n",
        "\n",
        "    # tag_dict[first] = rest\n",
        "    if first in tags_dict:\n",
        "      tags_dict[first] = tags_dict[first] + rest\n",
        "    else:\n",
        "      tags_dict[first] = rest\n"
      ]
    },
    {
      "cell_type": "code",
      "source": [
        "list(tags_dict.items())[0]"
      ],
      "metadata": {
        "id": "hj-NCiBGx17_",
        "outputId": "2ea56b4c-fb68-4a74-d779-3673fac6cbba",
        "colab": {
          "base_uri": "https://localhost:8080/"
        }
      },
      "execution_count": 162,
      "outputs": [
        {
          "output_type": "execute_result",
          "data": {
            "text/plain": [
              "('climate-crisis',\n",
              " ['fossil-fuels',\n",
              "  'energy',\n",
              "  'series/climate-crimes',\n",
              "  'carbon-emissions',\n",
              "  'fossil-fuels',\n",
              "  'energy',\n",
              "  'oil',\n",
              "  'series/carbon-bombs-2022',\n",
              "  'series/environmental-investigations',\n",
              "  'logging-and-land-clearing',\n",
              "  'forests',\n",
              "  'carbon-emissions',\n",
              "  'carbon-emissions',\n",
              "  'flooding',\n",
              "  'fossil-fuels',\n",
              "  'carbon-emissions',\n",
              "  'cop27',\n",
              "  'energy',\n",
              "  'carbon-emissions',\n",
              "  'elnino',\n",
              "  'carbon-emissions',\n",
              "  'carbonfootprints'])"
            ]
          },
          "metadata": {},
          "execution_count": 162
        }
      ]
    },
    {
      "cell_type": "code",
      "source": [
        "data = {}\n",
        "for k,v in tags_dict.items():\n",
        "  for i in v:\n",
        "    if (k,i) in data:\n",
        "      data[(k,i)] = data[(k,i)] + 1\n",
        "    else:\n",
        "      data[(k,i)] = 1\n"
      ],
      "metadata": {
        "id": "FL4khVkdK8ac"
      },
      "execution_count": 141,
      "outputs": []
    },
    {
      "cell_type": "code",
      "source": [
        "df = pd.DataFrame(data = {'s' : [x[0] for x in data.keys()], 't' : [x[1] for x in data.keys()], 'v' : data.values()})\n",
        "df"
      ],
      "metadata": {
        "id": "4ZnonjR4Pr01",
        "outputId": "92f56b3d-004a-4b1a-a26b-1e60522e3e63",
        "colab": {
          "base_uri": "https://localhost:8080/",
          "height": 332
        }
      },
      "execution_count": 148,
      "outputs": [
        {
          "output_type": "execute_result",
          "data": {
            "text/plain": [
              "                       s                      t  v\n",
              "0         climate-crisis           fossil-fuels  3\n",
              "1         climate-crisis                 energy  3\n",
              "2         climate-crisis  series/climate-crimes  1\n",
              "3         climate-crisis       carbon-emissions  6\n",
              "4         climate-crisis                    oil  1\n",
              "..                   ...                    ... ..\n",
              "278    series/floodlight         climate-crisis  1\n",
              "279  series/specieswatch                insects  1\n",
              "280  series/specieswatch               wildlife  1\n",
              "281        just-stop-oil               activism  1\n",
              "282        just-stop-oil                    oil  1\n",
              "\n",
              "[283 rows x 3 columns]"
            ],
            "text/html": [
              "\n",
              "  <div id=\"df-4e7178ae-3695-41cf-b536-48d3aef9d81c\">\n",
              "    <div class=\"colab-df-container\">\n",
              "      <div>\n",
              "<style scoped>\n",
              "    .dataframe tbody tr th:only-of-type {\n",
              "        vertical-align: middle;\n",
              "    }\n",
              "\n",
              "    .dataframe tbody tr th {\n",
              "        vertical-align: top;\n",
              "    }\n",
              "\n",
              "    .dataframe thead th {\n",
              "        text-align: right;\n",
              "    }\n",
              "</style>\n",
              "<table border=\"1\" class=\"dataframe\">\n",
              "  <thead>\n",
              "    <tr style=\"text-align: right;\">\n",
              "      <th></th>\n",
              "      <th>s</th>\n",
              "      <th>t</th>\n",
              "      <th>v</th>\n",
              "    </tr>\n",
              "  </thead>\n",
              "  <tbody>\n",
              "    <tr>\n",
              "      <th>0</th>\n",
              "      <td>climate-crisis</td>\n",
              "      <td>fossil-fuels</td>\n",
              "      <td>3</td>\n",
              "    </tr>\n",
              "    <tr>\n",
              "      <th>1</th>\n",
              "      <td>climate-crisis</td>\n",
              "      <td>energy</td>\n",
              "      <td>3</td>\n",
              "    </tr>\n",
              "    <tr>\n",
              "      <th>2</th>\n",
              "      <td>climate-crisis</td>\n",
              "      <td>series/climate-crimes</td>\n",
              "      <td>1</td>\n",
              "    </tr>\n",
              "    <tr>\n",
              "      <th>3</th>\n",
              "      <td>climate-crisis</td>\n",
              "      <td>carbon-emissions</td>\n",
              "      <td>6</td>\n",
              "    </tr>\n",
              "    <tr>\n",
              "      <th>4</th>\n",
              "      <td>climate-crisis</td>\n",
              "      <td>oil</td>\n",
              "      <td>1</td>\n",
              "    </tr>\n",
              "    <tr>\n",
              "      <th>...</th>\n",
              "      <td>...</td>\n",
              "      <td>...</td>\n",
              "      <td>...</td>\n",
              "    </tr>\n",
              "    <tr>\n",
              "      <th>278</th>\n",
              "      <td>series/floodlight</td>\n",
              "      <td>climate-crisis</td>\n",
              "      <td>1</td>\n",
              "    </tr>\n",
              "    <tr>\n",
              "      <th>279</th>\n",
              "      <td>series/specieswatch</td>\n",
              "      <td>insects</td>\n",
              "      <td>1</td>\n",
              "    </tr>\n",
              "    <tr>\n",
              "      <th>280</th>\n",
              "      <td>series/specieswatch</td>\n",
              "      <td>wildlife</td>\n",
              "      <td>1</td>\n",
              "    </tr>\n",
              "    <tr>\n",
              "      <th>281</th>\n",
              "      <td>just-stop-oil</td>\n",
              "      <td>activism</td>\n",
              "      <td>1</td>\n",
              "    </tr>\n",
              "    <tr>\n",
              "      <th>282</th>\n",
              "      <td>just-stop-oil</td>\n",
              "      <td>oil</td>\n",
              "      <td>1</td>\n",
              "    </tr>\n",
              "  </tbody>\n",
              "</table>\n",
              "<p>283 rows × 3 columns</p>\n",
              "</div>\n",
              "      <button class=\"colab-df-convert\" onclick=\"convertToInteractive('df-4e7178ae-3695-41cf-b536-48d3aef9d81c')\"\n",
              "              title=\"Convert this dataframe to an interactive table.\"\n",
              "              style=\"display:none;\">\n",
              "        \n",
              "  <svg xmlns=\"http://www.w3.org/2000/svg\" height=\"24px\"viewBox=\"0 0 24 24\"\n",
              "       width=\"24px\">\n",
              "    <path d=\"M0 0h24v24H0V0z\" fill=\"none\"/>\n",
              "    <path d=\"M18.56 5.44l.94 2.06.94-2.06 2.06-.94-2.06-.94-.94-2.06-.94 2.06-2.06.94zm-11 1L8.5 8.5l.94-2.06 2.06-.94-2.06-.94L8.5 2.5l-.94 2.06-2.06.94zm10 10l.94 2.06.94-2.06 2.06-.94-2.06-.94-.94-2.06-.94 2.06-2.06.94z\"/><path d=\"M17.41 7.96l-1.37-1.37c-.4-.4-.92-.59-1.43-.59-.52 0-1.04.2-1.43.59L10.3 9.45l-7.72 7.72c-.78.78-.78 2.05 0 2.83L4 21.41c.39.39.9.59 1.41.59.51 0 1.02-.2 1.41-.59l7.78-7.78 2.81-2.81c.8-.78.8-2.07 0-2.86zM5.41 20L4 18.59l7.72-7.72 1.47 1.35L5.41 20z\"/>\n",
              "  </svg>\n",
              "      </button>\n",
              "      \n",
              "  <style>\n",
              "    .colab-df-container {\n",
              "      display:flex;\n",
              "      flex-wrap:wrap;\n",
              "      gap: 12px;\n",
              "    }\n",
              "\n",
              "    .colab-df-convert {\n",
              "      background-color: #E8F0FE;\n",
              "      border: none;\n",
              "      border-radius: 50%;\n",
              "      cursor: pointer;\n",
              "      display: none;\n",
              "      fill: #1967D2;\n",
              "      height: 32px;\n",
              "      padding: 0 0 0 0;\n",
              "      width: 32px;\n",
              "    }\n",
              "\n",
              "    .colab-df-convert:hover {\n",
              "      background-color: #E2EBFA;\n",
              "      box-shadow: 0px 1px 2px rgba(60, 64, 67, 0.3), 0px 1px 3px 1px rgba(60, 64, 67, 0.15);\n",
              "      fill: #174EA6;\n",
              "    }\n",
              "\n",
              "    [theme=dark] .colab-df-convert {\n",
              "      background-color: #3B4455;\n",
              "      fill: #D2E3FC;\n",
              "    }\n",
              "\n",
              "    [theme=dark] .colab-df-convert:hover {\n",
              "      background-color: #434B5C;\n",
              "      box-shadow: 0px 1px 3px 1px rgba(0, 0, 0, 0.15);\n",
              "      filter: drop-shadow(0px 1px 2px rgba(0, 0, 0, 0.3));\n",
              "      fill: #FFFFFF;\n",
              "    }\n",
              "  </style>\n",
              "\n",
              "      <script>\n",
              "        const buttonEl =\n",
              "          document.querySelector('#df-4e7178ae-3695-41cf-b536-48d3aef9d81c button.colab-df-convert');\n",
              "        buttonEl.style.display =\n",
              "          google.colab.kernel.accessAllowed ? 'block' : 'none';\n",
              "\n",
              "        async function convertToInteractive(key) {\n",
              "          const element = document.querySelector('#df-4e7178ae-3695-41cf-b536-48d3aef9d81c');\n",
              "          const dataTable =\n",
              "            await google.colab.kernel.invokeFunction('convertToInteractive',\n",
              "                                                     [key], {});\n",
              "          if (!dataTable) return;\n",
              "\n",
              "          const docLinkHtml = 'Like what you see? Visit the ' +\n",
              "            '<a target=\"_blank\" href=https://colab.research.google.com/notebooks/data_table.ipynb>data table notebook</a>'\n",
              "            + ' to learn more about interactive tables.';\n",
              "          element.innerHTML = '';\n",
              "          dataTable['output_type'] = 'display_data';\n",
              "          await google.colab.output.renderOutput(dataTable, element);\n",
              "          const docLink = document.createElement('div');\n",
              "          docLink.innerHTML = docLinkHtml;\n",
              "          element.appendChild(docLink);\n",
              "        }\n",
              "      </script>\n",
              "    </div>\n",
              "  </div>\n",
              "  "
            ]
          },
          "metadata": {},
          "execution_count": 148
        }
      ]
    },
    {
      "cell_type": "code",
      "source": [
        "#list(df.s.unique())\n",
        "list(df[df.v > 1].s.unique())"
      ],
      "metadata": {
        "id": "7IzO9wcosAHw",
        "outputId": "2103e760-e28c-4347-d2fd-424fd4e329af",
        "colab": {
          "base_uri": "https://localhost:8080/"
        }
      },
      "execution_count": 159,
      "outputs": [
        {
          "output_type": "execute_result",
          "data": {
            "text/plain": [
              "['climate-crisis',\n",
              " 'endangeredspecies',\n",
              " 'renewableenergy',\n",
              " 'fossil-fuels',\n",
              " 'series/our-unequal-earth',\n",
              " 'series/the-age-of-extinction',\n",
              " 'series/country-diary',\n",
              " 'birds',\n",
              " 'series/seascape-the-state-of-our-oceans',\n",
              " 'wildlife',\n",
              " 'insects',\n",
              " 'fishing',\n",
              " 'series/pollutionwatch',\n",
              " 'series/animals-farmed',\n",
              " 'pollution',\n",
              " 'food',\n",
              " 'series/temperature-check',\n",
              " 'environment',\n",
              " 'access-to-green-space',\n",
              " 'invasive-species',\n",
              " 'airline-emissions',\n",
              " 'rivers',\n",
              " 'series/carbon-bombs-2022',\n",
              " 'series/climate-crimes']"
            ]
          },
          "metadata": {},
          "execution_count": 159
        }
      ]
    },
    {
      "cell_type": "code",
      "source": [
        "list(df[df.s.str.startswith('series/')].s.unique())"
      ],
      "metadata": {
        "id": "Rko_YcZd0hBA",
        "outputId": "0efb3b79-a447-483c-fffc-15125c3ea739",
        "colab": {
          "base_uri": "https://localhost:8080/"
        }
      },
      "execution_count": 167,
      "outputs": [
        {
          "output_type": "execute_result",
          "data": {
            "text/plain": [
              "['series/our-unequal-earth',\n",
              " 'series/the-age-of-extinction',\n",
              " 'series/weather-tracker',\n",
              " 'series/country-diary',\n",
              " 'series/seascape-the-state-of-our-oceans',\n",
              " 'series/young-country-diary',\n",
              " 'series/the-road-to-kunming',\n",
              " 'series/pollutionwatch',\n",
              " 'series/animals-farmed',\n",
              " 'series/temperature-check',\n",
              " 'series/carbon-bombs-2022',\n",
              " 'series/climate-crimes',\n",
              " 'series/birdwatch',\n",
              " 'series/floodlight',\n",
              " 'series/specieswatch']"
            ]
          },
          "metadata": {},
          "execution_count": 167
        }
      ]
    },
    {
      "cell_type": "markdown",
      "metadata": {
        "id": "d1yB-lBxU84I"
      },
      "source": [
        "## Top env series"
      ]
    },
    {
      "cell_type": "code",
      "execution_count": null,
      "metadata": {
        "colab": {
          "base_uri": "https://localhost:8080/"
        },
        "id": "eR7aDYfHPso7",
        "outputId": "652d32fd-940f-450e-9247-a0a5a184f10a"
      },
      "outputs": [
        {
          "name": "stdout",
          "output_type": "stream",
          "text": [
            "6\n"
          ]
        }
      ],
      "source": [
        "years_param = '&from-date=2022-01-01&to-date=2022-05-22' # \n",
        "\n",
        "params = '&section=environment&show-tags=series'\n",
        "\n",
        "response = r.get(content_api + years_param + params).json().get('response')\n",
        "print(response.get('pages'))\n",
        "\n",
        "tags_count = {}\n",
        "\n",
        "for p in range(1,  response.get('pages') + 1):\n",
        "  response = r.get(content_api + years_param + params + f'&page={p}').json().get('response')\n",
        "  result = response.get('results')\n",
        "\n",
        "  for i in result:\n",
        "      for j in i.get('tags'):\n",
        "        \n",
        "        id = j.get('id')\n",
        "        \n",
        "        if id in tags_count:\n",
        "          tags_count[id] += 1\n",
        "        else:\n",
        "          tags_count[id] = 1"
      ]
    },
    {
      "cell_type": "code",
      "execution_count": null,
      "metadata": {
        "colab": {
          "base_uri": "https://localhost:8080/"
        },
        "id": "qjA40fypUpiV",
        "outputId": "4cce6fb9-959a-48ca-db81-807ebbb84cf2"
      },
      "outputs": [
        {
          "data": {
            "text/plain": [
              "[('environment/series/country-diary', 127),\n",
              " ('environment/series/the-age-of-extinction', 72),\n",
              " ('environment/series/seascape-the-state-of-our-oceans', 53),\n",
              " ('environment/series/our-unequal-earth', 23),\n",
              " ('environment/series/climate-crimes', 19),\n",
              " ('environment/series/animals-farmed', 18),\n",
              " ('environment/series/temperature-check', 17),\n",
              " ('environment/series/young-country-diary', 11),\n",
              " ('commentisfree/series/brief-letters', 9),\n",
              " ('environment/series/pollutionwatch', 9),\n",
              " ('theguardian/series/otherlives', 9),\n",
              " ('environment/series/carbon-bombs-2022', 6),\n",
              " ('environment/series/environmental-investigations', 6),\n",
              " ('environment/series/the-road-to-kunming', 5),\n",
              " ('environment/series/weather-tracker', 5),\n",
              " ('environment/series/birdwatch', 5),\n",
              " ('news/series/weatherwatch', 4),\n",
              " ('lifeandstyle/series/notes-and-queries', 4),\n",
              " ('environment/series/specieswatch', 4),\n",
              " ('environment/series/down-to-earth', 4),\n",
              " ('artanddesign/series/guardian-picture-essay', 3),\n",
              " ('environment/series/floodlight', 3),\n",
              " ('environment/series/covering-climate-now', 2),\n",
              " ('news/series/pass-notes', 2),\n",
              " ('global-development/series/rights-and-freedom', 1),\n",
              " ('us-news/series/americas-dirty-divide', 1),\n",
              " ('global-development/series/opinion--global-development-', 1),\n",
              " ('us-news/series/deepwater-horizon', 1),\n",
              " ('business/series/viewpointcolumn', 1),\n",
              " ('science/series/plantwatch', 1),\n",
              " ('world/series/high-seas', 1),\n",
              " ('lifeandstyle/series/conversations-with-experts', 1),\n",
              " ('news/series/the-long-read', 1),\n",
              " ('society/series/guardian-and-observer-charity-appeal-2021', 1),\n",
              " ('environment/series/biodiversity--what-happened-next-', 1)]"
            ]
          },
          "execution_count": 65,
          "metadata": {},
          "output_type": "execute_result"
        }
      ],
      "source": [
        "sorted(tags_count.items(), key=lambda x: x[1], reverse=True)"
      ]
    },
    {
      "cell_type": "code",
      "execution_count": null,
      "metadata": {
        "id": "4xzeLIDpVjmb"
      },
      "outputs": [],
      "source": [
        ""
      ]
    },
    {
      "cell_type": "code",
      "source": [
        ""
      ],
      "metadata": {
        "id": "fv4L_SelKtZ3"
      },
      "execution_count": null,
      "outputs": []
    }
  ],
  "metadata": {
    "colab": {
      "name": "env_topics.ipynb",
      "provenance": [],
      "include_colab_link": true
    },
    "interpreter": {
      "hash": "e774977668b7c0ae8309835a5187aa7fbf7669e7d0bb59755bc63e573643edcd"
    },
    "kernelspec": {
      "display_name": "Python 3.7.9 64-bit",
      "language": "python",
      "name": "python3"
    },
    "language_info": {
      "codemirror_mode": {
        "name": "ipython",
        "version": 3
      },
      "file_extension": ".py",
      "mimetype": "text/x-python",
      "name": "python",
      "nbconvert_exporter": "python",
      "pygments_lexer": "ipython3",
      "version": "3.7.9"
    }
  },
  "nbformat": 4,
  "nbformat_minor": 0
}