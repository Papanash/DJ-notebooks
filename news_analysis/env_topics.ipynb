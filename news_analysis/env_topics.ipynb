{
  "cells": [
    {
      "cell_type": "markdown",
      "metadata": {
        "colab_type": "text",
        "id": "view-in-github"
      },
      "source": [
        "<a href=\"https://colab.research.google.com/github/karthik-muth/DJ-notebooks/blob/master/news_analysis/env_topics.ipynb\" target=\"_parent\"><img src=\"https://colab.research.google.com/assets/colab-badge.svg\" alt=\"Open In Colab\"/></a>"
      ]
    },
    {
      "cell_type": "code",
      "execution_count": null,
      "metadata": {
        "id": "OKiv8HVY8Hbp"
      },
      "outputs": [
        {
          "ename": "ModuleNotFoundError",
          "evalue": "No module named 'pandas'",
          "output_type": "error",
          "traceback": [
            "\u001b[0;31m---------------------------------------------------------------------------\u001b[0m",
            "\u001b[0;31mModuleNotFoundError\u001b[0m                       Traceback (most recent call last)",
            "\u001b[1;32m/Users/papanash/workspace/DJ-notebooks/news_analysis/env_topics.ipynb Cell 2'\u001b[0m in \u001b[0;36m<cell line: 2>\u001b[0;34m()\u001b[0m\n\u001b[1;32m      <a href='vscode-notebook-cell:/Users/papanash/workspace/DJ-notebooks/news_analysis/env_topics.ipynb#ch0000001?line=0'>1</a>\u001b[0m \u001b[39mimport\u001b[39;00m \u001b[39mrequests\u001b[39;00m \u001b[39mas\u001b[39;00m \u001b[39mr\u001b[39;00m\n\u001b[0;32m----> <a href='vscode-notebook-cell:/Users/papanash/workspace/DJ-notebooks/news_analysis/env_topics.ipynb#ch0000001?line=1'>2</a>\u001b[0m \u001b[39mimport\u001b[39;00m \u001b[39mpandas\u001b[39;00m \u001b[39mas\u001b[39;00m \u001b[39mpd\u001b[39;00m\n\u001b[1;32m      <a href='vscode-notebook-cell:/Users/papanash/workspace/DJ-notebooks/news_analysis/env_topics.ipynb#ch0000001?line=3'>4</a>\u001b[0m key_param \u001b[39m=\u001b[39m \u001b[39m'\u001b[39m\u001b[39m&api-key=test\u001b[39m\u001b[39m'\u001b[39m\n\u001b[1;32m      <a href='vscode-notebook-cell:/Users/papanash/workspace/DJ-notebooks/news_analysis/env_topics.ipynb#ch0000001?line=5'>6</a>\u001b[0m content_api \u001b[39m=\u001b[39m \u001b[39m'\u001b[39m\u001b[39mhttps://content.guardianapis.com/search?\u001b[39m\u001b[39m'\u001b[39m \u001b[39m+\u001b[39m key_param \u001b[39m+\u001b[39m \u001b[39m'\u001b[39m\u001b[39m&page-size=200\u001b[39m\u001b[39m'\u001b[39m\n",
            "\u001b[0;31mModuleNotFoundError\u001b[0m: No module named 'pandas'"
          ]
        }
      ],
      "source": [
        "import requests as r\n",
        "import pandas as pd\n",
        "\n",
        "key_param = '&api-key=test'\n",
        "\n",
        "content_api = 'https://content.guardianapis.com/search?' + key_param + '&page-size=200'\n",
        "\n",
        "def get(params):\n",
        "    response = r.get(content_api + params).json().get('response')    \n",
        "    total = response.get('total')\n",
        "    print(total)\n",
        "    result = response.get('results')\n",
        "    return result\n"
      ]
    },
    {
      "cell_type": "markdown",
      "metadata": {
        "id": "9OuM_EcnSEJu"
      },
      "source": [
        "## Top env topics"
      ]
    },
    {
      "cell_type": "code",
      "execution_count": 36,
      "metadata": {
        "id": "PIEfpyCE89rH"
      },
      "outputs": [],
      "source": [
        "#+ '&q=' i\n",
        "years_param = '&from-date=2022-05-01&to-date=2022-05-22' # \n",
        "# show-tags = '&show-tags=all'\n",
        "params = years_param + '&section=environment&show-tags=keyword'"
      ]
    },
    {
      "cell_type": "code",
      "execution_count": 43,
      "metadata": {
        "id": "MNIld7oB-FMm"
      },
      "outputs": [],
      "source": [
        "env_tags = []\n",
        "other_tags = []\n",
        "tags_count = {}\n",
        "first_tags = []\n",
        "\n",
        "\n",
        "for i in result:\n",
        "    first_tags.append(i.get('tags')[0].get('id'))\n",
        "    \n",
        "    for j in i.get('tags'):\n",
        "       \n",
        "      id = j.get('id')\n",
        "      \n",
        "      if id in tags_count:\n",
        "        tags_count[id] += 1\n",
        "      else:\n",
        "        tags_count[id] = 1\n",
        "\n",
        "\n",
        "  "
      ]
    },
    {
      "cell_type": "code",
      "execution_count": 50,
      "metadata": {
        "colab": {
          "base_uri": "https://localhost:8080/"
        },
        "id": "MvcnwIh-Cw80",
        "outputId": "06453234-b042-4442-f6fa-9c87bf8600e8"
      },
      "outputs": [
        {
          "data": {
            "text/plain": [
              "[('environment/environment', 153),\n",
              " ('uk/uk', 64),\n",
              " ('environment/wildlife', 50),\n",
              " ('environment/climate-crisis', 49),\n",
              " ('world/world', 39),\n",
              " ('world/animals', 26),\n",
              " ('environment/conservation', 26),\n",
              " ('australia-news/australia-news', 21),\n",
              " ('uk/ruralaffairs', 21),\n",
              " ('us-news/us-news', 20),\n",
              " ('environment/birds', 19),\n",
              " ('environment/carbon-emissions', 18),\n",
              " ('environment/fossil-fuels', 18),\n",
              " ('environment/pollution', 18),\n",
              " ('business/business', 17),\n",
              " ('environment/energy', 16),\n",
              " ('environment/farming', 15),\n",
              " ('environment/marine-life', 14),\n",
              " ('environment/food', 11),\n",
              " ('science/science', 11)]"
            ]
          },
          "execution_count": 50,
          "metadata": {},
          "output_type": "execute_result"
        }
      ],
      "source": [
        "sorted(tags_count.items(), key=lambda x: x[1], reverse=True)[:20]"
      ]
    },
    {
      "cell_type": "code",
      "execution_count": 45,
      "metadata": {
        "colab": {
          "base_uri": "https://localhost:8080/"
        },
        "id": "BbKeuSJFP4vk",
        "outputId": "cbaa8405-f2a7-40d0-f4c2-17ad0066f731"
      },
      "outputs": [
        {
          "data": {
            "text/plain": [
              "163"
            ]
          },
          "execution_count": 45,
          "metadata": {},
          "output_type": "execute_result"
        }
      ],
      "source": [
        "len(first_tags)"
      ]
    },
    {
      "cell_type": "code",
      "execution_count": null,
      "metadata": {},
      "outputs": [],
      "source": [
        "params = '&from-date=2022-05-24&to-date=2022-05-24&section=environment&show-tags=keyword'\n",
        "\n",
        "result = get(params)"
      ]
    },
    {
      "cell_type": "code",
      "execution_count": 1,
      "metadata": {},
      "outputs": [
        {
          "ename": "NameError",
          "evalue": "name 'tags_count' is not defined",
          "output_type": "error",
          "traceback": [
            "\u001b[0;31m---------------------------------------------------------------------------\u001b[0m",
            "\u001b[0;31mNameError\u001b[0m                                 Traceback (most recent call last)",
            "\u001b[1;32m/Users/papanash/workspace/DJ-notebooks/news_analysis/env_topics.ipynb Cell 9'\u001b[0m in \u001b[0;36m<cell line: 1>\u001b[0;34m()\u001b[0m\n\u001b[0;32m----> <a href='vscode-notebook-cell:/Users/papanash/workspace/DJ-notebooks/news_analysis/env_topics.ipynb#ch0000012?line=0'>1</a>\u001b[0m \u001b[39mlen\u001b[39m(tags_count)\n",
            "\u001b[0;31mNameError\u001b[0m: name 'tags_count' is not defined"
          ]
        }
      ],
      "source": [
        "\n",
        "env_tags = {}\n",
        "other_tags = []\n",
        "\n",
        "for i in result:\n",
        "    tags = i.get('tags')\n",
        "    first = tags.pop().get('id')\n",
        "\n",
        "    for j in tags:       \n",
        "      other_tags.append(j.get('id'))\n",
        "\n",
        "\n",
        "if first in env_tags:\n",
        "  env_tags[first] = other_tags\n",
        "else:\n",
        "  env_tags[first] = 1"
      ]
    },
    {
      "cell_type": "markdown",
      "metadata": {
        "id": "d1yB-lBxU84I"
      },
      "source": [
        "## Top env series"
      ]
    },
    {
      "cell_type": "code",
      "execution_count": 64,
      "metadata": {
        "colab": {
          "base_uri": "https://localhost:8080/"
        },
        "id": "eR7aDYfHPso7",
        "outputId": "652d32fd-940f-450e-9247-a0a5a184f10a"
      },
      "outputs": [
        {
          "name": "stdout",
          "output_type": "stream",
          "text": [
            "6\n"
          ]
        }
      ],
      "source": [
        "years_param = '&from-date=2022-01-01&to-date=2022-05-22' # \n",
        "\n",
        "params = '&section=environment&show-tags=series'\n",
        "\n",
        "response = r.get(content_api + years_param + params).json().get('response')\n",
        "print(response.get('pages'))\n",
        "\n",
        "tags_count = {}\n",
        "\n",
        "for p in range(1,  response.get('pages') + 1):\n",
        "  response = r.get(content_api + years_param + params + f'&page={p}').json().get('response')\n",
        "  result = response.get('results')\n",
        "\n",
        "  for i in result:\n",
        "      for j in i.get('tags'):\n",
        "        \n",
        "        id = j.get('id')\n",
        "        \n",
        "        if id in tags_count:\n",
        "          tags_count[id] += 1\n",
        "        else:\n",
        "          tags_count[id] = 1"
      ]
    },
    {
      "cell_type": "code",
      "execution_count": 65,
      "metadata": {
        "colab": {
          "base_uri": "https://localhost:8080/"
        },
        "id": "qjA40fypUpiV",
        "outputId": "4cce6fb9-959a-48ca-db81-807ebbb84cf2"
      },
      "outputs": [
        {
          "data": {
            "text/plain": [
              "[('environment/series/country-diary', 127),\n",
              " ('environment/series/the-age-of-extinction', 72),\n",
              " ('environment/series/seascape-the-state-of-our-oceans', 53),\n",
              " ('environment/series/our-unequal-earth', 23),\n",
              " ('environment/series/climate-crimes', 19),\n",
              " ('environment/series/animals-farmed', 18),\n",
              " ('environment/series/temperature-check', 17),\n",
              " ('environment/series/young-country-diary', 11),\n",
              " ('commentisfree/series/brief-letters', 9),\n",
              " ('environment/series/pollutionwatch', 9),\n",
              " ('theguardian/series/otherlives', 9),\n",
              " ('environment/series/carbon-bombs-2022', 6),\n",
              " ('environment/series/environmental-investigations', 6),\n",
              " ('environment/series/the-road-to-kunming', 5),\n",
              " ('environment/series/weather-tracker', 5),\n",
              " ('environment/series/birdwatch', 5),\n",
              " ('news/series/weatherwatch', 4),\n",
              " ('lifeandstyle/series/notes-and-queries', 4),\n",
              " ('environment/series/specieswatch', 4),\n",
              " ('environment/series/down-to-earth', 4),\n",
              " ('artanddesign/series/guardian-picture-essay', 3),\n",
              " ('environment/series/floodlight', 3),\n",
              " ('environment/series/covering-climate-now', 2),\n",
              " ('news/series/pass-notes', 2),\n",
              " ('global-development/series/rights-and-freedom', 1),\n",
              " ('us-news/series/americas-dirty-divide', 1),\n",
              " ('global-development/series/opinion--global-development-', 1),\n",
              " ('us-news/series/deepwater-horizon', 1),\n",
              " ('business/series/viewpointcolumn', 1),\n",
              " ('science/series/plantwatch', 1),\n",
              " ('world/series/high-seas', 1),\n",
              " ('lifeandstyle/series/conversations-with-experts', 1),\n",
              " ('news/series/the-long-read', 1),\n",
              " ('society/series/guardian-and-observer-charity-appeal-2021', 1),\n",
              " ('environment/series/biodiversity--what-happened-next-', 1)]"
            ]
          },
          "execution_count": 65,
          "metadata": {},
          "output_type": "execute_result"
        }
      ],
      "source": [
        "sorted(tags_count.items(), key=lambda x: x[1], reverse=True)"
      ]
    },
    {
      "cell_type": "code",
      "execution_count": null,
      "metadata": {
        "id": "4xzeLIDpVjmb"
      },
      "outputs": [],
      "source": []
    }
  ],
  "metadata": {
    "colab": {
      "authorship_tag": "ABX9TyMw0O5OhvzaAFD2akwgYCgK",
      "include_colab_link": true,
      "name": "env_topics.ipynb",
      "provenance": []
    },
    "interpreter": {
      "hash": "e774977668b7c0ae8309835a5187aa7fbf7669e7d0bb59755bc63e573643edcd"
    },
    "kernelspec": {
      "display_name": "Python 3.7.9 64-bit",
      "language": "python",
      "name": "python3"
    },
    "language_info": {
      "codemirror_mode": {
        "name": "ipython",
        "version": 3
      },
      "file_extension": ".py",
      "mimetype": "text/x-python",
      "name": "python",
      "nbconvert_exporter": "python",
      "pygments_lexer": "ipython3",
      "version": "3.7.9"
    }
  },
  "nbformat": 4,
  "nbformat_minor": 0
}
