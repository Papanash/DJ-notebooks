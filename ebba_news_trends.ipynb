{
  "nbformat": 4,
  "nbformat_minor": 0,
  "metadata": {
    "colab": {
      "name": "ebba_news_trends.ipynb",
      "provenance": [],
      "collapsed_sections": [],
      "authorship_tag": "ABX9TyOUnIx14A3SfFPyX/elp7s8"
    },
    "kernelspec": {
      "name": "python3",
      "display_name": "Python 3"
    },
    "language_info": {
      "name": "python"
    }
  },
  "cells": [
    {
      "cell_type": "code",
      "execution_count": null,
      "metadata": {
        "colab": {
          "base_uri": "https://localhost:8080/"
        },
        "id": "X09OFtWipaOh",
        "outputId": "6524c2b7-130c-4cfa-913d-daeaea919e75"
      },
      "outputs": [
        {
          "output_type": "execute_result",
          "data": {
            "text/plain": [
              "{'Annie Lööf': 60,\n",
              " 'Ebba Busch': 69,\n",
              " 'Jimmie Åkesson': 63,\n",
              " 'Johan Pehrson': 62,\n",
              " 'Magdalena Andersson': 176,\n",
              " 'Märta Stenevi': 41,\n",
              " 'Nooshi Dadgostar': 26,\n",
              " 'Per Bolund': 37,\n",
              " 'Ulf Kristersson': 115}"
            ]
          },
          "metadata": {},
          "execution_count": 1
        }
      ],
      "source": [
        "import requests\n",
        "\n",
        "url = \"https://newsapi.org/v2/everything?apiKey=&language=sv&q=\"\n",
        "\n",
        "#@title Default title text { display-mode: \"code\" }\n",
        "leaders = ['Magdalena Andersson',\n",
        "'Ulf Kristersson',\n",
        "'Jimmie Åkesson',\n",
        "'Annie Lööf',\n",
        "'Nooshi Dadgostar',\n",
        "'Ebba Busch',\n",
        "'Johan Pehrson',\n",
        "'Märta Stenevi',\n",
        "'Per Bolund']\n",
        "\n",
        "l_dict = {}\n",
        "\n",
        "for i in leaders:\n",
        "  response = requests.request(\"GET\", url + i)\n",
        "  l_dict[i] = response.json()[\"totalResults\"]\n",
        "\n",
        "l_dict"
      ]
    },
    {
      "cell_type": "code",
      "source": [
        "url = 'https://newsapi.org/v2/top-headlines?apiKey=&language=sv'\n",
        "\n",
        "\n",
        "response = requests.request(\"GET\", url)\n",
        "\n",
        "print(response.json()[\"totalResults\"])\n",
        "\n",
        "sources = []\n",
        "\n",
        "for i in response.json()[\"articles\"]:\n",
        "  sources.append(i[\"source\"][\"name\"]) \n",
        "sources"
      ],
      "metadata": {
        "colab": {
          "base_uri": "https://localhost:8080/"
        },
        "id": "CfQ4AhfypbBU",
        "outputId": "aa842eb0-85d0-4118-e4fb-cdbc2c1264b6"
      },
      "execution_count": null,
      "outputs": [
        {
          "output_type": "stream",
          "name": "stdout",
          "text": [
            "33\n"
          ]
        },
        {
          "output_type": "execute_result",
          "data": {
            "text/plain": [
              "['Svenska Dagbladet',\n",
              " 'Www.svt.se',\n",
              " 'Www.dn.se',\n",
              " 'Www.svt.se',\n",
              " 'Göteborgs-Posten',\n",
              " 'Svenska Dagbladet',\n",
              " 'Unt.se',\n",
              " 'Www.dn.se',\n",
              " 'Sydsvenskan.se',\n",
              " 'Feber.se',\n",
              " 'Göteborgs-Posten',\n",
              " 'Sydsvenskan.se',\n",
              " 'Svenska Dagbladet',\n",
              " 'Www.svt.se',\n",
              " 'Göteborgs-Posten',\n",
              " 'Ljudochbild.se',\n",
              " 'Expressen.se',\n",
              " 'Göteborgs-Posten',\n",
              " 'Sydsvenskan.se',\n",
              " 'Www.dn.se']"
            ]
          },
          "metadata": {},
          "execution_count": 12
        }
      ]
    },
    {
      "cell_type": "code",
      "source": [
        "set(sources)"
      ],
      "metadata": {
        "colab": {
          "base_uri": "https://localhost:8080/"
        },
        "id": "16DqLuX5r0wW",
        "outputId": "df6577b3-fd1f-4493-b5fb-86a550e60c7b"
      },
      "execution_count": null,
      "outputs": [
        {
          "output_type": "execute_result",
          "data": {
            "text/plain": [
              "{'Expressen.se',\n",
              " 'Feber.se',\n",
              " 'Göteborgs-Posten',\n",
              " 'Ljudochbild.se',\n",
              " 'Svenska Dagbladet',\n",
              " 'Sydsvenskan.se',\n",
              " 'Unt.se',\n",
              " 'Www.dn.se',\n",
              " 'Www.svt.se'}"
            ]
          },
          "metadata": {},
          "execution_count": 13
        }
      ]
    },
    {
      "cell_type": "code",
      "source": [
        ""
      ],
      "metadata": {
        "id": "sVz4EvS3r11C"
      },
      "execution_count": null,
      "outputs": []
    }
  ]
}